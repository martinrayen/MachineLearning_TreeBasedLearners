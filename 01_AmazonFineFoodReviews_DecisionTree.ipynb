{
 "cells": [
  {
   "cell_type": "markdown",
   "metadata": {
    "colab_type": "text",
    "id": "IXmtUCbYiWM3"
   },
   "source": [
    "# Amazon Fine Food Reviews Analysis\n",
    "\n",
    "\n",
    "Data Source: https://www.kaggle.com/snap/amazon-fine-food-reviews <br>\n",
    "\n",
    "EDA: https://nycdatascience.com/blog/student-works/amazon-fine-foods-visualization/\n",
    "\n",
    "\n",
    "The Amazon Fine Food Reviews dataset consists of reviews of fine foods from Amazon.<br>\n",
    "\n",
    "Number of reviews: 568,454<br>\n",
    "Number of users: 256,059<br>\n",
    "Number of products: 74,258<br>\n",
    "Timespan: Oct 1999 - Oct 2012<br>\n",
    "Number of Attributes/Columns in data: 10 \n",
    "\n",
    "Attribute Information:\n",
    "\n",
    "1. Id\n",
    "2. ProductId - unique identifier for the product\n",
    "3. UserId - unqiue identifier for the user\n",
    "4. ProfileName\n",
    "5. HelpfulnessNumerator - number of users who found the review helpful\n",
    "6. HelpfulnessDenominator - number of users who indicated whether they found the review helpful or not\n",
    "7. Score - rating between 1 and 5\n",
    "8. Time - timestamp for the review\n",
    "9. Summary - brief summary of the review\n",
    "10. Text - text of the review\n",
    "\n",
    "\n",
    "#### Objective:\n",
    "Given a review, determine whether the review is positive (rating of 4 or 5) or negative (rating of 1 or 2).\n",
    "\n",
    "<br>\n",
    "[Q] How to determine if a review is positive or negative?<br>\n",
    "<br> \n",
    "[Ans] We could use Score/Rating. A rating of 4 or 5 can be cosnidered as a positive review. A rating of 1 or 2 can be considered as negative one. A review of rating 3 is considered nuetral and such reviews are ignored from our analysis. This is an approximate and proxy way of determining the polarity (positivity/negativity) of a review.\n",
    "\n",
    "\n"
   ]
  },
  {
   "cell_type": "markdown",
   "metadata": {
    "colab_type": "text",
    "id": "syeYHDR_iWM7"
   },
   "source": [
    "# [1]. Reading Data"
   ]
  },
  {
   "cell_type": "markdown",
   "metadata": {
    "colab_type": "text",
    "id": "D_eZrQC0iWM9"
   },
   "source": [
    "## [1.1] Loading the data\n",
    "\n",
    "The dataset is available in two forms\n",
    "1. .csv file\n",
    "2. SQLite Database\n",
    "\n",
    "In order to load the data, We have used the SQLITE dataset as it is easier to query the data and visualise the data efficiently.\n",
    "<br> \n",
    "\n",
    "Here as we only want to get the global sentiment of the recommendations (positive or negative), we will purposefully ignore all Scores equal to 3. If the score is above 3, then the recommendation wil be set to \"positive\". Otherwise, it will be set to \"negative\"."
   ]
  },
  {
   "cell_type": "code",
   "execution_count": 1,
   "metadata": {
    "colab": {},
    "colab_type": "code",
    "id": "53fLFqf8iWNA"
   },
   "outputs": [
    {
     "name": "stdout",
     "output_type": "stream",
     "text": [
      "Collecting https://pypi.python.org/packages/source/P/PrettyTable/prettytable-0.7.2.tar.bz2\n",
      "  Using cached prettytable-0.7.2.tar.bz2\n",
      "  Requirement already satisfied (use --upgrade to upgrade): prettytable==0.7.2 from https://pypi.python.org/packages/source/P/PrettyTable/prettytable-0.7.2.tar.bz2 in c:\\programdata\\anaconda3\\lib\\site-packages\n",
      "Building wheels for collected packages: prettytable\n",
      "  Running setup.py bdist_wheel for prettytable: started\n",
      "  Running setup.py bdist_wheel for prettytable: finished with status 'done'\n",
      "  Stored in directory: C:\\Users\\Vijay Joseph\\AppData\\Local\\pip\\Cache\\wheels\\29\\73\\c9\\3e063a66859af18585f8e1439f92dcc27b8c13ae400bb8c89e\n",
      "Successfully built prettytable\n"
     ]
    },
    {
     "name": "stderr",
     "output_type": "stream",
     "text": [
      "You are using pip version 9.0.1, however version 19.0.1 is available.\n",
      "You should consider upgrading via the 'python -m pip install --upgrade pip' command.\n"
     ]
    }
   ],
   "source": [
    "%matplotlib inline\n",
    "import warnings\n",
    "warnings.filterwarnings(\"ignore\")\n",
    "\n",
    "\n",
    "import sqlite3\n",
    "import pandas as pd\n",
    "import numpy as np\n",
    "import nltk\n",
    "import string\n",
    "import matplotlib.pyplot as plt\n",
    "import seaborn as sns\n",
    "from sklearn.feature_extraction.text import TfidfTransformer\n",
    "from sklearn.feature_extraction.text import TfidfVectorizer\n",
    "\n",
    "from sklearn.feature_extraction.text import CountVectorizer\n",
    "from sklearn.metrics import confusion_matrix\n",
    "from sklearn import metrics\n",
    "from sklearn.metrics import roc_curve, auc\n",
    "from nltk.stem.porter import PorterStemmer\n",
    "\n",
    "import re\n",
    "# Tutorial about Python regular expressions: https://pymotw.com/2/re/\n",
    "import string\n",
    "from nltk.corpus import stopwords\n",
    "from nltk.stem import PorterStemmer\n",
    "from nltk.stem.wordnet import WordNetLemmatizer\n",
    "\n",
    "from gensim.models import Word2Vec\n",
    "from gensim.models import KeyedVectors\n",
    "import pickle\n",
    "\n",
    "from tqdm import tqdm\n",
    "import os\n",
    "\n",
    "# Install prettytable\n",
    "import sys\n",
    "!{sys.executable} -m pip install https://pypi.python.org/packages/source/P/PrettyTable/prettytable-0.7.2.tar.bz2\n"
   ]
  },
  {
   "cell_type": "code",
   "execution_count": null,
   "metadata": {},
   "outputs": [],
   "source": []
  },
  {
   "cell_type": "code",
   "execution_count": 2,
   "metadata": {
    "colab": {},
    "colab_type": "code",
    "id": "j3kshrC-iWNI",
    "outputId": "07826916-2c3f-4a0a-e928-ddbc6d567a11"
   },
   "outputs": [
    {
     "name": "stdout",
     "output_type": "stream",
     "text": [
      "Number of data points in our data (525814, 10)\n"
     ]
    },
    {
     "data": {
      "text/html": [
       "<div>\n",
       "<style scoped>\n",
       "    .dataframe tbody tr th:only-of-type {\n",
       "        vertical-align: middle;\n",
       "    }\n",
       "\n",
       "    .dataframe tbody tr th {\n",
       "        vertical-align: top;\n",
       "    }\n",
       "\n",
       "    .dataframe thead th {\n",
       "        text-align: right;\n",
       "    }\n",
       "</style>\n",
       "<table border=\"1\" class=\"dataframe\">\n",
       "  <thead>\n",
       "    <tr style=\"text-align: right;\">\n",
       "      <th></th>\n",
       "      <th>Id</th>\n",
       "      <th>ProductId</th>\n",
       "      <th>UserId</th>\n",
       "      <th>ProfileName</th>\n",
       "      <th>HelpfulnessNumerator</th>\n",
       "      <th>HelpfulnessDenominator</th>\n",
       "      <th>Score</th>\n",
       "      <th>Time</th>\n",
       "      <th>Summary</th>\n",
       "      <th>Text</th>\n",
       "    </tr>\n",
       "  </thead>\n",
       "  <tbody>\n",
       "    <tr>\n",
       "      <th>0</th>\n",
       "      <td>1</td>\n",
       "      <td>B001E4KFG0</td>\n",
       "      <td>A3SGXH7AUHU8GW</td>\n",
       "      <td>delmartian</td>\n",
       "      <td>1</td>\n",
       "      <td>1</td>\n",
       "      <td>1</td>\n",
       "      <td>1303862400</td>\n",
       "      <td>Good Quality Dog Food</td>\n",
       "      <td>I have bought several of the Vitality canned d...</td>\n",
       "    </tr>\n",
       "    <tr>\n",
       "      <th>1</th>\n",
       "      <td>2</td>\n",
       "      <td>B00813GRG4</td>\n",
       "      <td>A1D87F6ZCVE5NK</td>\n",
       "      <td>dll pa</td>\n",
       "      <td>0</td>\n",
       "      <td>0</td>\n",
       "      <td>0</td>\n",
       "      <td>1346976000</td>\n",
       "      <td>Not as Advertised</td>\n",
       "      <td>Product arrived labeled as Jumbo Salted Peanut...</td>\n",
       "    </tr>\n",
       "    <tr>\n",
       "      <th>2</th>\n",
       "      <td>3</td>\n",
       "      <td>B000LQOCH0</td>\n",
       "      <td>ABXLMWJIXXAIN</td>\n",
       "      <td>Natalia Corres \"Natalia Corres\"</td>\n",
       "      <td>1</td>\n",
       "      <td>1</td>\n",
       "      <td>1</td>\n",
       "      <td>1219017600</td>\n",
       "      <td>\"Delight\" says it all</td>\n",
       "      <td>This is a confection that has been around a fe...</td>\n",
       "    </tr>\n",
       "  </tbody>\n",
       "</table>\n",
       "</div>"
      ],
      "text/plain": [
       "   Id   ProductId          UserId                      ProfileName  \\\n",
       "0   1  B001E4KFG0  A3SGXH7AUHU8GW                       delmartian   \n",
       "1   2  B00813GRG4  A1D87F6ZCVE5NK                           dll pa   \n",
       "2   3  B000LQOCH0   ABXLMWJIXXAIN  Natalia Corres \"Natalia Corres\"   \n",
       "\n",
       "   HelpfulnessNumerator  HelpfulnessDenominator  Score        Time  \\\n",
       "0                     1                       1      1  1303862400   \n",
       "1                     0                       0      0  1346976000   \n",
       "2                     1                       1      1  1219017600   \n",
       "\n",
       "                 Summary                                               Text  \n",
       "0  Good Quality Dog Food  I have bought several of the Vitality canned d...  \n",
       "1      Not as Advertised  Product arrived labeled as Jumbo Salted Peanut...  \n",
       "2  \"Delight\" says it all  This is a confection that has been around a fe...  "
      ]
     },
     "execution_count": 2,
     "metadata": {},
     "output_type": "execute_result"
    }
   ],
   "source": [
    "# using SQLite Table to read data.\n",
    "con = sqlite3.connect('database.sqlite') \n",
    "\n",
    "# filtering only positive and negative reviews i.e. \n",
    "# not taking into consideration those reviews with Score=3\n",
    "# SELECT * FROM Reviews WHERE Score != 3 LIMIT 500000, will give top 500000 data points\n",
    "# you can change the number to any other number based on your computing power\n",
    "\n",
    "# filtered_data = pd.read_sql_query(\"\"\" SELECT * FROM Reviews WHERE Score != 3 LIMIT 500000\"\"\", con) \n",
    "# for tsne assignment you can take 5k data points\n",
    "\n",
    "filtered_data = pd.read_sql_query(\"\"\" SELECT * FROM Reviews WHERE Score != 3 \"\"\", con) \n",
    "\n",
    "# Give reviews with Score>3 a positive rating(1), and reviews with a score<3 a negative rating(0).\n",
    "def partition(x):\n",
    "    if x < 3:\n",
    "        return 0\n",
    "    return 1\n",
    "\n",
    "#changing reviews with score less than 3 to be positive and vice-versa\n",
    "actualScore = filtered_data['Score']\n",
    "positiveNegative = actualScore.map(partition) \n",
    "filtered_data['Score'] = positiveNegative\n",
    "print(\"Number of data points in our data\", filtered_data.shape)\n",
    "filtered_data.head(3)"
   ]
  },
  {
   "cell_type": "code",
   "execution_count": 3,
   "metadata": {
    "colab": {},
    "colab_type": "code",
    "id": "-7Iy8yWfiWNR"
   },
   "outputs": [],
   "source": [
    "display = pd.read_sql_query(\"\"\"\n",
    "SELECT UserId, ProductId, ProfileName, Time, Score, Text, COUNT(*)\n",
    "FROM Reviews\n",
    "GROUP BY UserId\n",
    "HAVING COUNT(*)>1\n",
    "\"\"\", con)"
   ]
  },
  {
   "cell_type": "code",
   "execution_count": 4,
   "metadata": {
    "colab": {},
    "colab_type": "code",
    "id": "wuK6OYpOiWNV",
    "outputId": "5cb5082e-47b9-4d4b-cf90-fc6ffe0dceeb",
    "scrolled": true
   },
   "outputs": [
    {
     "name": "stdout",
     "output_type": "stream",
     "text": [
      "(80668, 7)\n"
     ]
    },
    {
     "data": {
      "text/html": [
       "<div>\n",
       "<style scoped>\n",
       "    .dataframe tbody tr th:only-of-type {\n",
       "        vertical-align: middle;\n",
       "    }\n",
       "\n",
       "    .dataframe tbody tr th {\n",
       "        vertical-align: top;\n",
       "    }\n",
       "\n",
       "    .dataframe thead th {\n",
       "        text-align: right;\n",
       "    }\n",
       "</style>\n",
       "<table border=\"1\" class=\"dataframe\">\n",
       "  <thead>\n",
       "    <tr style=\"text-align: right;\">\n",
       "      <th></th>\n",
       "      <th>UserId</th>\n",
       "      <th>ProductId</th>\n",
       "      <th>ProfileName</th>\n",
       "      <th>Time</th>\n",
       "      <th>Score</th>\n",
       "      <th>Text</th>\n",
       "      <th>COUNT(*)</th>\n",
       "    </tr>\n",
       "  </thead>\n",
       "  <tbody>\n",
       "    <tr>\n",
       "      <th>0</th>\n",
       "      <td>#oc-R115TNMSPFT9I7</td>\n",
       "      <td>B007Y59HVM</td>\n",
       "      <td>Breyton</td>\n",
       "      <td>1331510400</td>\n",
       "      <td>2</td>\n",
       "      <td>Overall its just OK when considering the price...</td>\n",
       "      <td>2</td>\n",
       "    </tr>\n",
       "    <tr>\n",
       "      <th>1</th>\n",
       "      <td>#oc-R11D9D7SHXIJB9</td>\n",
       "      <td>B005HG9ET0</td>\n",
       "      <td>Louis E. Emory \"hoppy\"</td>\n",
       "      <td>1342396800</td>\n",
       "      <td>5</td>\n",
       "      <td>My wife has recurring extreme muscle spasms, u...</td>\n",
       "      <td>3</td>\n",
       "    </tr>\n",
       "    <tr>\n",
       "      <th>2</th>\n",
       "      <td>#oc-R11DNU2NBKQ23Z</td>\n",
       "      <td>B007Y59HVM</td>\n",
       "      <td>Kim Cieszykowski</td>\n",
       "      <td>1348531200</td>\n",
       "      <td>1</td>\n",
       "      <td>This coffee is horrible and unfortunately not ...</td>\n",
       "      <td>2</td>\n",
       "    </tr>\n",
       "    <tr>\n",
       "      <th>3</th>\n",
       "      <td>#oc-R11O5J5ZVQE25C</td>\n",
       "      <td>B005HG9ET0</td>\n",
       "      <td>Penguin Chick</td>\n",
       "      <td>1346889600</td>\n",
       "      <td>5</td>\n",
       "      <td>This will be the bottle that you grab from the...</td>\n",
       "      <td>3</td>\n",
       "    </tr>\n",
       "    <tr>\n",
       "      <th>4</th>\n",
       "      <td>#oc-R12KPBODL2B5ZD</td>\n",
       "      <td>B007OSBE1U</td>\n",
       "      <td>Christopher P. Presta</td>\n",
       "      <td>1348617600</td>\n",
       "      <td>1</td>\n",
       "      <td>I didnt like this coffee. Instead of telling y...</td>\n",
       "      <td>2</td>\n",
       "    </tr>\n",
       "  </tbody>\n",
       "</table>\n",
       "</div>"
      ],
      "text/plain": [
       "               UserId   ProductId             ProfileName        Time  Score  \\\n",
       "0  #oc-R115TNMSPFT9I7  B007Y59HVM                 Breyton  1331510400      2   \n",
       "1  #oc-R11D9D7SHXIJB9  B005HG9ET0  Louis E. Emory \"hoppy\"  1342396800      5   \n",
       "2  #oc-R11DNU2NBKQ23Z  B007Y59HVM        Kim Cieszykowski  1348531200      1   \n",
       "3  #oc-R11O5J5ZVQE25C  B005HG9ET0           Penguin Chick  1346889600      5   \n",
       "4  #oc-R12KPBODL2B5ZD  B007OSBE1U   Christopher P. Presta  1348617600      1   \n",
       "\n",
       "                                                Text  COUNT(*)  \n",
       "0  Overall its just OK when considering the price...         2  \n",
       "1  My wife has recurring extreme muscle spasms, u...         3  \n",
       "2  This coffee is horrible and unfortunately not ...         2  \n",
       "3  This will be the bottle that you grab from the...         3  \n",
       "4  I didnt like this coffee. Instead of telling y...         2  "
      ]
     },
     "execution_count": 4,
     "metadata": {},
     "output_type": "execute_result"
    }
   ],
   "source": [
    "print(display.shape)\n",
    "display.head()"
   ]
  },
  {
   "cell_type": "code",
   "execution_count": 5,
   "metadata": {
    "colab": {},
    "colab_type": "code",
    "id": "OMKVKkH7iWNZ",
    "outputId": "acc9d31a-27a1-48a1-d2f2-ce1f2e511793"
   },
   "outputs": [
    {
     "data": {
      "text/html": [
       "<div>\n",
       "<style scoped>\n",
       "    .dataframe tbody tr th:only-of-type {\n",
       "        vertical-align: middle;\n",
       "    }\n",
       "\n",
       "    .dataframe tbody tr th {\n",
       "        vertical-align: top;\n",
       "    }\n",
       "\n",
       "    .dataframe thead th {\n",
       "        text-align: right;\n",
       "    }\n",
       "</style>\n",
       "<table border=\"1\" class=\"dataframe\">\n",
       "  <thead>\n",
       "    <tr style=\"text-align: right;\">\n",
       "      <th></th>\n",
       "      <th>UserId</th>\n",
       "      <th>ProductId</th>\n",
       "      <th>ProfileName</th>\n",
       "      <th>Time</th>\n",
       "      <th>Score</th>\n",
       "      <th>Text</th>\n",
       "      <th>COUNT(*)</th>\n",
       "    </tr>\n",
       "  </thead>\n",
       "  <tbody>\n",
       "    <tr>\n",
       "      <th>80638</th>\n",
       "      <td>AZY10LLTJ71NX</td>\n",
       "      <td>B006P7E5ZI</td>\n",
       "      <td>undertheshrine \"undertheshrine\"</td>\n",
       "      <td>1334707200</td>\n",
       "      <td>5</td>\n",
       "      <td>I was recommended to try green tea extract to ...</td>\n",
       "      <td>5</td>\n",
       "    </tr>\n",
       "  </tbody>\n",
       "</table>\n",
       "</div>"
      ],
      "text/plain": [
       "              UserId   ProductId                      ProfileName        Time  \\\n",
       "80638  AZY10LLTJ71NX  B006P7E5ZI  undertheshrine \"undertheshrine\"  1334707200   \n",
       "\n",
       "       Score                                               Text  COUNT(*)  \n",
       "80638      5  I was recommended to try green tea extract to ...         5  "
      ]
     },
     "execution_count": 5,
     "metadata": {},
     "output_type": "execute_result"
    }
   ],
   "source": [
    "display[display['UserId']=='AZY10LLTJ71NX']"
   ]
  },
  {
   "cell_type": "code",
   "execution_count": 6,
   "metadata": {
    "colab": {},
    "colab_type": "code",
    "id": "s37uqS_jiWNe",
    "outputId": "489f08d4-48a2-4e82-bfc1-4f982f35b2e4"
   },
   "outputs": [
    {
     "data": {
      "text/plain": [
       "393063"
      ]
     },
     "execution_count": 6,
     "metadata": {},
     "output_type": "execute_result"
    }
   ],
   "source": [
    "display['COUNT(*)'].sum()"
   ]
  },
  {
   "cell_type": "markdown",
   "metadata": {
    "colab_type": "text",
    "id": "efnNNqNfiWNh"
   },
   "source": [
    "#  [2] Exploratory Data Analysis"
   ]
  },
  {
   "cell_type": "markdown",
   "metadata": {
    "colab_type": "text",
    "id": "Eq0hnbxhiWNi"
   },
   "source": [
    "## [2.1] Data Cleaning: Deduplication\n",
    "\n",
    "It is observed (as shown in the table below) that the reviews data had many duplicate entries. Hence it was necessary to remove duplicates in order to get unbiased results for the analysis of the data.  Following is an example:"
   ]
  },
  {
   "cell_type": "code",
   "execution_count": 7,
   "metadata": {
    "colab": {},
    "colab_type": "code",
    "id": "3CKLJ2FFiWNj",
    "outputId": "c995e0c8-7ef1-48a0-d7a9-b0cc50efaa83",
    "scrolled": false
   },
   "outputs": [
    {
     "data": {
      "text/html": [
       "<div>\n",
       "<style scoped>\n",
       "    .dataframe tbody tr th:only-of-type {\n",
       "        vertical-align: middle;\n",
       "    }\n",
       "\n",
       "    .dataframe tbody tr th {\n",
       "        vertical-align: top;\n",
       "    }\n",
       "\n",
       "    .dataframe thead th {\n",
       "        text-align: right;\n",
       "    }\n",
       "</style>\n",
       "<table border=\"1\" class=\"dataframe\">\n",
       "  <thead>\n",
       "    <tr style=\"text-align: right;\">\n",
       "      <th></th>\n",
       "      <th>Id</th>\n",
       "      <th>ProductId</th>\n",
       "      <th>UserId</th>\n",
       "      <th>ProfileName</th>\n",
       "      <th>HelpfulnessNumerator</th>\n",
       "      <th>HelpfulnessDenominator</th>\n",
       "      <th>Score</th>\n",
       "      <th>Time</th>\n",
       "      <th>Summary</th>\n",
       "      <th>Text</th>\n",
       "    </tr>\n",
       "  </thead>\n",
       "  <tbody>\n",
       "    <tr>\n",
       "      <th>0</th>\n",
       "      <td>78445</td>\n",
       "      <td>B000HDL1RQ</td>\n",
       "      <td>AR5J8UI46CURR</td>\n",
       "      <td>Geetha Krishnan</td>\n",
       "      <td>2</td>\n",
       "      <td>2</td>\n",
       "      <td>5</td>\n",
       "      <td>1199577600</td>\n",
       "      <td>LOACKER QUADRATINI VANILLA WAFERS</td>\n",
       "      <td>DELICIOUS WAFERS. I FIND THAT EUROPEAN WAFERS ...</td>\n",
       "    </tr>\n",
       "    <tr>\n",
       "      <th>1</th>\n",
       "      <td>138317</td>\n",
       "      <td>B000HDOPYC</td>\n",
       "      <td>AR5J8UI46CURR</td>\n",
       "      <td>Geetha Krishnan</td>\n",
       "      <td>2</td>\n",
       "      <td>2</td>\n",
       "      <td>5</td>\n",
       "      <td>1199577600</td>\n",
       "      <td>LOACKER QUADRATINI VANILLA WAFERS</td>\n",
       "      <td>DELICIOUS WAFERS. I FIND THAT EUROPEAN WAFERS ...</td>\n",
       "    </tr>\n",
       "    <tr>\n",
       "      <th>2</th>\n",
       "      <td>138277</td>\n",
       "      <td>B000HDOPYM</td>\n",
       "      <td>AR5J8UI46CURR</td>\n",
       "      <td>Geetha Krishnan</td>\n",
       "      <td>2</td>\n",
       "      <td>2</td>\n",
       "      <td>5</td>\n",
       "      <td>1199577600</td>\n",
       "      <td>LOACKER QUADRATINI VANILLA WAFERS</td>\n",
       "      <td>DELICIOUS WAFERS. I FIND THAT EUROPEAN WAFERS ...</td>\n",
       "    </tr>\n",
       "    <tr>\n",
       "      <th>3</th>\n",
       "      <td>73791</td>\n",
       "      <td>B000HDOPZG</td>\n",
       "      <td>AR5J8UI46CURR</td>\n",
       "      <td>Geetha Krishnan</td>\n",
       "      <td>2</td>\n",
       "      <td>2</td>\n",
       "      <td>5</td>\n",
       "      <td>1199577600</td>\n",
       "      <td>LOACKER QUADRATINI VANILLA WAFERS</td>\n",
       "      <td>DELICIOUS WAFERS. I FIND THAT EUROPEAN WAFERS ...</td>\n",
       "    </tr>\n",
       "    <tr>\n",
       "      <th>4</th>\n",
       "      <td>155049</td>\n",
       "      <td>B000PAQ75C</td>\n",
       "      <td>AR5J8UI46CURR</td>\n",
       "      <td>Geetha Krishnan</td>\n",
       "      <td>2</td>\n",
       "      <td>2</td>\n",
       "      <td>5</td>\n",
       "      <td>1199577600</td>\n",
       "      <td>LOACKER QUADRATINI VANILLA WAFERS</td>\n",
       "      <td>DELICIOUS WAFERS. I FIND THAT EUROPEAN WAFERS ...</td>\n",
       "    </tr>\n",
       "  </tbody>\n",
       "</table>\n",
       "</div>"
      ],
      "text/plain": [
       "       Id   ProductId         UserId      ProfileName  HelpfulnessNumerator  \\\n",
       "0   78445  B000HDL1RQ  AR5J8UI46CURR  Geetha Krishnan                     2   \n",
       "1  138317  B000HDOPYC  AR5J8UI46CURR  Geetha Krishnan                     2   \n",
       "2  138277  B000HDOPYM  AR5J8UI46CURR  Geetha Krishnan                     2   \n",
       "3   73791  B000HDOPZG  AR5J8UI46CURR  Geetha Krishnan                     2   \n",
       "4  155049  B000PAQ75C  AR5J8UI46CURR  Geetha Krishnan                     2   \n",
       "\n",
       "   HelpfulnessDenominator  Score        Time  \\\n",
       "0                       2      5  1199577600   \n",
       "1                       2      5  1199577600   \n",
       "2                       2      5  1199577600   \n",
       "3                       2      5  1199577600   \n",
       "4                       2      5  1199577600   \n",
       "\n",
       "                             Summary  \\\n",
       "0  LOACKER QUADRATINI VANILLA WAFERS   \n",
       "1  LOACKER QUADRATINI VANILLA WAFERS   \n",
       "2  LOACKER QUADRATINI VANILLA WAFERS   \n",
       "3  LOACKER QUADRATINI VANILLA WAFERS   \n",
       "4  LOACKER QUADRATINI VANILLA WAFERS   \n",
       "\n",
       "                                                Text  \n",
       "0  DELICIOUS WAFERS. I FIND THAT EUROPEAN WAFERS ...  \n",
       "1  DELICIOUS WAFERS. I FIND THAT EUROPEAN WAFERS ...  \n",
       "2  DELICIOUS WAFERS. I FIND THAT EUROPEAN WAFERS ...  \n",
       "3  DELICIOUS WAFERS. I FIND THAT EUROPEAN WAFERS ...  \n",
       "4  DELICIOUS WAFERS. I FIND THAT EUROPEAN WAFERS ...  "
      ]
     },
     "execution_count": 7,
     "metadata": {},
     "output_type": "execute_result"
    }
   ],
   "source": [
    "display= pd.read_sql_query(\"\"\"\n",
    "SELECT *\n",
    "FROM Reviews\n",
    "WHERE Score != 3 AND UserId=\"AR5J8UI46CURR\"\n",
    "ORDER BY ProductID\n",
    "\"\"\", con)\n",
    "display.head()"
   ]
  },
  {
   "cell_type": "markdown",
   "metadata": {
    "colab_type": "text",
    "id": "GmHe67iviWNn"
   },
   "source": [
    "As it can be seen above that same user has multiple reviews with same values for HelpfulnessNumerator, HelpfulnessDenominator, Score, Time, Summary and Text and on doing analysis it was found that <br>\n",
    "<br> \n",
    "ProductId=B000HDOPZG was Loacker Quadratini Vanilla Wafer Cookies, 8.82-Ounce Packages (Pack of 8)<br>\n",
    "<br> \n",
    "ProductId=B000HDL1RQ was Loacker Quadratini Lemon Wafer Cookies, 8.82-Ounce Packages (Pack of 8) and so on<br>\n",
    "\n",
    "It was inferred after analysis that reviews with same parameters other than ProductId belonged to the same product just having different flavour or quantity. Hence in order to reduce redundancy it was decided to eliminate the rows having same parameters.<br>\n",
    "\n",
    "The method used for the same was that we first sort the data according to ProductId and then just keep the first similar product review and delelte the others. for eg. in the above just the review for ProductId=B000HDL1RQ remains. This method ensures that there is only one representative for each product and deduplication without sorting would lead to possibility of different representatives still existing for the same product."
   ]
  },
  {
   "cell_type": "code",
   "execution_count": 8,
   "metadata": {
    "colab": {},
    "colab_type": "code",
    "id": "wgmdXIJviWNn"
   },
   "outputs": [],
   "source": [
    "#Sorting data according to ProductId in ascending order\n",
    "sorted_data=filtered_data.sort_values('ProductId', axis=0, ascending=True, inplace=False, kind='quicksort', na_position='last')"
   ]
  },
  {
   "cell_type": "code",
   "execution_count": 9,
   "metadata": {
    "colab": {},
    "colab_type": "code",
    "id": "ComjQ0rHiWNp",
    "outputId": "1c155404-4bb7-4078-c46b-1a9a33ac0602"
   },
   "outputs": [
    {
     "data": {
      "text/plain": [
       "(364173, 10)"
      ]
     },
     "execution_count": 9,
     "metadata": {},
     "output_type": "execute_result"
    }
   ],
   "source": [
    "#Deduplication of entries\n",
    "final=sorted_data.drop_duplicates(subset={\"UserId\",\"ProfileName\",\"Time\",\"Text\"}, keep='first', inplace=False)\n",
    "final.shape"
   ]
  },
  {
   "cell_type": "code",
   "execution_count": 10,
   "metadata": {
    "colab": {},
    "colab_type": "code",
    "id": "yFrWiU23iWNt",
    "outputId": "b9d26952-d8af-4fbb-eb3d-c6a28abcc029"
   },
   "outputs": [
    {
     "data": {
      "text/plain": [
       "69.25890143662969"
      ]
     },
     "execution_count": 10,
     "metadata": {},
     "output_type": "execute_result"
    }
   ],
   "source": [
    "#Checking to see how much % of data still remains\n",
    "(final['Id'].size*1.0)/(filtered_data['Id'].size*1.0)*100"
   ]
  },
  {
   "cell_type": "markdown",
   "metadata": {
    "colab_type": "text",
    "id": "g4lvCHn6iWNw"
   },
   "source": [
    "<b>Observation:-</b> It was also seen that in two rows given below the value of HelpfulnessNumerator is greater than HelpfulnessDenominator which is not practically possible hence these two rows too are removed from calcualtions"
   ]
  },
  {
   "cell_type": "code",
   "execution_count": 11,
   "metadata": {
    "colab": {},
    "colab_type": "code",
    "id": "6ehzwEdgiWNw",
    "outputId": "60e18da4-784f-49d8-84b7-59823cfa3e85"
   },
   "outputs": [
    {
     "data": {
      "text/html": [
       "<div>\n",
       "<style scoped>\n",
       "    .dataframe tbody tr th:only-of-type {\n",
       "        vertical-align: middle;\n",
       "    }\n",
       "\n",
       "    .dataframe tbody tr th {\n",
       "        vertical-align: top;\n",
       "    }\n",
       "\n",
       "    .dataframe thead th {\n",
       "        text-align: right;\n",
       "    }\n",
       "</style>\n",
       "<table border=\"1\" class=\"dataframe\">\n",
       "  <thead>\n",
       "    <tr style=\"text-align: right;\">\n",
       "      <th></th>\n",
       "      <th>Id</th>\n",
       "      <th>ProductId</th>\n",
       "      <th>UserId</th>\n",
       "      <th>ProfileName</th>\n",
       "      <th>HelpfulnessNumerator</th>\n",
       "      <th>HelpfulnessDenominator</th>\n",
       "      <th>Score</th>\n",
       "      <th>Time</th>\n",
       "      <th>Summary</th>\n",
       "      <th>Text</th>\n",
       "    </tr>\n",
       "  </thead>\n",
       "  <tbody>\n",
       "    <tr>\n",
       "      <th>0</th>\n",
       "      <td>64422</td>\n",
       "      <td>B000MIDROQ</td>\n",
       "      <td>A161DK06JJMCYF</td>\n",
       "      <td>J. E. Stephens \"Jeanne\"</td>\n",
       "      <td>3</td>\n",
       "      <td>1</td>\n",
       "      <td>5</td>\n",
       "      <td>1224892800</td>\n",
       "      <td>Bought This for My Son at College</td>\n",
       "      <td>My son loves spaghetti so I didn't hesitate or...</td>\n",
       "    </tr>\n",
       "    <tr>\n",
       "      <th>1</th>\n",
       "      <td>44737</td>\n",
       "      <td>B001EQ55RW</td>\n",
       "      <td>A2V0I904FH7ABY</td>\n",
       "      <td>Ram</td>\n",
       "      <td>3</td>\n",
       "      <td>2</td>\n",
       "      <td>4</td>\n",
       "      <td>1212883200</td>\n",
       "      <td>Pure cocoa taste with crunchy almonds inside</td>\n",
       "      <td>It was almost a 'love at first bite' - the per...</td>\n",
       "    </tr>\n",
       "  </tbody>\n",
       "</table>\n",
       "</div>"
      ],
      "text/plain": [
       "      Id   ProductId          UserId              ProfileName  \\\n",
       "0  64422  B000MIDROQ  A161DK06JJMCYF  J. E. Stephens \"Jeanne\"   \n",
       "1  44737  B001EQ55RW  A2V0I904FH7ABY                      Ram   \n",
       "\n",
       "   HelpfulnessNumerator  HelpfulnessDenominator  Score        Time  \\\n",
       "0                     3                       1      5  1224892800   \n",
       "1                     3                       2      4  1212883200   \n",
       "\n",
       "                                        Summary  \\\n",
       "0             Bought This for My Son at College   \n",
       "1  Pure cocoa taste with crunchy almonds inside   \n",
       "\n",
       "                                                Text  \n",
       "0  My son loves spaghetti so I didn't hesitate or...  \n",
       "1  It was almost a 'love at first bite' - the per...  "
      ]
     },
     "execution_count": 11,
     "metadata": {},
     "output_type": "execute_result"
    }
   ],
   "source": [
    "display= pd.read_sql_query(\"\"\"\n",
    "SELECT *\n",
    "FROM Reviews\n",
    "WHERE Score != 3 AND Id=44737 OR Id=64422\n",
    "ORDER BY ProductID\n",
    "\"\"\", con)\n",
    "\n",
    "display.head()"
   ]
  },
  {
   "cell_type": "code",
   "execution_count": 12,
   "metadata": {
    "colab": {},
    "colab_type": "code",
    "id": "EBa1d6gViWNz"
   },
   "outputs": [],
   "source": [
    "final=final[final.HelpfulnessNumerator<=final.HelpfulnessDenominator]"
   ]
  },
  {
   "cell_type": "code",
   "execution_count": 13,
   "metadata": {
    "colab": {},
    "colab_type": "code",
    "id": "KNQ01asjiWN1",
    "outputId": "0d2433fb-dd33-41cd-a18d-110d776f60b4"
   },
   "outputs": [
    {
     "name": "stdout",
     "output_type": "stream",
     "text": [
      "(364171, 10)\n"
     ]
    },
    {
     "data": {
      "text/plain": [
       "1    307061\n",
       "0     57110\n",
       "Name: Score, dtype: int64"
      ]
     },
     "execution_count": 13,
     "metadata": {},
     "output_type": "execute_result"
    }
   ],
   "source": [
    "#Before starting the next phase of preprocessing lets see the number of entries left\n",
    "print(final.shape)\n",
    "\n",
    "#How many positive and negative reviews are present in our dataset?\n",
    "final['Score'].value_counts()"
   ]
  },
  {
   "cell_type": "markdown",
   "metadata": {
    "colab_type": "text",
    "id": "92IZ5ea0iWN4"
   },
   "source": [
    "#  [3] Preprocessing"
   ]
  },
  {
   "cell_type": "markdown",
   "metadata": {
    "colab_type": "text",
    "id": "NTwQITJKiWN5"
   },
   "source": [
    "## [3.1].  Preprocessing Review Text\n",
    "\n",
    "Now that we have finished deduplication our data requires some preprocessing before we go on further with analysis and making the prediction model.\n",
    "\n",
    "Hence in the Preprocessing phase we do the following in the order below:-\n",
    "\n",
    "1. Begin by removing the html tags\n",
    "2. Remove any punctuations or limited set of special characters like , or . or # etc.\n",
    "3. Check if the word is made up of english letters and is not alpha-numeric\n",
    "4. Check to see if the length of the word is greater than 2 (as it was researched that there is no adjective in 2-letters)\n",
    "5. Convert the word to lowercase\n",
    "6. Remove Stopwords\n",
    "7. Finally Snowball Stemming the word (it was obsereved to be better than Porter Stemming)<br>\n",
    "\n",
    "After which we collect the words used to describe positive and negative reviews"
   ]
  },
  {
   "cell_type": "code",
   "execution_count": 14,
   "metadata": {
    "colab": {},
    "colab_type": "code",
    "id": "kTCxT5aWiWN5",
    "outputId": "64588cda-64b3-47f0-8d01-941e1cc85cc5"
   },
   "outputs": [
    {
     "data": {
      "text/plain": [
       "'\\n\\n# printing some random reviews\\nsent_0 = final[\\'Text\\'].values[0]\\nprint(sent_0)\\nprint(\"=\"*50)\\n\\nsent_1000 = final[\\'Text\\'].values[1000]\\nprint(sent_1000)\\nprint(\"=\"*50)\\n\\nsent_1500 = final[\\'Text\\'].values[1500]\\nprint(sent_1500)\\nprint(\"=\"*50)\\n\\nsent_4900 = final[\\'Text\\'].values[4900]\\nprint(sent_4900)\\nprint(\"=\"*50)\\n\\n'"
      ]
     },
     "execution_count": 14,
     "metadata": {},
     "output_type": "execute_result"
    }
   ],
   "source": [
    "\"\"\"\n",
    "\n",
    "# printing some random reviews\n",
    "sent_0 = final['Text'].values[0]\n",
    "print(sent_0)\n",
    "print(\"=\"*50)\n",
    "\n",
    "sent_1000 = final['Text'].values[1000]\n",
    "print(sent_1000)\n",
    "print(\"=\"*50)\n",
    "\n",
    "sent_1500 = final['Text'].values[1500]\n",
    "print(sent_1500)\n",
    "print(\"=\"*50)\n",
    "\n",
    "sent_4900 = final['Text'].values[4900]\n",
    "print(sent_4900)\n",
    "print(\"=\"*50)\n",
    "\n",
    "\"\"\""
   ]
  },
  {
   "cell_type": "code",
   "execution_count": 15,
   "metadata": {
    "colab": {},
    "colab_type": "code",
    "id": "iX3VndCPiWN8",
    "outputId": "7f8cad02-65a6-4530-e7e1-bb6775877737"
   },
   "outputs": [
    {
     "data": {
      "text/plain": [
       "'\\n\\n# remove urls from text python: https://stackoverflow.com/a/40823105/4084039\\nsent_0 = re.sub(r\"http\\\\S+\", \"\", sent_0)\\nsent_1000 = re.sub(r\"http\\\\S+\", \"\", sent_1000)\\nsent_150 = re.sub(r\"http\\\\S+\", \"\", sent_1500)\\nsent_4900 = re.sub(r\"http\\\\S+\", \"\", sent_4900)\\n\\nprint(sent_0)\\n\\n'"
      ]
     },
     "execution_count": 15,
     "metadata": {},
     "output_type": "execute_result"
    }
   ],
   "source": [
    "\"\"\"\n",
    "\n",
    "# remove urls from text python: https://stackoverflow.com/a/40823105/4084039\n",
    "sent_0 = re.sub(r\"http\\S+\", \"\", sent_0)\n",
    "sent_1000 = re.sub(r\"http\\S+\", \"\", sent_1000)\n",
    "sent_150 = re.sub(r\"http\\S+\", \"\", sent_1500)\n",
    "sent_4900 = re.sub(r\"http\\S+\", \"\", sent_4900)\n",
    "\n",
    "print(sent_0)\n",
    "\n",
    "\"\"\""
   ]
  },
  {
   "cell_type": "code",
   "execution_count": 16,
   "metadata": {
    "colab": {},
    "colab_type": "code",
    "id": "DyO7iqEriWN_",
    "outputId": "2a010a1c-574d-409f-d725-c726a25d3e70"
   },
   "outputs": [
    {
     "data": {
      "text/plain": [
       "'\\n\\n# https://stackoverflow.com/questions/16206380/python-beautifulsoup-how-to-remove-all-tags-from-an-element\\nfrom bs4 import BeautifulSoup\\n\\nsoup = BeautifulSoup(sent_0, \\'lxml\\')\\ntext = soup.get_text()\\nprint(text)\\nprint(\"=\"*50)\\n\\nsoup = BeautifulSoup(sent_1000, \\'lxml\\')\\ntext = soup.get_text()\\nprint(text)\\nprint(\"=\"*50)\\n\\nsoup = BeautifulSoup(sent_1500, \\'lxml\\')\\ntext = soup.get_text()\\nprint(text)\\nprint(\"=\"*50)\\n\\nsoup = BeautifulSoup(sent_4900, \\'lxml\\')\\ntext = soup.get_text()\\nprint(text)\\n\\n'"
      ]
     },
     "execution_count": 16,
     "metadata": {},
     "output_type": "execute_result"
    }
   ],
   "source": [
    "\"\"\"\n",
    "\n",
    "# https://stackoverflow.com/questions/16206380/python-beautifulsoup-how-to-remove-all-tags-from-an-element\n",
    "from bs4 import BeautifulSoup\n",
    "\n",
    "soup = BeautifulSoup(sent_0, 'lxml')\n",
    "text = soup.get_text()\n",
    "print(text)\n",
    "print(\"=\"*50)\n",
    "\n",
    "soup = BeautifulSoup(sent_1000, 'lxml')\n",
    "text = soup.get_text()\n",
    "print(text)\n",
    "print(\"=\"*50)\n",
    "\n",
    "soup = BeautifulSoup(sent_1500, 'lxml')\n",
    "text = soup.get_text()\n",
    "print(text)\n",
    "print(\"=\"*50)\n",
    "\n",
    "soup = BeautifulSoup(sent_4900, 'lxml')\n",
    "text = soup.get_text()\n",
    "print(text)\n",
    "\n",
    "\"\"\""
   ]
  },
  {
   "cell_type": "code",
   "execution_count": 17,
   "metadata": {
    "colab": {},
    "colab_type": "code",
    "id": "qzIaKh8niWOC"
   },
   "outputs": [],
   "source": [
    "# https://stackoverflow.com/a/47091490/4084039\n",
    "import re\n",
    "\n",
    "def decontracted(phrase):\n",
    "    # specific\n",
    "    phrase = re.sub(r\"won't\", \"will not\", phrase)\n",
    "    phrase = re.sub(r\"can\\'t\", \"can not\", phrase)\n",
    "\n",
    "    # general\n",
    "    phrase = re.sub(r\"n\\'t\", \" not\", phrase)\n",
    "    phrase = re.sub(r\"\\'re\", \" are\", phrase)\n",
    "    phrase = re.sub(r\"\\'s\", \" is\", phrase)\n",
    "    phrase = re.sub(r\"\\'d\", \" would\", phrase)\n",
    "    phrase = re.sub(r\"\\'ll\", \" will\", phrase)\n",
    "    phrase = re.sub(r\"\\'t\", \" not\", phrase)\n",
    "    phrase = re.sub(r\"\\'ve\", \" have\", phrase)\n",
    "    phrase = re.sub(r\"\\'m\", \" am\", phrase)\n",
    "    return phrase"
   ]
  },
  {
   "cell_type": "code",
   "execution_count": 18,
   "metadata": {
    "colab": {},
    "colab_type": "code",
    "id": "Esa29-JwiWOD",
    "outputId": "be726596-752d-489b-d311-f4180ac83ac4"
   },
   "outputs": [
    {
     "data": {
      "text/plain": [
       "'\\n\\nsent_1500 = decontracted(sent_1500)\\nprint(sent_1500)\\nprint(\"=\"*50)\\n\\n'"
      ]
     },
     "execution_count": 18,
     "metadata": {},
     "output_type": "execute_result"
    }
   ],
   "source": [
    "\"\"\"\n",
    "\n",
    "sent_1500 = decontracted(sent_1500)\n",
    "print(sent_1500)\n",
    "print(\"=\"*50)\n",
    "\n",
    "\"\"\""
   ]
  },
  {
   "cell_type": "code",
   "execution_count": 19,
   "metadata": {
    "colab": {},
    "colab_type": "code",
    "id": "qf0c7-nXiWOG",
    "outputId": "6104976d-bda8-4de1-9d91-808f3661d53b"
   },
   "outputs": [
    {
     "data": {
      "text/plain": [
       "'\\n\\n#remove words with numbers python: https://stackoverflow.com/a/18082370/4084039\\nsent_0 = re.sub(\"\\\\S*\\\\d\\\\S*\", \"\", sent_0).strip()\\nprint(sent_0)\\n\\n'"
      ]
     },
     "execution_count": 19,
     "metadata": {},
     "output_type": "execute_result"
    }
   ],
   "source": [
    "\"\"\"\n",
    "\n",
    "#remove words with numbers python: https://stackoverflow.com/a/18082370/4084039\n",
    "sent_0 = re.sub(\"\\S*\\d\\S*\", \"\", sent_0).strip()\n",
    "print(sent_0)\n",
    "\n",
    "\"\"\""
   ]
  },
  {
   "cell_type": "code",
   "execution_count": 20,
   "metadata": {
    "colab": {},
    "colab_type": "code",
    "id": "1Z5VK6wxiWOI",
    "outputId": "d3405347-aa6a-4df5-c3d9-2c11441c2385"
   },
   "outputs": [
    {
     "data": {
      "text/plain": [
       "\"\\n\\n#remove spacial character: https://stackoverflow.com/a/5843547/4084039\\nsent_1500 = re.sub('[^A-Za-z0-9]+', ' ', sent_1500)\\nprint(sent_1500)\\n\\n\""
      ]
     },
     "execution_count": 20,
     "metadata": {},
     "output_type": "execute_result"
    }
   ],
   "source": [
    "\"\"\"\n",
    "\n",
    "#remove spacial character: https://stackoverflow.com/a/5843547/4084039\n",
    "sent_1500 = re.sub('[^A-Za-z0-9]+', ' ', sent_1500)\n",
    "print(sent_1500)\n",
    "\n",
    "\"\"\""
   ]
  },
  {
   "cell_type": "code",
   "execution_count": 21,
   "metadata": {
    "colab": {},
    "colab_type": "code",
    "id": "MfzZtIP1iWOL"
   },
   "outputs": [],
   "source": [
    "# https://gist.github.com/sebleier/554280\n",
    "# we are removing the words from the stop words list: 'no', 'nor', 'not'\n",
    "# <br /><br /> ==> after the above steps, we are getting \"br br\"\n",
    "# we are including them into stop words list\n",
    "# instead of <br /> if we have <br/> these tags would have revmoved in the 1st step\n",
    "\n",
    "# While using TFIDF-AvgWord2Vec vectorizer, getting error with reviews having single alphabet\n",
    "# like 'k','h', .... So we are including all single alphabets in the stopwords.\n",
    "\n",
    "stopwords= set(['br', 'the', 'i', 'me', 'my', 'myself', 'we', 'our', 'ours', 'ourselves', 'you', \"you're\", \"you've\",\\\n",
    "            \"you'll\", \"you'd\", 'your', 'yours', 'yourself', 'yourselves', 'he', 'him', 'his', 'himself', \\\n",
    "            'she', \"she's\", 'her', 'hers', 'herself', 'it', \"it's\", 'its', 'itself', 'they', 'them', 'their',\\\n",
    "            'theirs', 'themselves', 'what', 'which', 'who', 'whom', 'this', 'that', \"that'll\", 'these', 'those', \\\n",
    "            'am', 'is', 'are', 'was', 'were', 'be', 'been', 'being', 'have', 'has', 'had', 'having', 'do', 'does', \\\n",
    "            'did', 'doing', 'a', 'an', 'the', 'and', 'but', 'if', 'or', 'because', 'as', 'until', 'while', 'of', \\\n",
    "            'at', 'by', 'for', 'with', 'about', 'against', 'between', 'into', 'through', 'during', 'before', 'after',\\\n",
    "            'above', 'below', 'to', 'from', 'up', 'down', 'in', 'out', 'on', 'off', 'over', 'under', 'again', 'further',\\\n",
    "            'then', 'once', 'here', 'there', 'when', 'where', 'why', 'how', 'all', 'any', 'both', 'each', 'few', 'more',\\\n",
    "            'most', 'other', 'some', 'such', 'only', 'own', 'same', 'so', 'than', 'too', 'very', \\\n",
    "            's', 't', 'can', 'will', 'just', 'don', \"don't\", 'should', \"should've\", 'now', 'd', 'll', 'm', 'o', 're', \\\n",
    "            've', 'y', 'ain', 'aren', \"aren't\", 'couldn', \"couldn't\", 'didn', \"didn't\", 'doesn', \"doesn't\", 'hadn',\\\n",
    "            \"hadn't\", 'hasn', \"hasn't\", 'haven', \"haven't\", 'isn', \"isn't\", 'ma', 'mightn', \"mightn't\", 'mustn',\\\n",
    "            \"mustn't\", 'needn', \"needn't\", 'shan', \"shan't\", 'shouldn', \"shouldn't\", 'wasn', \"wasn't\", 'weren', \"weren't\", \\\n",
    "            'won', \"won't\", 'wouldn', \"wouldn't\", \\\n",
    "            'a','b','c','d','e','f','g','h','i','j','k','l','m','n','o','p','q','r','s','t','u','v','w','x','y','z'])"
   ]
  },
  {
   "cell_type": "code",
   "execution_count": 22,
   "metadata": {
    "colab": {},
    "colab_type": "code",
    "id": "g1C43tjNiWOM",
    "outputId": "a997afc9-894c-4a56-d538-dadea8a21e6d"
   },
   "outputs": [
    {
     "name": "stderr",
     "output_type": "stream",
     "text": [
      "100%|███████████████████████████████████████████████████████████████████████████████████████████████████████████████████████████████████████████████████████████████████| 364171/364171 [04:09<00:00, 1456.77it/s]\n"
     ]
    }
   ],
   "source": [
    "# Combining all the above students \n",
    "from bs4 import BeautifulSoup\n",
    "from tqdm import tqdm\n",
    "preprocessed_reviews = []\n",
    "# tqdm is for printing the status bar\n",
    "for sentence in tqdm(final['Text'].values):\n",
    "    sentence = re.sub(r\"http\\S+\", \"\", sentence)\n",
    "    sentence = BeautifulSoup(sentence, 'lxml').get_text()\n",
    "    sentence = decontracted(sentence)\n",
    "    sentence = re.sub(\"\\S*\\d\\S*\", \"\", sentence).strip()\n",
    "    #sentence = re.sub('[^A-Za-z]+', ' ', sentence)\n",
    "    sentence = re.sub('[^A-Za-z0-9]+',' ',sentence)         #remove special characters.\n",
    "    # https://gist.github.com/sebleier/554280\n",
    "    sentence = ' '.join(e.lower() for e in sentence.split() if e.lower() not in stopwords)\n",
    "    preprocessed_reviews.append(sentence.strip())"
   ]
  },
  {
   "cell_type": "code",
   "execution_count": 23,
   "metadata": {},
   "outputs": [
    {
     "data": {
      "text/html": [
       "<div>\n",
       "<style scoped>\n",
       "    .dataframe tbody tr th:only-of-type {\n",
       "        vertical-align: middle;\n",
       "    }\n",
       "\n",
       "    .dataframe tbody tr th {\n",
       "        vertical-align: top;\n",
       "    }\n",
       "\n",
       "    .dataframe thead th {\n",
       "        text-align: right;\n",
       "    }\n",
       "</style>\n",
       "<table border=\"1\" class=\"dataframe\">\n",
       "  <thead>\n",
       "    <tr style=\"text-align: right;\">\n",
       "      <th></th>\n",
       "      <th>Text</th>\n",
       "      <th>CleanedReviewText</th>\n",
       "    </tr>\n",
       "  </thead>\n",
       "  <tbody>\n",
       "    <tr>\n",
       "      <th>138706</th>\n",
       "      <td>this witty little book makes my son laugh at l...</td>\n",
       "      <td>witty little book makes son laugh loud recite ...</td>\n",
       "    </tr>\n",
       "    <tr>\n",
       "      <th>138688</th>\n",
       "      <td>I grew up reading these Sendak books, and watc...</td>\n",
       "      <td>grew reading sendak books watching really rosi...</td>\n",
       "    </tr>\n",
       "    <tr>\n",
       "      <th>138689</th>\n",
       "      <td>This is a fun way for children to learn their ...</td>\n",
       "      <td>fun way children learn months year learn poems...</td>\n",
       "    </tr>\n",
       "    <tr>\n",
       "      <th>138690</th>\n",
       "      <td>This is a great little book to read aloud- it ...</td>\n",
       "      <td>great little book read aloud nice rhythm well ...</td>\n",
       "    </tr>\n",
       "    <tr>\n",
       "      <th>138691</th>\n",
       "      <td>This is a book of poetry about the months of t...</td>\n",
       "      <td>book poetry months year goes month cute little...</td>\n",
       "    </tr>\n",
       "  </tbody>\n",
       "</table>\n",
       "</div>"
      ],
      "text/plain": [
       "                                                     Text  \\\n",
       "138706  this witty little book makes my son laugh at l...   \n",
       "138688  I grew up reading these Sendak books, and watc...   \n",
       "138689  This is a fun way for children to learn their ...   \n",
       "138690  This is a great little book to read aloud- it ...   \n",
       "138691  This is a book of poetry about the months of t...   \n",
       "\n",
       "                                        CleanedReviewText  \n",
       "138706  witty little book makes son laugh loud recite ...  \n",
       "138688  grew reading sendak books watching really rosi...  \n",
       "138689  fun way children learn months year learn poems...  \n",
       "138690  great little book read aloud nice rhythm well ...  \n",
       "138691  book poetry months year goes month cute little...  "
      ]
     },
     "execution_count": 23,
     "metadata": {},
     "output_type": "execute_result"
    }
   ],
   "source": [
    "# Add the preprocessed reviews to the dataframe as a new column.\n",
    "\n",
    "# adding a column \"CleanedText\" to the final cleaned dataset that displays the data after \n",
    "# pre-processing of the review. \n",
    "final['CleanedReviewText']=''\n",
    "final['CleanedReviewText']=preprocessed_reviews \n",
    "final[['Text','CleanedReviewText']].head()"
   ]
  },
  {
   "cell_type": "code",
   "execution_count": null,
   "metadata": {
    "colab": {},
    "colab_type": "code",
    "id": "MWDrCFxViWOP",
    "outputId": "5618c9c3-a86a-42a4-e9c4-d24d93fd5a7a"
   },
   "outputs": [],
   "source": []
  },
  {
   "cell_type": "markdown",
   "metadata": {
    "colab_type": "text",
    "id": "fEu8sShciWOS"
   },
   "source": [
    "<h2><font color='red'>[3.2] Preprocessing Review Summary</font></h2>"
   ]
  },
  {
   "cell_type": "code",
   "execution_count": 24,
   "metadata": {
    "colab": {},
    "colab_type": "code",
    "id": "XP1URIERiWOU"
   },
   "outputs": [
    {
     "name": "stderr",
     "output_type": "stream",
     "text": [
      "100%|███████████████████████████████████████████████████████████████████████████████████████████████████████████████████████████████████████████████████████████████████| 364171/364171 [03:23<00:00, 1786.91it/s]\n"
     ]
    }
   ],
   "source": [
    "## Similartly you can do preprocessing for review summary also.\n",
    "# Combining all the above statements \n",
    "from bs4 import BeautifulSoup\n",
    "from tqdm import tqdm\n",
    "preprocessed_summary = []\n",
    "# tqdm is for printing the status bar\n",
    "for sentence in tqdm(final['Summary'].values):\n",
    "    sentence = re.sub(r\"http\\S+\", \"\", sentence)             #remove html tags\n",
    "    sentence = BeautifulSoup(sentence, 'lxml').get_text()   #remove all tags from an element\n",
    "    sentence = decontracted(sentence)                       #expand shortform words Ex: don't ==> do not \n",
    "    sentence = re.sub(\"\\S*\\d\\S*\", \"\", sentence).strip()     #remove words with numbers\n",
    "    #sentence = re.sub('[^A-Za-z]+', ' ', sentence)         \n",
    "    sentence = re.sub('[^A-Za-z0-9]+',' ',sentence)         #remove special characters.\n",
    "    # https://gist.github.com/sebleier/554280\n",
    "    sentence = ' '.join(e.lower() for e in sentence.split() if e.lower() not in stopwords)\n",
    "    preprocessed_summary.append(sentence.strip())"
   ]
  },
  {
   "cell_type": "code",
   "execution_count": 25,
   "metadata": {},
   "outputs": [
    {
     "data": {
      "text/html": [
       "<div>\n",
       "<style scoped>\n",
       "    .dataframe tbody tr th:only-of-type {\n",
       "        vertical-align: middle;\n",
       "    }\n",
       "\n",
       "    .dataframe tbody tr th {\n",
       "        vertical-align: top;\n",
       "    }\n",
       "\n",
       "    .dataframe thead th {\n",
       "        text-align: right;\n",
       "    }\n",
       "</style>\n",
       "<table border=\"1\" class=\"dataframe\">\n",
       "  <thead>\n",
       "    <tr style=\"text-align: right;\">\n",
       "      <th></th>\n",
       "      <th>Summary</th>\n",
       "      <th>CleanedSummaryText</th>\n",
       "    </tr>\n",
       "  </thead>\n",
       "  <tbody>\n",
       "    <tr>\n",
       "      <th>138706</th>\n",
       "      <td>EVERY book is educational</td>\n",
       "      <td>every book educational</td>\n",
       "    </tr>\n",
       "    <tr>\n",
       "      <th>138688</th>\n",
       "      <td>Love the book, miss the hard cover version</td>\n",
       "      <td>love book miss hard cover version</td>\n",
       "    </tr>\n",
       "    <tr>\n",
       "      <th>138689</th>\n",
       "      <td>chicken soup with rice months</td>\n",
       "      <td>chicken soup rice months</td>\n",
       "    </tr>\n",
       "    <tr>\n",
       "      <th>138690</th>\n",
       "      <td>a good swingy rhythm for reading aloud</td>\n",
       "      <td>good swingy rhythm reading aloud</td>\n",
       "    </tr>\n",
       "    <tr>\n",
       "      <th>138691</th>\n",
       "      <td>A great way to learn the months</td>\n",
       "      <td>great way learn months</td>\n",
       "    </tr>\n",
       "  </tbody>\n",
       "</table>\n",
       "</div>"
      ],
      "text/plain": [
       "                                           Summary  \\\n",
       "138706                   EVERY book is educational   \n",
       "138688  Love the book, miss the hard cover version   \n",
       "138689               chicken soup with rice months   \n",
       "138690      a good swingy rhythm for reading aloud   \n",
       "138691             A great way to learn the months   \n",
       "\n",
       "                       CleanedSummaryText  \n",
       "138706             every book educational  \n",
       "138688  love book miss hard cover version  \n",
       "138689           chicken soup rice months  \n",
       "138690   good swingy rhythm reading aloud  \n",
       "138691             great way learn months  "
      ]
     },
     "execution_count": 25,
     "metadata": {},
     "output_type": "execute_result"
    }
   ],
   "source": [
    "# Add the preprocessed summary to the dataframe as a new column.\n",
    "\n",
    "# adding a column \"CleanedText\" to the final cleaned dataset that displays the data after \n",
    "# pre-processing of the review. \n",
    "final['CleanedSummaryText']=preprocessed_summary \n",
    "final[['Summary','CleanedSummaryText']].head()"
   ]
  },
  {
   "cell_type": "code",
   "execution_count": 26,
   "metadata": {},
   "outputs": [],
   "source": [
    "## Enrich each review comment with the summary comments.\n",
    "final['CleanedReviewSummaryText'] = ''\n",
    "final['CleanedReviewSummaryText'] = final['CleanedReviewText'] + final['CleanedSummaryText']"
   ]
  },
  {
   "cell_type": "markdown",
   "metadata": {},
   "source": [
    "#### Use PrettyTable for summarizing results."
   ]
  },
  {
   "cell_type": "code",
   "execution_count": 27,
   "metadata": {},
   "outputs": [],
   "source": [
    "# Load the prettytable\n",
    "from prettytable import PrettyTable\n",
    "\n",
    "# Instantiate the prettytable module.\n",
    "# Table to summarize our final conclusion.\n",
    "summaryTable = PrettyTable()\n",
    "# Set the column names for the table.\n",
    "summaryTable.field_names = [\"Text-VectorizationType\",\"Hyper-Paramter(Depth)\",\"Hyper-Paramter(MinSampleSplit)\",\"Performance Metric\", \"Value\"]\n"
   ]
  },
  {
   "cell_type": "code",
   "execution_count": null,
   "metadata": {},
   "outputs": [],
   "source": []
  },
  {
   "cell_type": "markdown",
   "metadata": {
    "colab_type": "text",
    "id": "p2lyiwJ_iWOW"
   },
   "source": [
    "# [4] Featurization"
   ]
  },
  {
   "cell_type": "markdown",
   "metadata": {
    "colab_type": "text",
    "id": "T_LFck8iiWOX"
   },
   "source": [
    "## [4.1] BAG OF WORDS"
   ]
  },
  {
   "cell_type": "code",
   "execution_count": 28,
   "metadata": {
    "colab": {},
    "colab_type": "code",
    "id": "OVHZ9f8biWOX",
    "outputId": "b121f6f4-e30a-4184-b083-a77cdab3ca19"
   },
   "outputs": [
    {
     "data": {
      "text/plain": [
       "'\\n\\n#BoW\\ncount_vect = CountVectorizer() #in scikit-learn\\ncount_vect.fit(preprocessed_reviews)\\nprint(\"some feature names \", count_vect.get_feature_names()[:10])\\nprint(\\'=\\'*50)\\n\\nfinal_counts = count_vect.transform(preprocessed_reviews)\\nprint(\"the type of count vectorizer \",type(final_counts))\\nprint(\"the shape of out text BOW vectorizer \",final_counts.get_shape())\\nprint(\"the number of unique words \", final_counts.get_shape()[1])\\n\\n'"
      ]
     },
     "execution_count": 28,
     "metadata": {},
     "output_type": "execute_result"
    }
   ],
   "source": [
    "\"\"\"\n",
    "\n",
    "#BoW\n",
    "count_vect = CountVectorizer() #in scikit-learn\n",
    "count_vect.fit(preprocessed_reviews)\n",
    "print(\"some feature names \", count_vect.get_feature_names()[:10])\n",
    "print('='*50)\n",
    "\n",
    "final_counts = count_vect.transform(preprocessed_reviews)\n",
    "print(\"the type of count vectorizer \",type(final_counts))\n",
    "print(\"the shape of out text BOW vectorizer \",final_counts.get_shape())\n",
    "print(\"the number of unique words \", final_counts.get_shape()[1])\n",
    "\n",
    "\"\"\""
   ]
  },
  {
   "cell_type": "markdown",
   "metadata": {
    "colab_type": "text",
    "id": "mjfrB76yiWOa"
   },
   "source": [
    "## [4.2] Bi-Grams and n-Grams."
   ]
  },
  {
   "cell_type": "code",
   "execution_count": 29,
   "metadata": {
    "colab": {},
    "colab_type": "code",
    "id": "mzOdOY6MiWOb",
    "outputId": "5ca07a6a-fb12-4deb-b0f4-21cdb42ccb7a"
   },
   "outputs": [
    {
     "data": {
      "text/plain": [
       "'\\n\\n#bi-gram, tri-gram and n-gram\\n\\n#removing stop words like \"not\" should be avoided before building n-grams\\n# count_vect = CountVectorizer(ngram_range=(1,2))\\n# please do read the CountVectorizer documentation http://scikit-learn.org/stable/modules/generated/sklearn.feature_extraction.text.CountVectorizer.html\\n\\n# you can choose these numebrs min_df=10, max_features=5000, of your choice\\ncount_vect = CountVectorizer(ngram_range=(1,2), min_df=10, max_features=5000)\\nfinal_bigram_counts = count_vect.fit_transform(preprocessed_reviews)\\nprint(\"the type of count vectorizer \",type(final_bigram_counts))\\nprint(\"the shape of out text BOW vectorizer \",final_bigram_counts.get_shape())\\nprint(\"the number of unique words including both unigrams and bigrams \", final_bigram_counts.get_shape()[1])\\n\\n'"
      ]
     },
     "execution_count": 29,
     "metadata": {},
     "output_type": "execute_result"
    }
   ],
   "source": [
    "\"\"\"\n",
    "\n",
    "#bi-gram, tri-gram and n-gram\n",
    "\n",
    "#removing stop words like \"not\" should be avoided before building n-grams\n",
    "# count_vect = CountVectorizer(ngram_range=(1,2))\n",
    "# please do read the CountVectorizer documentation http://scikit-learn.org/stable/modules/generated/sklearn.feature_extraction.text.CountVectorizer.html\n",
    "\n",
    "# you can choose these numebrs min_df=10, max_features=5000, of your choice\n",
    "count_vect = CountVectorizer(ngram_range=(1,2), min_df=10, max_features=5000)\n",
    "final_bigram_counts = count_vect.fit_transform(preprocessed_reviews)\n",
    "print(\"the type of count vectorizer \",type(final_bigram_counts))\n",
    "print(\"the shape of out text BOW vectorizer \",final_bigram_counts.get_shape())\n",
    "print(\"the number of unique words including both unigrams and bigrams \", final_bigram_counts.get_shape()[1])\n",
    "\n",
    "\"\"\""
   ]
  },
  {
   "cell_type": "markdown",
   "metadata": {
    "colab_type": "text",
    "id": "0tcbbZxSiWOd"
   },
   "source": [
    "## [4.3] TF-IDF"
   ]
  },
  {
   "cell_type": "code",
   "execution_count": 30,
   "metadata": {
    "colab": {},
    "colab_type": "code",
    "id": "mQ3EDEsoiWOd",
    "outputId": "b305ed29-861d-40e9-c1df-b12c4e6492a8"
   },
   "outputs": [
    {
     "data": {
      "text/plain": [
       "'\\n\\ntf_idf_vect = TfidfVectorizer(ngram_range=(1,2), min_df=10)\\ntf_idf_vect.fit(preprocessed_reviews)\\nprint(\"some sample features(unique words in the corpus)\",tf_idf_vect.get_feature_names()[0:10])\\nprint(\\'=\\'*50)\\n\\nfinal_tf_idf = tf_idf_vect.transform(preprocessed_reviews)\\nprint(\"the type of count vectorizer \",type(final_tf_idf))\\nprint(\"the shape of out text TFIDF vectorizer \",final_tf_idf.get_shape())\\nprint(\"the number of unique words including both unigrams and bigrams \", final_tf_idf.get_shape()[1])\\n\\n'"
      ]
     },
     "execution_count": 30,
     "metadata": {},
     "output_type": "execute_result"
    }
   ],
   "source": [
    "\"\"\"\n",
    "\n",
    "tf_idf_vect = TfidfVectorizer(ngram_range=(1,2), min_df=10)\n",
    "tf_idf_vect.fit(preprocessed_reviews)\n",
    "print(\"some sample features(unique words in the corpus)\",tf_idf_vect.get_feature_names()[0:10])\n",
    "print('='*50)\n",
    "\n",
    "final_tf_idf = tf_idf_vect.transform(preprocessed_reviews)\n",
    "print(\"the type of count vectorizer \",type(final_tf_idf))\n",
    "print(\"the shape of out text TFIDF vectorizer \",final_tf_idf.get_shape())\n",
    "print(\"the number of unique words including both unigrams and bigrams \", final_tf_idf.get_shape()[1])\n",
    "\n",
    "\"\"\""
   ]
  },
  {
   "cell_type": "markdown",
   "metadata": {
    "colab_type": "text",
    "id": "u566lt93iWOf"
   },
   "source": [
    "## [4.4] Word2Vec"
   ]
  },
  {
   "cell_type": "code",
   "execution_count": 31,
   "metadata": {
    "colab": {},
    "colab_type": "code",
    "id": "pxlbMwFjiWOg"
   },
   "outputs": [
    {
     "data": {
      "text/plain": [
       "'\\n\\n# Train your own Word2Vec model using your own text corpus\\ni=0\\nlist_of_sentance=[]\\nfor sentance in preprocessed_reviews:\\n    list_of_sentance.append(sentance.split())\\n    \\n'"
      ]
     },
     "execution_count": 31,
     "metadata": {},
     "output_type": "execute_result"
    }
   ],
   "source": [
    "\"\"\"\n",
    "\n",
    "# Train your own Word2Vec model using your own text corpus\n",
    "i=0\n",
    "list_of_sentance=[]\n",
    "for sentance in preprocessed_reviews:\n",
    "    list_of_sentance.append(sentance.split())\n",
    "    \n",
    "\"\"\""
   ]
  },
  {
   "cell_type": "code",
   "execution_count": 32,
   "metadata": {
    "colab": {},
    "colab_type": "code",
    "id": "NOd5wp0yiWOh",
    "outputId": "ae28439d-438c-4d88-ed12-db5f3317218f",
    "scrolled": true
   },
   "outputs": [
    {
     "data": {
      "text/plain": [
       "'\\n\\n# Using Google News Word2Vectors\\n\\n# in this project we are using a pretrained model by google\\n# its 3.3G file, once you load this into your memory \\n# it occupies ~9Gb, so please do this step only if you have >12G of ram\\n# we will provide a pickle file wich contains a dict , \\n# and it contains all our courpus words as keys and  model[word] as values\\n# To use this code-snippet, download \"GoogleNews-vectors-negative300.bin\" \\n# from https://drive.google.com/file/d/0B7XkCwpI5KDYNlNUTTlSS21pQmM/edit\\n# it\\'s 1.9GB in size.\\n\\n\\n# http://kavita-ganesan.com/gensim-word2vec-tutorial-starter-code/#.W17SRFAzZPY\\n# you can comment this whole cell\\n# or change these varible according to your need\\n\\nis_your_ram_gt_16g=False\\nwant_to_use_google_w2v = False\\nwant_to_train_w2v = True\\n\\nif want_to_train_w2v:\\n    # min_count = 5 considers only words that occured atleast 5 times\\n    w2v_model=Word2Vec(list_of_sentance,min_count=5,size=50, workers=4)\\n    print(w2v_model.wv.most_similar(\\'great\\'))\\n    print(\\'=\\'*50)\\n    print(w2v_model.wv.most_similar(\\'worst\\'))\\n    \\nelif want_to_use_google_w2v and is_your_ram_gt_16g:\\n    if os.path.isfile(\\'GoogleNews-vectors-negative300.bin\\'):\\n        w2v_model=KeyedVectors.load_word2vec_format(\\'GoogleNews-vectors-negative300.bin\\', binary=True)\\n        print(w2v_model.wv.most_similar(\\'great\\'))\\n        print(w2v_model.wv.most_similar(\\'worst\\'))\\n    else:\\n        print(\"you don\\'t have gogole\\'s word2vec file, keep want_to_train_w2v = True, to train your own w2v \")\\n\\n'"
      ]
     },
     "execution_count": 32,
     "metadata": {},
     "output_type": "execute_result"
    }
   ],
   "source": [
    "\"\"\"\n",
    "\n",
    "# Using Google News Word2Vectors\n",
    "\n",
    "# in this project we are using a pretrained model by google\n",
    "# its 3.3G file, once you load this into your memory \n",
    "# it occupies ~9Gb, so please do this step only if you have >12G of ram\n",
    "# we will provide a pickle file wich contains a dict , \n",
    "# and it contains all our courpus words as keys and  model[word] as values\n",
    "# To use this code-snippet, download \"GoogleNews-vectors-negative300.bin\" \n",
    "# from https://drive.google.com/file/d/0B7XkCwpI5KDYNlNUTTlSS21pQmM/edit\n",
    "# it's 1.9GB in size.\n",
    "\n",
    "\n",
    "# http://kavita-ganesan.com/gensim-word2vec-tutorial-starter-code/#.W17SRFAzZPY\n",
    "# you can comment this whole cell\n",
    "# or change these varible according to your need\n",
    "\n",
    "is_your_ram_gt_16g=False\n",
    "want_to_use_google_w2v = False\n",
    "want_to_train_w2v = True\n",
    "\n",
    "if want_to_train_w2v:\n",
    "    # min_count = 5 considers only words that occured atleast 5 times\n",
    "    w2v_model=Word2Vec(list_of_sentance,min_count=5,size=50, workers=4)\n",
    "    print(w2v_model.wv.most_similar('great'))\n",
    "    print('='*50)\n",
    "    print(w2v_model.wv.most_similar('worst'))\n",
    "    \n",
    "elif want_to_use_google_w2v and is_your_ram_gt_16g:\n",
    "    if os.path.isfile('GoogleNews-vectors-negative300.bin'):\n",
    "        w2v_model=KeyedVectors.load_word2vec_format('GoogleNews-vectors-negative300.bin', binary=True)\n",
    "        print(w2v_model.wv.most_similar('great'))\n",
    "        print(w2v_model.wv.most_similar('worst'))\n",
    "    else:\n",
    "        print(\"you don't have gogole's word2vec file, keep want_to_train_w2v = True, to train your own w2v \")\n",
    "\n",
    "\"\"\""
   ]
  },
  {
   "cell_type": "code",
   "execution_count": 33,
   "metadata": {
    "colab": {},
    "colab_type": "code",
    "id": "teE01Qk2iWOj",
    "outputId": "f063436c-8b62-49d3-e093-723395e66ccd"
   },
   "outputs": [
    {
     "data": {
      "text/plain": [
       "'\\n\\nw2v_words = list(w2v_model.wv.vocab)\\nprint(\"number of words that occured minimum 5 times \",len(w2v_words))\\nprint(\"sample words \", w2v_words[0:50])\\n\\n'"
      ]
     },
     "execution_count": 33,
     "metadata": {},
     "output_type": "execute_result"
    }
   ],
   "source": [
    "\"\"\"\n",
    "\n",
    "w2v_words = list(w2v_model.wv.vocab)\n",
    "print(\"number of words that occured minimum 5 times \",len(w2v_words))\n",
    "print(\"sample words \", w2v_words[0:50])\n",
    "\n",
    "\"\"\""
   ]
  },
  {
   "cell_type": "markdown",
   "metadata": {
    "colab_type": "text",
    "id": "mUNnof40iWOl"
   },
   "source": [
    "## [4.4.1] Converting text into vectors using Avg W2V, TFIDF-W2V"
   ]
  },
  {
   "cell_type": "markdown",
   "metadata": {
    "colab_type": "text",
    "id": "heHLB_FCiWOm"
   },
   "source": [
    "#### [4.4.1.1] Avg W2v"
   ]
  },
  {
   "cell_type": "code",
   "execution_count": 34,
   "metadata": {
    "colab": {},
    "colab_type": "code",
    "id": "iCYoNRANiWOm",
    "outputId": "96ebb104-44d7-4b7d-aa45-62614bbfcf44"
   },
   "outputs": [
    {
     "data": {
      "text/plain": [
       "\"\\n\\n# average Word2Vec\\n# compute average word2vec for each review.\\nsent_vectors = []; # the avg-w2v for each sentence/review is stored in this list\\nfor sent in tqdm(list_of_sentance): # for each review/sentence\\n    sent_vec = np.zeros(50) # as word vectors are of zero length 50, you might need to change this to 300 if you use google's w2v\\n    cnt_words =0; # num of words with a valid vector in the sentence/review\\n    for word in sent: # for each word in a review/sentence\\n        if word in w2v_words:\\n            vec = w2v_model.wv[word]\\n            sent_vec += vec\\n            cnt_words += 1\\n    if cnt_words != 0:\\n        sent_vec /= cnt_words\\n    sent_vectors.append(sent_vec)\\nprint(len(sent_vectors))\\nprint(len(sent_vectors[0]))\\n\\n\""
      ]
     },
     "execution_count": 34,
     "metadata": {},
     "output_type": "execute_result"
    }
   ],
   "source": [
    "\"\"\"\n",
    "\n",
    "# average Word2Vec\n",
    "# compute average word2vec for each review.\n",
    "sent_vectors = []; # the avg-w2v for each sentence/review is stored in this list\n",
    "for sent in tqdm(list_of_sentance): # for each review/sentence\n",
    "    sent_vec = np.zeros(50) # as word vectors are of zero length 50, you might need to change this to 300 if you use google's w2v\n",
    "    cnt_words =0; # num of words with a valid vector in the sentence/review\n",
    "    for word in sent: # for each word in a review/sentence\n",
    "        if word in w2v_words:\n",
    "            vec = w2v_model.wv[word]\n",
    "            sent_vec += vec\n",
    "            cnt_words += 1\n",
    "    if cnt_words != 0:\n",
    "        sent_vec /= cnt_words\n",
    "    sent_vectors.append(sent_vec)\n",
    "print(len(sent_vectors))\n",
    "print(len(sent_vectors[0]))\n",
    "\n",
    "\"\"\""
   ]
  },
  {
   "cell_type": "markdown",
   "metadata": {
    "colab_type": "text",
    "id": "ylTn3LgiiWOo"
   },
   "source": [
    "#### [4.4.1.2] TFIDF weighted W2v"
   ]
  },
  {
   "cell_type": "code",
   "execution_count": 35,
   "metadata": {
    "colab": {},
    "colab_type": "code",
    "id": "XBxf_qKSiWOo"
   },
   "outputs": [
    {
     "data": {
      "text/plain": [
       "'\\n# S = [\"abc def pqr\", \"def def def abc\", \"pqr pqr def\"]\\nmodel = TfidfVectorizer()\\ntf_idf_matrix = model.fit_transform(preprocessed_reviews)\\n# we are converting a dictionary with word as a key, and the idf as a value\\ndictionary = dict(zip(model.get_feature_names(), list(model.idf_)))\\n'"
      ]
     },
     "execution_count": 35,
     "metadata": {},
     "output_type": "execute_result"
    }
   ],
   "source": [
    "\"\"\"\n",
    "# S = [\"abc def pqr\", \"def def def abc\", \"pqr pqr def\"]\n",
    "model = TfidfVectorizer()\n",
    "tf_idf_matrix = model.fit_transform(preprocessed_reviews)\n",
    "# we are converting a dictionary with word as a key, and the idf as a value\n",
    "dictionary = dict(zip(model.get_feature_names(), list(model.idf_)))\n",
    "\"\"\""
   ]
  },
  {
   "cell_type": "code",
   "execution_count": 36,
   "metadata": {
    "colab": {},
    "colab_type": "code",
    "id": "5FHQMSyUiWOp",
    "outputId": "6b5b71be-e3f7-4933-cd74-f78fb703132d",
    "scrolled": true
   },
   "outputs": [
    {
     "data": {
      "text/plain": [
       "'\\n# TF-IDF weighted Word2Vec\\ntfidf_feat = model.get_feature_names() # tfidf words/col-names\\n# final_tf_idf is the sparse matrix with row= sentence, col=word and cell_val = tfidf\\n\\ntfidf_sent_vectors = []; # the tfidf-w2v for each sentence/review is stored in this list\\nrow=0;\\nfor sent in tqdm(list_of_sentance): # for each review/sentence \\n    sent_vec = np.zeros(50) # as word vectors are of zero length\\n    weight_sum =0; # num of words with a valid vector in the sentence/review\\n    for word in sent: # for each word in a review/sentence\\n        if word in w2v_words and word in tfidf_feat:\\n            vec = w2v_model.wv[word]\\n#             tf_idf = tf_idf_matrix[row, tfidf_feat.index(word)]\\n            # to reduce the computation we are \\n            # dictionary[word] = idf value of word in whole courpus\\n            # sent.count(word) = tf valeus of word in this review\\n            tf_idf = dictionary[word]*(sent.count(word)/len(sent))\\n            sent_vec += (vec * tf_idf)\\n            weight_sum += tf_idf\\n    if weight_sum != 0:\\n        sent_vec /= weight_sum\\n    tfidf_sent_vectors.append(sent_vec)\\n    row += 1\\n'"
      ]
     },
     "execution_count": 36,
     "metadata": {},
     "output_type": "execute_result"
    }
   ],
   "source": [
    "\"\"\"\n",
    "# TF-IDF weighted Word2Vec\n",
    "tfidf_feat = model.get_feature_names() # tfidf words/col-names\n",
    "# final_tf_idf is the sparse matrix with row= sentence, col=word and cell_val = tfidf\n",
    "\n",
    "tfidf_sent_vectors = []; # the tfidf-w2v for each sentence/review is stored in this list\n",
    "row=0;\n",
    "for sent in tqdm(list_of_sentance): # for each review/sentence \n",
    "    sent_vec = np.zeros(50) # as word vectors are of zero length\n",
    "    weight_sum =0; # num of words with a valid vector in the sentence/review\n",
    "    for word in sent: # for each word in a review/sentence\n",
    "        if word in w2v_words and word in tfidf_feat:\n",
    "            vec = w2v_model.wv[word]\n",
    "#             tf_idf = tf_idf_matrix[row, tfidf_feat.index(word)]\n",
    "            # to reduce the computation we are \n",
    "            # dictionary[word] = idf value of word in whole courpus\n",
    "            # sent.count(word) = tf valeus of word in this review\n",
    "            tf_idf = dictionary[word]*(sent.count(word)/len(sent))\n",
    "            sent_vec += (vec * tf_idf)\n",
    "            weight_sum += tf_idf\n",
    "    if weight_sum != 0:\n",
    "        sent_vec /= weight_sum\n",
    "    tfidf_sent_vectors.append(sent_vec)\n",
    "    row += 1\n",
    "\"\"\""
   ]
  },
  {
   "cell_type": "code",
   "execution_count": null,
   "metadata": {},
   "outputs": [],
   "source": []
  },
  {
   "cell_type": "markdown",
   "metadata": {
    "colab_type": "text",
    "id": "IwObBT2UiWOr"
   },
   "source": [
    "# [5] Assignment 8: Decision Trees"
   ]
  },
  {
   "cell_type": "markdown",
   "metadata": {
    "colab_type": "text",
    "id": "k_mwmumRiWOr"
   },
   "source": [
    "<ol>\n",
    "    <li><strong>Apply Decision Trees on these feature sets</strong>\n",
    "        <ul>\n",
    "            <li><font color='red'>SET 1:</font>Review text, preprocessed one converted into vectors using (BOW)</li>\n",
    "            <li><font color='red'>SET 2:</font>Review text, preprocessed one converted into vectors using (TFIDF)</li>\n",
    "            <li><font color='red'>SET 3:</font>Review text, preprocessed one converted into vectors using (AVG W2v)</li>\n",
    "            <li><font color='red'>SET 4:</font>Review text, preprocessed one converted into vectors using (TFIDF W2v)</li>\n",
    "        </ul>\n",
    "    </li>\n",
    "    <br>\n",
    "    <li><strong>The hyper paramter tuning (best `depth` in range [1, 5, 10, 50, 100, 500, 100], and the best `min_samples_split` in range [5, 10, 100, 500])</strong>\n",
    "        <ul>\n",
    "    <li>Find the best hyper parameter which will give the maximum <a href='https://www.appliedaicourse.com/course/applied-ai-course-online/lessons/receiver-operating-characteristic-curve-roc-curve-and-auc-1/'>AUC</a> value</li>\n",
    "    <li>Find the best hyper paramter using k-fold cross validation or simple cross validation data</li>\n",
    "    <li>Use gridsearch cv or randomsearch cv or you can also write your own for loops to do this task of hyperparameter tuning</li>          \n",
    "        </ul>\n",
    "    </li>\n",
    "    <br>\n",
    "    <li><strong>Graphviz</strong>\n",
    "        <ul>\n",
    "    <li>Visualize your decision tree with Graphviz. It helps you to understand how a decision is being made, given a new vector.</li>\n",
    "    <li>Since feature names are not obtained from word2vec related models, visualize only BOW & TFIDF decision trees using Graphviz</li>\n",
    "    <li>Make sure to print the words in each node of the decision tree instead of printing its index.</li>\n",
    "    <li>Just for visualization purpose, limit max_depth to 2 or 3 and either embed the generated images of graphviz in your notebook, or directly upload them as .png files.</li>                \n",
    "        </ul>\n",
    "    </li>\n",
    "    <br>\n",
    "    <li><strong>Feature importance</strong>\n",
    "        <ul>\n",
    "    <li>Find the top 20 important features from both feature sets <font color='red'>Set 1</font> and <font color='red'>Set 2</font> using `feature_importances_` method of <a href='https://scikit-learn.org/stable/modules/generated/sklearn.tree.DecisionTreeClassifier.html'>Decision Tree Classifier</a> and print their corresponding feature names</li>\n",
    "        </ul>\n",
    "    </li>\n",
    "    <br>\n",
    "    <li><strong>Feature engineering</strong>\n",
    "        <ul>\n",
    "    <li>To increase the performance of your model, you can also experiment with with feature engineering like :</li>\n",
    "            <ul>\n",
    "            <li>Taking length of reviews as another feature.</li>\n",
    "            <li>Considering some features from review summary as well.</li>\n",
    "        </ul>\n",
    "        </ul>\n",
    "    </li>\n",
    "    <br>\n",
    "    <li><strong>Representation of results</strong>\n",
    "        <ul>\n",
    "    <li>You need to plot the performance of model both on train data and cross validation data for each hyper parameter, like shown in the figure.\n",
    "    <img src='train_cv_auc.JPG' width=300px></li>\n",
    "    <li>Once after you found the best hyper parameter, you need to train your model with it, and find the AUC on test data and plot the ROC curve on both train and test.\n",
    "    <img src='train_test_auc.JPG' width=300px></li>\n",
    "    <li>Along with plotting ROC curve, you need to print the <a href='https://www.appliedaicourse.com/course/applied-ai-course-online/lessons/confusion-matrix-tpr-fpr-fnr-tnr-1/'>confusion matrix</a> with predicted and original labels of test data points. Please visualize your confusion matrices using <a href='https://seaborn.pydata.org/generated/seaborn.heatmap.html'>seaborn heatmaps.\n",
    "    <img src='confusion_matrix.png' width=300px></li>\n",
    "        </ul>\n",
    "    </li>\n",
    "    <br>\n",
    "    <li><strong>Conclusion</strong>\n",
    "        <ul>\n",
    "    <li>You need to summarize the results at the end of the notebook, summarize it in the table format. To print out a table please refer to this prettytable library<a href='http://zetcode.com/python/prettytable/'>  link</a> \n",
    "        <img src='summary.JPG' width=400px>\n",
    "    </li>\n",
    "        </ul>\n",
    "</ol>"
   ]
  },
  {
   "cell_type": "markdown",
   "metadata": {
    "colab_type": "text",
    "id": "uqhvv_IiiWOs"
   },
   "source": [
    "<h4><font color='red'>Note: Data Leakage</font></h4>\n",
    "\n",
    "1. There will be an issue of data-leakage if you vectorize the entire data and then split it into train/cv/test.\n",
    "2. To avoid the issue of data-leakag, make sure to split your data first and then vectorize it. \n",
    "3. While vectorizing your data, apply the method fit_transform() on you train data, and apply the method transform() on cv/test data.\n",
    "4. For more details please go through this <a href='https://soundcloud.com/applied-ai-course/leakage-bow-and-tfidf'>link.</a>"
   ]
  },
  {
   "cell_type": "markdown",
   "metadata": {
    "colab_type": "text",
    "id": "ayLYlocviWOs"
   },
   "source": [
    "# Applying Decision Trees"
   ]
  },
  {
   "cell_type": "markdown",
   "metadata": {},
   "source": [
    "#### Apply Time Based Sorting and Sample 100K points"
   ]
  },
  {
   "cell_type": "code",
   "execution_count": 37,
   "metadata": {},
   "outputs": [
    {
     "name": "stdout",
     "output_type": "stream",
     "text": [
      "(100000, 14)\n"
     ]
    }
   ],
   "source": [
    "# Add a new column for TimeStamp that is of Datetime datatype,since the dataset's time column is of\n",
    "# integer datatype.\n",
    "import datetime\n",
    "\n",
    "# Assign the Time column to a new variable.\n",
    "final_timesplit = final['Time']\n",
    "\n",
    "# Convert the datatype of the time column from integer to datetime.\n",
    "final_timesplit = final_timesplit.apply(datetime.datetime.fromtimestamp)\n",
    "\n",
    "# Create a new column to store the new time column whose datatype is datetime\n",
    "final['TimeSplit']  = final_timesplit\n",
    "\n",
    "# Sort the final dataset in descending order of time.\n",
    "final_dataset = final.sort_values(['TimeSplit'],ascending=False)\n",
    "\n",
    "#Sample 100K points after time based sorting.\n",
    "final = final_dataset[:100000]\n",
    "# Store label info separately.\n",
    "label = final['Score'][:100000]\n",
    "\n",
    "print(final.shape)\n",
    "\n",
    "# Assign the cleaned text and the class label for the split.\n",
    "X = final['CleanedReviewSummaryText']\n",
    "Y = final['Score']\n",
    "\n",
    "# Split the dataset in the following ratios:\n",
    "# Total row considered is 364171.\n",
    "\n",
    "# Input split\n",
    "X_train = X[0:60000]            #Train = First 60% of the sorted dataframe;\n",
    "X_cv    = X[60000:80000]        #CV    = Next  20% of the sorted dataframe;\n",
    "X_test  = X[80000:100000]       #Test  = Remaining 20% of the sorted dataframe.\n",
    "\n",
    "#Class lable split.\n",
    "Y_train = Y[0:60000]            #Train = First 60% of the sorted dataframe;\n",
    "Y_cv    = Y[60000:80000]        #CV    = Next  20% of the sorted dataframe;\n",
    "Y_test  = Y[80000:100000]       #Test  = Remaining 20% of the sorted dataframe.\n"
   ]
  },
  {
   "cell_type": "code",
   "execution_count": null,
   "metadata": {},
   "outputs": [],
   "source": []
  },
  {
   "cell_type": "markdown",
   "metadata": {
    "colab_type": "text",
    "id": "fvKQwJMWiWOt"
   },
   "source": [
    "## [5.1] Applying Decision Trees on BOW,<font color='red'> SET 1</font>"
   ]
  },
  {
   "cell_type": "markdown",
   "metadata": {
    "colab": {},
    "colab_type": "code",
    "id": "vnSi4W-iiWOt"
   },
   "source": [
    "#### [5.1.1.1] Convert reviews present in trainingset into numeric vectors using Bag Of Words (BoW)"
   ]
  },
  {
   "cell_type": "code",
   "execution_count": 38,
   "metadata": {},
   "outputs": [
    {
     "name": "stdout",
     "output_type": "stream",
     "text": [
      "the type of count vectorizer  <class 'scipy.sparse.csr.csr_matrix'>\n",
      "the shape of out text BOW vectorizer  (60000, 5000)\n",
      "the number of unique words  5000\n"
     ]
    }
   ],
   "source": [
    "# Apply BoW vectorization : bi-gram,tri-gram and n-gram\n",
    "\n",
    "#Instantiate the BoW vectorizer.\n",
    "count_vect = CountVectorizer(dtype='float64',ngram_range=(1,2), min_df=10, max_features=5000) #in scikit-learn bi-gram\n",
    "\n",
    "#Train you countvectorizer on the train data\n",
    "final_bigram_counts = count_vect.fit_transform(X_train.values.astype('U'))\n",
    "\n",
    "#Print the type,shape and unique words of the BoW vectorizer on the training set. \n",
    "print(\"the type of count vectorizer \",type(final_bigram_counts))\n",
    "print(\"the shape of out text BOW vectorizer \",final_bigram_counts.get_shape())\n",
    "print(\"the number of unique words \", final_bigram_counts.get_shape()[1])"
   ]
  },
  {
   "cell_type": "markdown",
   "metadata": {},
   "source": [
    "#### [5.1.1.2] Use the BoW vectorizer trained in the preceding step to convert CVset and Testset to vectors."
   ]
  },
  {
   "cell_type": "code",
   "execution_count": 39,
   "metadata": {},
   "outputs": [
    {
     "name": "stdout",
     "output_type": "stream",
     "text": [
      "the type of count vectorizer  <class 'scipy.sparse.csr.csr_matrix'>\n",
      "the shape of out text BOW vectorizer  (20000, 5000)\n",
      "the number of unique words  5000\n",
      "the type of count vectorizer  <class 'scipy.sparse.csr.csr_matrix'>\n",
      "the shape of out text BOW vectorizer  (20000, 5000)\n",
      "the number of unique words  5000\n"
     ]
    }
   ],
   "source": [
    "#Use the same vectorizer trained on the training set, on the cv set.\n",
    "final_bigram_counts_cvset = count_vect.transform(X_cv.values)\n",
    "\n",
    "#Print the type,shape and unique words of the BoW vectorizer on the testset. \n",
    "print(\"the type of count vectorizer \",type(final_bigram_counts_cvset))\n",
    "print(\"the shape of out text BOW vectorizer \",final_bigram_counts_cvset.get_shape())\n",
    "print(\"the number of unique words \", final_bigram_counts_cvset.get_shape()[1])\n",
    "\n",
    "#Use the same vectorizer trained on the training set, on the test set.\n",
    "final_bigram_counts_testset = count_vect.transform(X_test.values)\n",
    "\n",
    "#Print the type,shape and unique words of the BoW vectorizer on the testset. \n",
    "print(\"the type of count vectorizer \",type(final_bigram_counts_testset))\n",
    "print(\"the shape of out text BOW vectorizer \",final_bigram_counts_testset.get_shape())\n",
    "print(\"the number of unique words \", final_bigram_counts_testset.get_shape()[1])"
   ]
  },
  {
   "cell_type": "markdown",
   "metadata": {},
   "source": [
    "#### [5.1.1.3] Standardize the data"
   ]
  },
  {
   "cell_type": "code",
   "execution_count": 40,
   "metadata": {},
   "outputs": [],
   "source": [
    "# Data-preprocessing: Normalizing the data\n",
    "\n",
    "# Import the Normailizer module.\n",
    "from sklearn.preprocessing import Normalizer\n",
    "\n",
    "# Instantiate the Normailizer module.\n",
    "normalizer = Normalizer()\n",
    "\n",
    "#Standardize the normailizer on the train data.\n",
    "X_train_stdzd = normalizer.fit_transform(final_bigram_counts)\n",
    "\n",
    "#Standardize the normailizer on the cv data.\n",
    "X_cv_stdzd = normalizer.transform(final_bigram_counts_cvset)\n",
    "\n",
    "# use the same normalizer on the test set.\n",
    "X_test_stdzd  = normalizer.transform(final_bigram_counts_testset) "
   ]
  },
  {
   "cell_type": "code",
   "execution_count": null,
   "metadata": {},
   "outputs": [],
   "source": []
  },
  {
   "cell_type": "markdown",
   "metadata": {},
   "source": [
    "#### [5.1.1.4] Hyper-Parameter Tuning : Using the cross-validation dataset to calculate the optimal 'depth of tree' in BoW case."
   ]
  },
  {
   "cell_type": "code",
   "execution_count": 41,
   "metadata": {},
   "outputs": [
    {
     "name": "stdout",
     "output_type": "stream",
     "text": [
      "Depth :\n",
      "[1, 5, 10, 50, 100, 500]\n",
      "\n",
      "Log of Depth :\n",
      "[0.0, 1.6094379124341003, 2.302585092994046, 3.912023005428146, 4.605170185988092, 6.214608098422191]\n",
      "\n",
      "TrainingSet AuC :\n",
      "[0.6366244236792004, 0.7552430314548251, 0.817855990573645, 0.9119646561038738, 0.9272085019271683, 0.947424005369389]\n",
      "\n",
      "CVset AuC :\n",
      "[0.625405353054002, 0.7439129792066356, 0.790651436796673, 0.822949152269661, 0.8167429078364526, 0.7861698803401729]\n",
      "\n",
      "Plot of AuC vs Log of Depth:\n"
     ]
    },
    {
     "data": {
      "image/png": "[encoded data removed]",
      "text/plain": [
       "<Figure size 720x360 with 1 Axes>"
      ]
     },
     "metadata": {},
     "output_type": "display_data"
    },
    {
     "name": "stdout",
     "output_type": "stream",
     "text": [
      "Starttime is : 2019-02-01 21:03:30.352515\n",
      "Endtime   is : 2019-02-01 21:05:27.967035\n"
     ]
    }
   ],
   "source": [
    "import matplotlib.pyplot as plt\n",
    "# plot inline\n",
    "%matplotlib inline  \n",
    "\n",
    "# Import the DecisionTreeClassifier .\n",
    "from sklearn import tree\n",
    "# Import the metrics module.\n",
    "from sklearn.metrics import roc_auc_score\n",
    "\n",
    "# Set the start time of the current cell run.\n",
    "starttime_dt_bow = datetime.datetime.now()\n",
    "\n",
    "# Set the range for the hyper-parameters.\n",
    "# Experiment with depth ranges in [1, 5, 10, 50, 100, 500, 100].\n",
    "# Here depth (tree-depth) is the hyper-parameter of the DecisionTreeClassifier\n",
    "\n",
    "hp_depth = [1, 5, 10, 50, 100, 500]\n",
    "\n",
    "# Use the cross-validation dataset to determine the best hyper-parameter depth (tree-depth).\n",
    "plot_X_train = []\n",
    "plot_lgX_train = []\n",
    "plot_Y_train = []\n",
    "plot_Y_cv = []\n",
    "\n",
    "# Loop through various values of depth.\n",
    "for i in hp_depth:\n",
    "    dt_optimal = tree.DecisionTreeClassifier(criterion='gini',          # metric to measure quality of the\n",
    "                                                                        # split.\n",
    "                                             splitter = 'best',         # strategy used to split at each\n",
    "                                                                        # node.\n",
    "                                             max_depth=(i),             # Hyper-parameter, \"Depth\" of the\n",
    "                                                                        # current iteration.\n",
    "                                             min_samples_split = (500), # Hyper-parameter, \"minimum sample\n",
    "                                                                        # split\" of the \n",
    "                                                                        # current iteration.\n",
    "                                             class_weight='balanced')   # uses the values of y to \n",
    "                                                                        # automatically adjust weights \n",
    "                                                                        # in the input data.\n",
    "\n",
    "    dt_optimal.fit(X_train_stdzd, Y_train)                              # fit the model on the training \n",
    "                                                                        # set.\n",
    "    Y_pred_train = dt_optimal.predict_proba(X_train_stdzd)[:, 1]        # predict class probabilities in \n",
    "                                                                        # training set.    \n",
    "    Y_pred_cv = dt_optimal.predict_proba(X_cv_stdzd)[:, 1]              # predict class probabilities in\n",
    "                                                                        # CV set.\n",
    "\n",
    "    # Compute AuC metric.\n",
    "    plot_X_train.append(i)                  # plot (depth,min_sample_split) on the x-axis.\n",
    "    plot_lgX_train.append(np.log(i))        # plot log(depth,min_sample_split) on the x-axis.\n",
    "    # TrainingSet\n",
    "    plot_Y_train.append(roc_auc_score(Y_train,Y_pred_train)) # plot trainingset auc score on the y-axis.\n",
    "    # CV set\n",
    "    plot_Y_cv.append(roc_auc_score(Y_cv,Y_pred_cv))     # plot cvset auc score on the y-axis.\n",
    "\n",
    "\n",
    "\n",
    "# print X,Y\n",
    "print(\"Depth :\\n{}\".format(plot_X_train))\n",
    "print(\"\\nLog of Depth :\\n{}\".format(plot_lgX_train))\n",
    "print(\"\\nTrainingSet AuC :\\n{}\".format(plot_Y_train))\n",
    "print(\"\\nCVset AuC :\\n{}\".format(plot_Y_cv))\n",
    "\n",
    "print(\"\\nPlot of AuC vs Log of Depth:\")\n",
    "# Plot X-axis = log(Depth),Y-axis = TrainingSet and CVSet AuC to determine the best hyper-parameter combo.\n",
    "plt.figure(figsize=(10,5))                                           # set the figure size.\n",
    "plt.plot(plot_lgX_train,plot_Y_train, 'b--',label=\"TrainingSet AUC\") # plotting depth,trainingAuC separately. \n",
    "plt.plot(plot_lgX_train,plot_Y_cv, 'r--',label=\"CrossvalidationSet AUC\") # plotting depth,CrossValidationAuC\n",
    "                                                                         # separately. \n",
    "\n",
    "plt.title(\"Plot of AUC vs log(Depth) .\")  # Set the title of the plot.\n",
    "plt.xlabel(\"log(Depth)\")                  # Set the x label of the plot.\n",
    "plt.ylabel(\"AuC\")                         # Set the y label of the plot.\n",
    "\n",
    "# Display the plot.\n",
    "plt.legend()                              # set the legend\n",
    "plt.show()                                # display the plot.\n",
    "\n",
    "# Set the end time of the current cell run.\n",
    "endtime_dt_bow = datetime.datetime.now()\n",
    "\n",
    "# Print the cell run duration.\n",
    "print(\"Starttime is : {}\".format(starttime_dt_bow))\n",
    "print(\"Endtime   is : {}\".format(endtime_dt_bow))\n"
   ]
  },
  {
   "cell_type": "code",
   "execution_count": null,
   "metadata": {},
   "outputs": [],
   "source": []
  },
  {
   "cell_type": "markdown",
   "metadata": {},
   "source": [
    "#### NOTE :\n",
    "    . If the training score and the validation score are both low, the classifier is underfitting. \n",
    "    . If the training score is high and the validation score is low, the classifier is overfitting.\n",
    "    . Otherwise it is working very well. \n",
    "\n",
    "\n",
    "#### OBSERVATION :  When the tree depth = 10, then training and cross-validation AUC is high, beyond which the training AuC continues to increase while the cross-validation AuC decreases. At tree depth = 10, the model neither Overfits nor Underfits.\n",
    "#### The optimal hyper-parameter, Depth choosen is shown below :\n",
    "    . Depth of tree = 10\n",
    "    . Training AUC Score = 0.8178\n",
    "    . CrossValidation AUC Score = 0.7906\n"
   ]
  },
  {
   "cell_type": "code",
   "execution_count": null,
   "metadata": {},
   "outputs": [],
   "source": []
  },
  {
   "cell_type": "markdown",
   "metadata": {},
   "source": [
    "#### [5.1.1.5] Hyper-Parameter Tuning : Using the cross-validation dataset to calculate the optimal 'min_sample_split' in BoW case."
   ]
  },
  {
   "cell_type": "code",
   "execution_count": 42,
   "metadata": {},
   "outputs": [
    {
     "name": "stdout",
     "output_type": "stream",
     "text": [
      "Min_SampleSplit :\n",
      "[5, 10, 100, 500]\n",
      "\n",
      "Log of Min_SampleSplit :\n",
      "[1.6094379124341003, 2.302585092994046, 4.605170185988092, 6.214608098422191]\n",
      "\n",
      "TrainingSet AuC :\n",
      "[0.830355376195361, 0.8297413288206927, 0.8245990421290065, 0.817855990573645]\n",
      "\n",
      "CVset AuC :\n",
      "[0.783787138855044, 0.7858480458511992, 0.7886911095384407, 0.790651436796673]\n",
      "\n",
      "Plot of AuC vs Log of Min_SampleSplit:\n"
     ]
    },
    {
     "data": {
      "image/png": "[encoded data removed]",
      "text/plain": [
       "<Figure size 720x360 with 1 Axes>"
      ]
     },
     "metadata": {},
     "output_type": "display_data"
    },
    {
     "name": "stdout",
     "output_type": "stream",
     "text": [
      "Starttime is : 2019-02-01 21:09:59.765640\n",
      "Endtime   is : 2019-02-01 21:10:26.446003\n"
     ]
    }
   ],
   "source": [
    "import matplotlib.pyplot as plt\n",
    "# plot inline\n",
    "%matplotlib inline  \n",
    "\n",
    "# Import the DecisionTreeClassifier .\n",
    "from sklearn import tree\n",
    "# Import the metrics module.\n",
    "from sklearn.metrics import roc_auc_score\n",
    "\n",
    "# Set the start time of the current cell run.\n",
    "starttime_dt_bow = datetime.datetime.now()\n",
    "\n",
    "# Set the range for the hyper-parameters.\n",
    "# Experiment with min_sample_split ranges in [5, 10,100,500].\n",
    "# Here depth (tree-depth) is the hyper-parameter of the DecisionTreeClassifier\n",
    "\n",
    "hp_min_samples_split = [5, 10, 100, 500]\n",
    "\n",
    "# Use the cross-validation dataset to determine the best hyper-parameter min_sample_split.\n",
    "plot_X_train = []\n",
    "plot_lgX_train = []\n",
    "plot_Y_train = []\n",
    "plot_Y_cv = []\n",
    "\n",
    "# Loop through various values of depth.\n",
    "for i in hp_min_samples_split:\n",
    "    dt_optimal = tree.DecisionTreeClassifier(criterion='gini',          # metric to measure quality of the\n",
    "                                                                        # split.\n",
    "                                             splitter = 'best',         # strategy used to split at each\n",
    "                                                                        # node.\n",
    "                                             max_depth=(10),            # Hyper-parameter, \"Depth\" of the\n",
    "                                                                        # current iteration.\n",
    "                                             min_samples_split = (i),   # Hyper-parameter, \"minimum sample\n",
    "                                                                        # split\" of the \n",
    "                                                                        # current iteration.\n",
    "                                             class_weight='balanced')   # uses the values of y to \n",
    "                                                                        # automatically adjust weights \n",
    "                                                                        # in the input data.\n",
    "\n",
    "    dt_optimal.fit(X_train_stdzd, Y_train)                              # fit the model on the training set.\n",
    "    Y_pred_train = dt_optimal.predict_proba(X_train_stdzd)[:, 1]        # predict class probabilities in \n",
    "                                                                        # training set.    \n",
    "    Y_pred_cv = dt_optimal.predict_proba(X_cv_stdzd)[:, 1]              # predict class probabilities in\n",
    "                                                                        # CV set.\n",
    "\n",
    "    # Compute AuC metric.\n",
    "    plot_X_train.append(i)           # plot (min_sample_split) on the x-axis.\n",
    "    plot_lgX_train.append(np.log(i)) # plot log(min_sample_split) on the x-axis.\n",
    "    # TrainingSet\n",
    "    plot_Y_train.append(roc_auc_score(Y_train,Y_pred_train)) # plot trainingset auc score on the y-axis.\n",
    "    # CV set\n",
    "    plot_Y_cv.append(roc_auc_score(Y_cv,Y_pred_cv))         # plot cvset auc score on the y-axis.\n",
    "\n",
    "\n",
    "\n",
    "# print X,Y\n",
    "print(\"Min_SampleSplit :\\n{}\".format(plot_X_train))\n",
    "print(\"\\nLog of Min_SampleSplit :\\n{}\".format(plot_lgX_train))\n",
    "print(\"\\nTrainingSet AuC :\\n{}\".format(plot_Y_train))\n",
    "print(\"\\nCVset AuC :\\n{}\".format(plot_Y_cv))\n",
    "\n",
    "print(\"\\nPlot of AuC vs Log of Min_SampleSplit:\")\n",
    "# Plot X-axis = log(Min_SampleSplit),Y-axis = TrainingSet and CVSet AuC to \n",
    "# determine the best hyper-parameter.\n",
    "plt.figure(figsize=(10,5))                                                 # set the figure size.\n",
    "plt.plot(plot_lgX_train,plot_Y_train, 'b--',label=\"TrainingSet AUC\")       # plotting Min_SampleSplit,\n",
    "                                                                           # trainingAuC separately. \n",
    "plt.plot(plot_lgX_train,plot_Y_cv, 'r--',label=\"CrossvalidationSet AUC\")   # plotting Min_SampleSplit,CrossValidationAuC\n",
    "                                                                           # separately. \n",
    "\n",
    "plt.title(\"Plot of AUC vs log(Min_SampleSplit) .\")  # Set the title of the plot.\n",
    "plt.xlabel(\"log(Min_SampleSplit)\")                  # Set the x label of the plot.\n",
    "plt.ylabel(\"AUC\")                                   # Set the y label of the plot.\n",
    "\n",
    "# Display the plot.\n",
    "plt.legend()                              # set the legend\n",
    "plt.show()                                # display the plot.\n",
    "\n",
    "# Set the end time of the current cell run.\n",
    "endtime_dt_bow = datetime.datetime.now()\n",
    "\n",
    "# Print the cell run duration.\n",
    "print(\"Starttime is : {}\".format(starttime_dt_bow))\n",
    "print(\"Endtime   is : {}\".format(endtime_dt_bow))\n"
   ]
  },
  {
   "cell_type": "code",
   "execution_count": null,
   "metadata": {},
   "outputs": [],
   "source": []
  },
  {
   "cell_type": "markdown",
   "metadata": {},
   "source": [
    "#### NOTE :\n",
    "    . If the training score and the validation score are both low, the classifier is underfitting. \n",
    "    . If the training score is high and the validation score is low, the classifier is overfitting.\n",
    "    . Otherwise it is working very well. \n",
    "\n",
    "#### OBSERVATION :  When the min_sample_split = 500, then training AUC is low and cross-validation AUC is high. At this point the model neither Overfits nor Underfits.\n",
    "#### The optimal hyper-parameter Min_Sample_Split choosen is shown below :\n",
    "    . Min_Sample_Split   = 500\n",
    "    . Training AUC Score = 0.8978\n",
    "    . CV AUC Score       = 0.7906\n"
   ]
  },
  {
   "cell_type": "code",
   "execution_count": null,
   "metadata": {},
   "outputs": [],
   "source": []
  },
  {
   "cell_type": "markdown",
   "metadata": {},
   "source": [
    "#### [5.1.1.5] : Train and Fit the DecisionTree classifier in the training set. Compute the performance metrics by predicting the model on the test set."
   ]
  },
  {
   "cell_type": "code",
   "execution_count": 43,
   "metadata": {},
   "outputs": [
    {
     "name": "stdout",
     "output_type": "stream",
     "text": [
      "Starttime is : 2019-02-01 21:27:50.558985\n",
      "Endtime   is : 2019-02-01 21:27:56.101690\n"
     ]
    }
   ],
   "source": [
    "# Import the DecisionTreeClassifier .\n",
    "from sklearn import tree\n",
    "\n",
    "# Set the start time of the current cell run.\n",
    "starttime_dt_bow = datetime.datetime.now()\n",
    "\n",
    "# The best value of the hyper-parameter depth-tree.\n",
    "optimal_depthtree = 10\n",
    "\n",
    "# The best value of the hyper-parameter minimum_samplesplit.\n",
    "optimal_minsamplesplit = 500\n",
    "\n",
    "# Instantiate the DecisionTree model with optimal hyper-paramters.\n",
    "dt_optimal = tree.DecisionTreeClassifier(criterion='gini',  # metric to measure quality of the split.\n",
    "                                         splitter = 'best', # strategy used to split at each node.\n",
    "                                         max_depth=(optimal_depthtree), # Hyper-parameter, \"Depth\" \n",
    "                                                                        # of the current iteration.\n",
    "                                         min_samples_split = (optimal_minsamplesplit), # Hyper-parameter,\n",
    "                                                                                       #\"minimum sample\n",
    "                                                                                       # split\" of the\n",
    "                                                                                       # current iteration.\n",
    "                                         class_weight='balanced') # uses the values of y to automatically \n",
    "                                                                  # adjust weights in the input data.\n",
    "\n",
    "dt_optimal.fit(X_train_stdzd, Y_train)          # fit the model on the training set.\n",
    "Y_pred_test = dt_optimal.predict(X_test_stdzd)  # predict,response from the DecisionTree model.\n",
    "Y_pred_train_pb = dt_optimal.predict_proba(X_train_stdzd)[:, 1]  # predict class probabilities \n",
    "                                                                 # on the trainset.\n",
    "Y_pred_cv_pb = dt_optimal.predict_proba(X_cv_stdzd)[:, 1]        # predict class probabilities\n",
    "                                                                 # on the cvset.\n",
    "Y_pred_test_pb = dt_optimal.predict_proba(X_test_stdzd)[:, 1]    # predict class probabilities\n",
    "                                                                 # on the testset.\n",
    "\n",
    "# Set the end time of the current cell run.\n",
    "endtime_dt_bow = datetime.datetime.now()\n",
    "\n",
    "# Print the cell run duration.\n",
    "print(\"Starttime is : {}\".format(starttime_dt_bow))\n",
    "print(\"Endtime   is : {}\".format(endtime_dt_bow))"
   ]
  },
  {
   "cell_type": "markdown",
   "metadata": {},
   "source": [
    "#### [5.1.1.6] : Plot the ROC Curve."
   ]
  },
  {
   "cell_type": "code",
   "execution_count": 44,
   "metadata": {},
   "outputs": [
    {
     "data": {
      "image/png": "[encoded data removed]",
      "text/plain": [
       "<Figure size 720x360 with 1 Axes>"
      ]
     },
     "metadata": {},
     "output_type": "display_data"
    }
   ],
   "source": [
    "# Import the modules\n",
    "from sklearn.metrics import roc_curve\n",
    "import matplotlib.pyplot as plt\n",
    "\n",
    "# Calculate the RoC curve\n",
    "fprTest, tprTest, thresholdsTest = roc_curve(Y_test,Y_pred_test_pb,pos_label=1) # compute the test roc curve.\n",
    "fprCV, tprCV, thresholdsCV = roc_curve(Y_cv,Y_pred_cv_pb,pos_label=1)           # compute the cv roc curve.\n",
    "fprTrain, tprTrain, thresholdsTrain = roc_curve(Y_train,Y_pred_train_pb,pos_label=1) # compute the train roc curve.\n",
    "\n",
    "plt.figure(figsize=(10,5))  # set the figure size.\n",
    "plt.plot([0, 1], [0, 1], linestyle='--',label=\"50% probability line\") # plot the 50% probability line.\n",
    "plt.plot(fprTrain, tprTrain, marker='.',label=\"Train AUC\")  # plot the train roc curve for the model.\n",
    "plt.plot(fprCV, tprCV, marker='.',label=\"CV AUC\")           # plot the cv roc curve for the model.\n",
    "plt.plot(fprTest, tprTest, marker='.',label=\"Test AUC\")     # plot the test roc curve for the model.\n",
    "plt.title(\"ROC Curve.\")                                     # set the title of the plot.\n",
    "plt.xlabel(\"False Positive Rate\")                           # set the x label of the plot.\n",
    "plt.ylabel(\"True Positive Rate\")                            # set the y label of the plot.\n",
    "plt.legend()                                                # set the legend\n",
    "plt.show()                                                  # show the plot."
   ]
  },
  {
   "cell_type": "markdown",
   "metadata": {},
   "source": [
    "#### [5.1.1.7] Plot the classifier performance metrics."
   ]
  },
  {
   "cell_type": "code",
   "execution_count": 45,
   "metadata": {},
   "outputs": [
    {
     "data": {
      "image/png": "[encoded data removed]",
      "text/plain": [
       "<Figure size 360x360 with 2 Axes>"
      ]
     },
     "metadata": {},
     "output_type": "display_data"
    },
    {
     "name": "stdout",
     "output_type": "stream",
     "text": [
      "\n",
      "The class composition in the testset is :\n",
      "1    16442\n",
      "0     3558\n",
      "Name: Comment, dtype: int64\n"
     ]
    }
   ],
   "source": [
    "# evaluate the model and report the metrics.\n",
    "from sklearn.metrics import confusion_matrix\n",
    "conf_mat = confusion_matrix(Y_test, Y_pred_test)\n",
    "fig, ax = plt.subplots(figsize=(5,5))\n",
    "sns.heatmap(conf_mat, annot=True, fmt='d'\n",
    "            ,xticklabels=['negative','positive'], yticklabels=['negative','positive'])\n",
    "plt.title('Confusion Matrix : (Vectorizer = BoW)')\n",
    "plt.ylabel('Actual')\n",
    "plt.xlabel('Predicted')\n",
    "plt.show()\n",
    "\n",
    "#Class composition in the testset.\n",
    "dfYTest = pd.DataFrame(list(Y_test),columns=['Comment'])\n",
    "print(\"\\nThe class composition in the testset is :\")\n",
    "print(dfYTest[\"Comment\"].value_counts())"
   ]
  },
  {
   "cell_type": "code",
   "execution_count": null,
   "metadata": {},
   "outputs": [],
   "source": []
  },
  {
   "cell_type": "markdown",
   "metadata": {
    "colab_type": "text",
    "id": "jm4vkPwMiWOu"
   },
   "source": [
    "### [5.1.2] Top 20 important features from<font color='red'> SET 1</font>"
   ]
  },
  {
   "cell_type": "code",
   "execution_count": 46,
   "metadata": {
    "colab": {},
    "colab_type": "code",
    "id": "puCcjOAkiWOv"
   },
   "outputs": [
    {
     "data": {
      "text/html": [
       "<div>\n",
       "<style scoped>\n",
       "    .dataframe tbody tr th:only-of-type {\n",
       "        vertical-align: middle;\n",
       "    }\n",
       "\n",
       "    .dataframe tbody tr th {\n",
       "        vertical-align: top;\n",
       "    }\n",
       "\n",
       "    .dataframe thead th {\n",
       "        text-align: right;\n",
       "    }\n",
       "</style>\n",
       "<table border=\"1\" class=\"dataframe\">\n",
       "  <thead>\n",
       "    <tr style=\"text-align: right;\">\n",
       "      <th></th>\n",
       "      <th>ColumnIndex</th>\n",
       "      <th>Word</th>\n",
       "      <th>FeatureImportanceSore</th>\n",
       "    </tr>\n",
       "  </thead>\n",
       "  <tbody>\n",
       "    <tr>\n",
       "      <th>4999</th>\n",
       "      <td>2843</td>\n",
       "      <td>not</td>\n",
       "      <td>0.286897</td>\n",
       "    </tr>\n",
       "    <tr>\n",
       "      <th>4998</th>\n",
       "      <td>1846</td>\n",
       "      <td>great</td>\n",
       "      <td>0.153915</td>\n",
       "    </tr>\n",
       "    <tr>\n",
       "      <th>4997</th>\n",
       "      <td>2482</td>\n",
       "      <td>love</td>\n",
       "      <td>0.067722</td>\n",
       "    </tr>\n",
       "    <tr>\n",
       "      <th>4996</th>\n",
       "      <td>1050</td>\n",
       "      <td>delicious</td>\n",
       "      <td>0.067455</td>\n",
       "    </tr>\n",
       "    <tr>\n",
       "      <th>4995</th>\n",
       "      <td>319</td>\n",
       "      <td>best</td>\n",
       "      <td>0.060369</td>\n",
       "    </tr>\n",
       "    <tr>\n",
       "      <th>4994</th>\n",
       "      <td>1121</td>\n",
       "      <td>disappointed</td>\n",
       "      <td>0.055273</td>\n",
       "    </tr>\n",
       "    <tr>\n",
       "      <th>4993</th>\n",
       "      <td>1769</td>\n",
       "      <td>good</td>\n",
       "      <td>0.044836</td>\n",
       "    </tr>\n",
       "    <tr>\n",
       "      <th>4992</th>\n",
       "      <td>3225</td>\n",
       "      <td>perfect</td>\n",
       "      <td>0.037914</td>\n",
       "    </tr>\n",
       "    <tr>\n",
       "      <th>4991</th>\n",
       "      <td>2503</td>\n",
       "      <td>loves</td>\n",
       "      <td>0.037146</td>\n",
       "    </tr>\n",
       "    <tr>\n",
       "      <th>4990</th>\n",
       "      <td>1351</td>\n",
       "      <td>excellent</td>\n",
       "      <td>0.021557</td>\n",
       "    </tr>\n",
       "    <tr>\n",
       "      <th>4989</th>\n",
       "      <td>3691</td>\n",
       "      <td>reviews</td>\n",
       "      <td>0.012993</td>\n",
       "    </tr>\n",
       "    <tr>\n",
       "      <th>4988</th>\n",
       "      <td>2805</td>\n",
       "      <td>nice</td>\n",
       "      <td>0.010927</td>\n",
       "    </tr>\n",
       "    <tr>\n",
       "      <th>4987</th>\n",
       "      <td>2899</td>\n",
       "      <td>not great</td>\n",
       "      <td>0.010548</td>\n",
       "    </tr>\n",
       "    <tr>\n",
       "      <th>4986</th>\n",
       "      <td>4426</td>\n",
       "      <td>terrible</td>\n",
       "      <td>0.010511</td>\n",
       "    </tr>\n",
       "    <tr>\n",
       "      <th>4985</th>\n",
       "      <td>2897</td>\n",
       "      <td>not good</td>\n",
       "      <td>0.008891</td>\n",
       "    </tr>\n",
       "    <tr>\n",
       "      <th>4984</th>\n",
       "      <td>234</td>\n",
       "      <td>bad</td>\n",
       "      <td>0.007468</td>\n",
       "    </tr>\n",
       "    <tr>\n",
       "      <th>4983</th>\n",
       "      <td>4928</td>\n",
       "      <td>would great</td>\n",
       "      <td>0.007125</td>\n",
       "    </tr>\n",
       "    <tr>\n",
       "      <th>4982</th>\n",
       "      <td>4133</td>\n",
       "      <td>stale</td>\n",
       "      <td>0.006428</td>\n",
       "    </tr>\n",
       "    <tr>\n",
       "      <th>4981</th>\n",
       "      <td>2054</td>\n",
       "      <td>horrible</td>\n",
       "      <td>0.005743</td>\n",
       "    </tr>\n",
       "    <tr>\n",
       "      <th>4980</th>\n",
       "      <td>1010</td>\n",
       "      <td>date</td>\n",
       "      <td>0.005069</td>\n",
       "    </tr>\n",
       "  </tbody>\n",
       "</table>\n",
       "</div>"
      ],
      "text/plain": [
       "      ColumnIndex          Word  FeatureImportanceSore\n",
       "4999         2843           not               0.286897\n",
       "4998         1846         great               0.153915\n",
       "4997         2482          love               0.067722\n",
       "4996         1050     delicious               0.067455\n",
       "4995          319          best               0.060369\n",
       "4994         1121  disappointed               0.055273\n",
       "4993         1769          good               0.044836\n",
       "4992         3225       perfect               0.037914\n",
       "4991         2503         loves               0.037146\n",
       "4990         1351     excellent               0.021557\n",
       "4989         3691       reviews               0.012993\n",
       "4988         2805          nice               0.010927\n",
       "4987         2899     not great               0.010548\n",
       "4986         4426      terrible               0.010511\n",
       "4985         2897      not good               0.008891\n",
       "4984          234           bad               0.007468\n",
       "4983         4928   would great               0.007125\n",
       "4982         4133         stale               0.006428\n",
       "4981         2054      horrible               0.005743\n",
       "4980         1010          date               0.005069"
      ]
     },
     "execution_count": 46,
     "metadata": {},
     "output_type": "execute_result"
    }
   ],
   "source": [
    "#featImp = dt_optimal.feature_importances_\n",
    "\n",
    "# get the featureImportance FI for the dataset X_test_stdzd.\n",
    "featImp = dt_optimal.feature_importances_\n",
    "\n",
    "# get the indices of the features sorted by importance.\n",
    "indices = np.argsort(featImp) #[::-1]\n",
    "\n",
    "# get the feature names from the indices obtained above.\n",
    "wordVector = np.take(count_vect.get_feature_names(), indices)\n",
    "\n",
    "#print the feature importance score of the sorted features.\n",
    "featImpScore = featImp[indices]\n",
    "\n",
    "# Prepare the data from the columnIndex,weightvector and wordvector.\n",
    "lstData = list(zip(indices,featImpScore,wordVector))\n",
    "\n",
    "# create a dataframe to store the columnindex,weights,words of the text corpus.\n",
    "dfTopWords = pd.DataFrame(data=lstData,columns=['ColumnIndex','FeatureImportanceSore','Word'])\n",
    "\n",
    "# Get the top 20 features with their featureImportance score.\n",
    "dfTopWords[['ColumnIndex','Word','FeatureImportanceSore'\n",
    "          ]].sort_values(['FeatureImportanceSore'],ascending=False).head(20)\n"
   ]
  },
  {
   "cell_type": "code",
   "execution_count": null,
   "metadata": {},
   "outputs": [],
   "source": []
  },
  {
   "cell_type": "markdown",
   "metadata": {
    "colab_type": "text",
    "id": "7JyitDTTiWOx"
   },
   "source": [
    "### [5.1.3] Graphviz visualization of Decision Tree on BOW,<font color='red'> SET 1</font>"
   ]
  },
  {
   "cell_type": "code",
   "execution_count": 47,
   "metadata": {
    "colab": {},
    "colab_type": "code",
    "id": "-jxU7zrAiWOy"
   },
   "outputs": [
    {
     "data": {
      "image/svg+xml": [
       "<?xml version=\"1.0\" encoding=\"UTF-8\" standalone=\"no\"?>\r\n",
       "<!DOCTYPE svg PUBLIC \"-//W3C//DTD SVG 1.1//EN\"\r\n",
       " \"http://www.w3.org/Graphics/SVG/1.1/DTD/svg11.dtd\">\r\n",
       "<!-- Generated by graphviz version 2.38.0 (20140413.2041)\r\n",
       " -->\r\n",
       "<!-- Title: Tree Pages: 1 -->\r\n",
       "<svg width=\"797pt\" height=\"269pt\"\r\n",
       " viewBox=\"0.00 0.00 796.50 269.00\" xmlns=\"http://www.w3.org/2000/svg\" xmlns:xlink=\"http://www.w3.org/1999/xlink\">\r\n",
       "<g id=\"graph0\" class=\"graph\" transform=\"scale(1 1) rotate(0) translate(4 265)\">\r\n",
       "<title>Tree</title>\r\n",
       "<polygon fill=\"white\" stroke=\"none\" points=\"-4,4 -4,-265 792.5,-265 792.5,4 -4,4\"/>\r\n",
       "<!-- 0 -->\r\n",
       "<g id=\"node1\" class=\"node\"><title>0</title>\r\n",
       "<polygon fill=\"none\" stroke=\"black\" points=\"476,-261 310,-261 310,-193 476,-193 476,-261\"/>\r\n",
       "<text text-anchor=\"middle\" x=\"393\" y=\"-245.8\" font-family=\"Times New Roman,serif\" font-size=\"14.00\">not &lt;= 0.111</text>\r\n",
       "<text text-anchor=\"middle\" x=\"393\" y=\"-230.8\" font-family=\"Times New Roman,serif\" font-size=\"14.00\">gini = 0.5</text>\r\n",
       "<text text-anchor=\"middle\" x=\"393\" y=\"-215.8\" font-family=\"Times New Roman,serif\" font-size=\"14.00\">samples = 60000</text>\r\n",
       "<text text-anchor=\"middle\" x=\"393\" y=\"-200.8\" font-family=\"Times New Roman,serif\" font-size=\"14.00\">value = [30000.0, 30000.0]</text>\r\n",
       "</g>\r\n",
       "<!-- 1 -->\r\n",
       "<g id=\"node2\" class=\"node\"><title>1</title>\r\n",
       "<polygon fill=\"none\" stroke=\"black\" points=\"382,-157 196,-157 196,-89 382,-89 382,-157\"/>\r\n",
       "<text text-anchor=\"middle\" x=\"289\" y=\"-141.8\" font-family=\"Times New Roman,serif\" font-size=\"14.00\">great &lt;= 0.107</text>\r\n",
       "<text text-anchor=\"middle\" x=\"289\" y=\"-126.8\" font-family=\"Times New Roman,serif\" font-size=\"14.00\">gini = 0.445</text>\r\n",
       "<text text-anchor=\"middle\" x=\"289\" y=\"-111.8\" font-family=\"Times New Roman,serif\" font-size=\"14.00\">samples = 30016</text>\r\n",
       "<text text-anchor=\"middle\" x=\"289\" y=\"-96.8\" font-family=\"Times New Roman,serif\" font-size=\"14.00\">value = [8218.859, 16416.325]</text>\r\n",
       "</g>\r\n",
       "<!-- 0&#45;&gt;1 -->\r\n",
       "<g id=\"edge1\" class=\"edge\"><title>0&#45;&gt;1</title>\r\n",
       "<path fill=\"none\" stroke=\"black\" d=\"M359.234,-192.884C349.971,-183.798 339.823,-173.845 330.193,-164.4\"/>\r\n",
       "<polygon fill=\"black\" stroke=\"black\" points=\"332.542,-161.803 322.952,-157.299 327.641,-166.8 332.542,-161.803\"/>\r\n",
       "<text text-anchor=\"middle\" x=\"323.195\" y=\"-178.598\" font-family=\"Times New Roman,serif\" font-size=\"14.00\">True</text>\r\n",
       "</g>\r\n",
       "<!-- 4 -->\r\n",
       "<g id=\"node5\" class=\"node\"><title>4</title>\r\n",
       "<polygon fill=\"none\" stroke=\"black\" points=\"593.5,-157 400.5,-157 400.5,-89 593.5,-89 593.5,-157\"/>\r\n",
       "<text text-anchor=\"middle\" x=\"497\" y=\"-141.8\" font-family=\"Times New Roman,serif\" font-size=\"14.00\">great &lt;= 0.104</text>\r\n",
       "<text text-anchor=\"middle\" x=\"497\" y=\"-126.8\" font-family=\"Times New Roman,serif\" font-size=\"14.00\">gini = 0.473</text>\r\n",
       "<text text-anchor=\"middle\" x=\"497\" y=\"-111.8\" font-family=\"Times New Roman,serif\" font-size=\"14.00\">samples = 29984</text>\r\n",
       "<text text-anchor=\"middle\" x=\"497\" y=\"-96.8\" font-family=\"Times New Roman,serif\" font-size=\"14.00\">value = [21781.141, 13583.675]</text>\r\n",
       "</g>\r\n",
       "<!-- 0&#45;&gt;4 -->\r\n",
       "<g id=\"edge4\" class=\"edge\"><title>0&#45;&gt;4</title>\r\n",
       "<path fill=\"none\" stroke=\"black\" d=\"M426.766,-192.884C436.029,-183.798 446.177,-173.845 455.807,-164.4\"/>\r\n",
       "<polygon fill=\"black\" stroke=\"black\" points=\"458.359,-166.8 463.048,-157.299 453.458,-161.803 458.359,-166.8\"/>\r\n",
       "<text text-anchor=\"middle\" x=\"462.805\" y=\"-178.598\" font-family=\"Times New Roman,serif\" font-size=\"14.00\">False</text>\r\n",
       "</g>\r\n",
       "<!-- 2 -->\r\n",
       "<g id=\"node3\" class=\"node\"><title>2</title>\r\n",
       "<polygon fill=\"none\" stroke=\"black\" points=\"186,-53 0,-53 0,-0 186,-0 186,-53\"/>\r\n",
       "<text text-anchor=\"middle\" x=\"93\" y=\"-37.8\" font-family=\"Times New Roman,serif\" font-size=\"14.00\">gini = 0.475</text>\r\n",
       "<text text-anchor=\"middle\" x=\"93\" y=\"-22.8\" font-family=\"Times New Roman,serif\" font-size=\"14.00\">samples = 22765</text>\r\n",
       "<text text-anchor=\"middle\" x=\"93\" y=\"-7.8\" font-family=\"Times New Roman,serif\" font-size=\"14.00\">value = [7686.263, 12149.239]</text>\r\n",
       "</g>\r\n",
       "<!-- 1&#45;&gt;2 -->\r\n",
       "<g id=\"edge2\" class=\"edge\"><title>1&#45;&gt;2</title>\r\n",
       "<path fill=\"none\" stroke=\"black\" d=\"M220.449,-88.9485C199.197,-78.7021 175.908,-67.4737 155.119,-57.4503\"/>\r\n",
       "<polygon fill=\"black\" stroke=\"black\" points=\"156.596,-54.277 146.069,-53.0867 153.556,-60.5824 156.596,-54.277\"/>\r\n",
       "</g>\r\n",
       "<!-- 3 -->\r\n",
       "<g id=\"node4\" class=\"node\"><title>3</title>\r\n",
       "<polygon fill=\"none\" stroke=\"black\" points=\"377.5,-53 204.5,-53 204.5,-0 377.5,-0 377.5,-53\"/>\r\n",
       "<text text-anchor=\"middle\" x=\"291\" y=\"-37.8\" font-family=\"Times New Roman,serif\" font-size=\"14.00\">gini = 0.197</text>\r\n",
       "<text text-anchor=\"middle\" x=\"291\" y=\"-22.8\" font-family=\"Times New Roman,serif\" font-size=\"14.00\">samples = 7251</text>\r\n",
       "<text text-anchor=\"middle\" x=\"291\" y=\"-7.8\" font-family=\"Times New Roman,serif\" font-size=\"14.00\">value = [532.596, 4267.085]</text>\r\n",
       "</g>\r\n",
       "<!-- 1&#45;&gt;3 -->\r\n",
       "<g id=\"edge3\" class=\"edge\"><title>1&#45;&gt;3</title>\r\n",
       "<path fill=\"none\" stroke=\"black\" d=\"M289.7,-88.9485C289.874,-80.7153 290.061,-71.848 290.238,-63.4814\"/>\r\n",
       "<polygon fill=\"black\" stroke=\"black\" points=\"293.743,-63.3086 290.455,-53.2367 286.744,-63.1604 293.743,-63.3086\"/>\r\n",
       "</g>\r\n",
       "<!-- 5 -->\r\n",
       "<g id=\"node6\" class=\"node\"><title>5</title>\r\n",
       "<polygon fill=\"none\" stroke=\"black\" points=\"591.5,-53 398.5,-53 398.5,-0 591.5,-0 591.5,-53\"/>\r\n",
       "<text text-anchor=\"middle\" x=\"495\" y=\"-37.8\" font-family=\"Times New Roman,serif\" font-size=\"14.00\">gini = 0.45</text>\r\n",
       "<text text-anchor=\"middle\" x=\"495\" y=\"-22.8\" font-family=\"Times New Roman,serif\" font-size=\"14.00\">samples = 24522</text>\r\n",
       "<text text-anchor=\"middle\" x=\"495\" y=\"-7.8\" font-family=\"Times New Roman,serif\" font-size=\"14.00\">value = [20349.243, 10583.192]</text>\r\n",
       "</g>\r\n",
       "<!-- 4&#45;&gt;5 -->\r\n",
       "<g id=\"edge5\" class=\"edge\"><title>4&#45;&gt;5</title>\r\n",
       "<path fill=\"none\" stroke=\"black\" d=\"M496.3,-88.9485C496.126,-80.7153 495.939,-71.848 495.762,-63.4814\"/>\r\n",
       "<polygon fill=\"black\" stroke=\"black\" points=\"499.256,-63.1604 495.545,-53.2367 492.257,-63.3086 499.256,-63.1604\"/>\r\n",
       "</g>\r\n",
       "<!-- 6 -->\r\n",
       "<g id=\"node7\" class=\"node\"><title>6</title>\r\n",
       "<polygon fill=\"none\" stroke=\"black\" points=\"788.5,-53 609.5,-53 609.5,-0 788.5,-0 788.5,-53\"/>\r\n",
       "<text text-anchor=\"middle\" x=\"699\" y=\"-37.8\" font-family=\"Times New Roman,serif\" font-size=\"14.00\">gini = 0.437</text>\r\n",
       "<text text-anchor=\"middle\" x=\"699\" y=\"-22.8\" font-family=\"Times New Roman,serif\" font-size=\"14.00\">samples = 5462</text>\r\n",
       "<text text-anchor=\"middle\" x=\"699\" y=\"-7.8\" font-family=\"Times New Roman,serif\" font-size=\"14.00\">value = [1431.898, 3000.483]</text>\r\n",
       "</g>\r\n",
       "<!-- 4&#45;&gt;6 -->\r\n",
       "<g id=\"edge6\" class=\"edge\"><title>4&#45;&gt;6</title>\r\n",
       "<path fill=\"none\" stroke=\"black\" d=\"M567.65,-88.9485C589.552,-78.7021 613.554,-67.4737 634.979,-57.4503\"/>\r\n",
       "<polygon fill=\"black\" stroke=\"black\" points=\"636.732,-60.4944 644.307,-53.0867 633.766,-54.1539 636.732,-60.4944\"/>\r\n",
       "</g>\r\n",
       "</g>\r\n",
       "</svg>\r\n"
      ],
      "text/plain": [
       "<graphviz.files.Source at 0x1f5ca2230b8>"
      ]
     },
     "execution_count": 47,
     "metadata": {},
     "output_type": "execute_result"
    }
   ],
   "source": [
    "# Set the system path.\n",
    "#import os\n",
    "#os.environ[\"PATH\"] += os.pathsep + 'C:\\\\Program Files (x86)\\\\Graphviz2.38\\\\bin\\\\'\n",
    "\n",
    "# Import the DecisionTreeClassifier .\n",
    "from sklearn import tree\n",
    "import graphviz\n",
    "\n",
    "# Set the start time of the current cell run.\n",
    "starttime_dt_bow = datetime.datetime.now()\n",
    "\n",
    "# The best value of the hyper-parameter depth-tree.\n",
    "optimal_depthtree_gvz = 2\n",
    "\n",
    "# The best value of the hyper-parameter minimum_samplesplit.\n",
    "optimal_minsamplesplit = 500\n",
    "\n",
    "# Instantiate the DecisionTree model with optimal hyper-paramters.\n",
    "dt_optimal = tree.DecisionTreeClassifier(criterion='gini',  # metric to measure quality of the split.\n",
    "                                         splitter = 'best', # strategy used to split at each node.\n",
    "                                         max_depth=(optimal_depthtree_gvz), # Hyper-parameter, \n",
    "                                                                            # \"Depth\" of the current iteration.\n",
    "                                         min_samples_split = (optimal_minsamplesplit), # Hyper-parameter,\n",
    "                                                                                       # \"minimum sample split\" \n",
    "                                                                                       # of the current iteration.\n",
    "                                         class_weight='balanced') # uses the values of y to automatically \n",
    "                                                                  # adjust weights in the input data.\n",
    "\n",
    "dt_optimal.fit(X_train_stdzd, Y_train)                 # fit the model on the training set.\n",
    "\n",
    "\n",
    "terms = count_vect.get_feature_names()\n",
    "dot_data = tree.export_graphviz(dt_optimal, out_file = None, feature_names = terms)\n",
    "graph = graphviz.Source(dot_data)\n",
    "graph"
   ]
  },
  {
   "cell_type": "markdown",
   "metadata": {},
   "source": [
    "### [5.1.4] : Load metrics into the summary table for BoW."
   ]
  },
  {
   "cell_type": "code",
   "execution_count": 48,
   "metadata": {},
   "outputs": [],
   "source": [
    "# Import the metrics module.\n",
    "from sklearn.metrics import accuracy_score\n",
    "from sklearn.metrics import precision_score\n",
    "from sklearn.metrics import recall_score\n",
    "from sklearn.metrics import f1_score\n",
    "from sklearn.metrics import roc_auc_score\n",
    "\n",
    "# Add the classification metrics to the table.\n",
    "# Add the classification metrics to the final summary table.\n",
    "summaryTable.add_row(['BoW',optimal_depthtree,optimal_minsamplesplit,'Accuracy',accuracy_score(Y_test,Y_pred_test)])\n",
    "summaryTable.add_row(['',optimal_depthtree,optimal_minsamplesplit,'Precision',precision_score(Y_test,Y_pred_test)])\n",
    "summaryTable.add_row(['',optimal_depthtree,optimal_minsamplesplit,'Recall',recall_score(Y_test,Y_pred_test)])\n",
    "summaryTable.add_row(['',optimal_depthtree,optimal_minsamplesplit,'F1 Score',f1_score(Y_test,Y_pred_test)])\n",
    "summaryTable.add_row(['',optimal_depthtree,optimal_minsamplesplit,'AUC Score',roc_auc_score(Y_test,Y_pred_test_pb)])\n",
    "summaryTable.add_row(['',optimal_depthtree,optimal_minsamplesplit,'ConfusionMatrix',confusion_matrix(Y_test, Y_pred_test)])\n",
    "summaryTable.add_row(['----------','----------','-----------','----------','----------'])\n"
   ]
  },
  {
   "cell_type": "code",
   "execution_count": null,
   "metadata": {},
   "outputs": [],
   "source": []
  },
  {
   "cell_type": "markdown",
   "metadata": {
    "colab_type": "text",
    "id": "5przjMTbiWOz"
   },
   "source": [
    "## [5.2] Applying Decision Trees on TFIDF,<font color='red'> SET 2</font>"
   ]
  },
  {
   "cell_type": "markdown",
   "metadata": {
    "colab": {},
    "colab_type": "code",
    "id": "Bm3mfI7miWOz"
   },
   "source": [
    "#### [5.2.1.1] Convert review text into numeric vectors using TF_IDF"
   ]
  },
  {
   "cell_type": "code",
   "execution_count": 50,
   "metadata": {},
   "outputs": [
    {
     "name": "stdout",
     "output_type": "stream",
     "text": [
      "the type of TIDF vectorizer  <class 'scipy.sparse.csr.csr_matrix'>\n",
      "the shape of out text TFIDF vectorizer  (60000, 5000)\n",
      "the number of unique words including both unigrams and bigrams  5000\n"
     ]
    }
   ],
   "source": [
    "#TF-IDF\n",
    "# Apply TF-IDF vectorization only on the trainingset.\n",
    "tf_idf_vect = TfidfVectorizer(dtype='float64',ngram_range=(1,2),min_df=10, max_features=5000)\n",
    "\n",
    "#Train you tf-idf vectorizer on the train data (.fit_transform()) and \n",
    "#use the same vectorizer on the test set as well (.transform())\n",
    "final_tf_idf = tf_idf_vect.fit_transform(X_train.values.astype('U'))\n",
    "\n",
    "print(\"the type of TIDF vectorizer \",type(final_tf_idf))\n",
    "print(\"the shape of out text TFIDF vectorizer \",final_tf_idf.get_shape())\n",
    "print(\"the number of unique words including both unigrams and bigrams \", final_tf_idf.get_shape()[1])"
   ]
  },
  {
   "cell_type": "markdown",
   "metadata": {},
   "source": [
    "#### [5.2.1.2] Use the TF-IDF vectorizer trained in the preceding step to convert cvset and testset to vectors."
   ]
  },
  {
   "cell_type": "code",
   "execution_count": 51,
   "metadata": {},
   "outputs": [
    {
     "name": "stdout",
     "output_type": "stream",
     "text": [
      "the type of TFIDF vectorizer  <class 'scipy.sparse.csr.csr_matrix'>\n",
      "the shape of out text TFIDF vectorizer  (20000, 5000)\n",
      "the number of unique words  5000\n",
      "the type of TFIDF vectorizer  <class 'scipy.sparse.csr.csr_matrix'>\n",
      "the shape of out text TFIDF vectorizer  (20000, 5000)\n",
      "the number of unique words  5000\n"
     ]
    }
   ],
   "source": [
    "#use the same countvectorizer on the cvset and testset.\n",
    "final_tf_idf_cvset = tf_idf_vect.transform(X_cv.values)\n",
    "print(\"the type of TFIDF vectorizer \",type(final_tf_idf_cvset))\n",
    "print(\"the shape of out text TFIDF vectorizer \",final_tf_idf_cvset.get_shape())\n",
    "print(\"the number of unique words \", final_tf_idf_cvset.get_shape()[1])\n",
    "\n",
    "#use the same countvectorizer on the testset.\n",
    "final_tf_idf_testset = tf_idf_vect.transform(X_test.values)\n",
    "print(\"the type of TFIDF vectorizer \",type(final_tf_idf_testset))\n",
    "print(\"the shape of out text TFIDF vectorizer \",final_tf_idf_testset.get_shape())\n",
    "print(\"the number of unique words \", final_tf_idf_testset.get_shape()[1])"
   ]
  },
  {
   "cell_type": "markdown",
   "metadata": {},
   "source": [
    "#### [5.2.1.3] Standardize / Normalize the data"
   ]
  },
  {
   "cell_type": "code",
   "execution_count": 52,
   "metadata": {},
   "outputs": [],
   "source": [
    "# Data-preprocessing: Normalizing the data\n",
    "from sklearn.preprocessing import Normalizer\n",
    "\n",
    "# Initialize the Normalizer.\n",
    "normalizer = Normalizer()\n",
    "\n",
    "#Standardize on the train data. \n",
    "X_train_stdzd = normalizer.fit_transform(final_tf_idf)\n",
    "\n",
    "#Standardize on the cv and test data.\n",
    "X_cv_stdzd    = normalizer.transform(final_tf_idf_cvset)     #use the same Normalizer on the cvset.\n",
    "X_test_stdzd  = normalizer.transform(final_tf_idf_testset)   #use the same Normalizer on the testset."
   ]
  },
  {
   "cell_type": "markdown",
   "metadata": {},
   "source": [
    "#### [5.2.1.4] Hyper-Parameter Tuning : Using the cross-validation dataset to calculate the optimal 'depth of tree' in TFIDF case."
   ]
  },
  {
   "cell_type": "code",
   "execution_count": 53,
   "metadata": {},
   "outputs": [
    {
     "name": "stdout",
     "output_type": "stream",
     "text": [
      "Depth :\n",
      "[1, 5, 10, 50, 100, 500]\n",
      "\n",
      "Log of Depth :\n",
      "[0.0, 1.6094379124341003, 2.302585092994046, 3.912023005428146, 4.605170185988092, 6.214608098422191]\n",
      "\n",
      "TrainingSet AuC :\n",
      "[0.6347216783207609, 0.751462794281927, 0.8173589532708914, 0.9141275556223386, 0.9307184019177068, 0.9518610299124406]\n",
      "\n",
      "CVset AuC :\n",
      "[0.6220847918629933, 0.7362521831109041, 0.7831088780960312, 0.8104443440034794, 0.8060160189232202, 0.7696426060903483]\n",
      "\n",
      "Plot of AuC vs Log of Depth:\n"
     ]
    },
    {
     "data": {
      "image/png": "[encoded data removed]",
      "text/plain": [
       "<Figure size 720x360 with 1 Axes>"
      ]
     },
     "metadata": {},
     "output_type": "display_data"
    },
    {
     "name": "stdout",
     "output_type": "stream",
     "text": [
      "Starttime is : 2019-02-01 21:41:41.347015\n",
      "Endtime   is : 2019-02-01 21:43:55.531591\n"
     ]
    }
   ],
   "source": [
    "import matplotlib.pyplot as plt\n",
    "# plot inline\n",
    "%matplotlib inline  \n",
    "\n",
    "# Import the DecisionTreeClassifier .\n",
    "from sklearn import tree\n",
    "# Import the metrics module.\n",
    "from sklearn.metrics import roc_auc_score\n",
    "\n",
    "# Set the start time of the current cell run.\n",
    "starttime_dt_tfidf = datetime.datetime.now()\n",
    "\n",
    "# Set the range for the hyper-parameters.\n",
    "# Experiment with depth ranges in [1, 5, 10, 50, 100, 500, 100].\n",
    "# Here depth (tree-depth) is the hyper-parameter of the DecisionTreeClassifier\n",
    "\n",
    "hp_depth = [1, 5, 10, 50, 100, 500]\n",
    "\n",
    "# Use the cross-validation dataset to determine the best hyper-parameter depth (tree-depth).\n",
    "plot_X_train = []\n",
    "plot_lgX_train = []\n",
    "plot_Y_train = []\n",
    "plot_Y_cv = []\n",
    "\n",
    "# Loop through various values of depth.\n",
    "for i in hp_depth:\n",
    "    dt_optimal = tree.DecisionTreeClassifier(# metric to measure quality of the split.\n",
    "                                             criterion='gini',\n",
    "                                             # strategy used to split at each node.\n",
    "                                             splitter = 'best',\n",
    "                                             # Hyper-parameter, \"Depth\" of the current iteration.\n",
    "                                             max_depth=(i),\n",
    "                                             # Hyper-parameter, \"minimum sample split\" of the \n",
    "                                             # current iteration.\n",
    "                                             min_samples_split = (500), \n",
    "                                             # uses the values of y to automatically \n",
    "                                             # adjust weights in the input data.\n",
    "                                             class_weight='balanced')   \n",
    "                                                                        \n",
    "\n",
    "    # fit the model on the training set.\n",
    "    dt_optimal.fit(X_train_stdzd, Y_train) \n",
    "    # predict class probabilities in training set.    \n",
    "    Y_pred_train = dt_optimal.predict_proba(X_train_stdzd)[:, 1]  \n",
    "    # predict class probabilities in CV set.\n",
    "    Y_pred_cv = dt_optimal.predict_proba(X_cv_stdzd)[:, 1]              \n",
    "\n",
    "    # Compute AuC metric.\n",
    "    plot_X_train.append(i)           # plot (depth,min_sample_split) on the x-axis.\n",
    "    plot_lgX_train.append(np.log(i)) # plot log(depth,min_sample_split) on the x-axis.\n",
    "    # TrainingSet\n",
    "    plot_Y_train.append(roc_auc_score(Y_train,Y_pred_train)) # plot trainingset auc score on the y-axis.\n",
    "    # CV set\n",
    "    plot_Y_cv.append(roc_auc_score(Y_cv,Y_pred_cv)) # plot cvset auc score on the y-axis.\n",
    "\n",
    "\n",
    "\n",
    "# print X,Y\n",
    "print(\"Depth :\\n{}\".format(plot_X_train))\n",
    "print(\"\\nLog of Depth :\\n{}\".format(plot_lgX_train))\n",
    "print(\"\\nTrainingSet AuC :\\n{}\".format(plot_Y_train))\n",
    "print(\"\\nCVset AuC :\\n{}\".format(plot_Y_cv))\n",
    "\n",
    "print(\"\\nPlot of AuC vs Log of Depth:\")\n",
    "# Plot X-axis = log(Depth),Y-axis = TrainingSet and CVSet AuC to determine the best hyper-parameter combo.\n",
    "\n",
    "# set the figure size.\n",
    "plt.figure(figsize=(10,5))   \n",
    "# plotting depth,trainingAuC separately. \n",
    "plt.plot(plot_lgX_train,plot_Y_train, 'b--',label=\"TrainingSet AUC\")    \n",
    "# plotting depth,CrossValidationAuC separately. \n",
    "plt.plot(plot_lgX_train,plot_Y_cv, 'r--',label=\"CrossvalidationSet AUC\")   \n",
    "\n",
    "plt.title(\"Plot of AUC vs log(Depth) .\")  # Set the title of the plot.\n",
    "plt.xlabel(\"log(Depth)\")                  # Set the x label of the plot.\n",
    "plt.ylabel(\"AuC\")                         # Set the y label of the plot.\n",
    "\n",
    "# Display the plot.\n",
    "plt.legend()                              # set the legend\n",
    "plt.show()                                # display the plot.\n",
    "\n",
    "# Set the end time of the current cell run.\n",
    "endtime_dt_tfidf = datetime.datetime.now()\n",
    "\n",
    "# Print the cell run duration.\n",
    "print(\"Starttime is : {}\".format(starttime_dt_tfidf))\n",
    "print(\"Endtime   is : {}\".format(endtime_dt_tfidf))\n"
   ]
  },
  {
   "cell_type": "code",
   "execution_count": null,
   "metadata": {},
   "outputs": [],
   "source": []
  },
  {
   "cell_type": "markdown",
   "metadata": {},
   "source": [
    "#### NOTE :\n",
    "    . If the training score and the validation score are both low, the classifier is underfitting. \n",
    "    . If the training score is high and the validation score is low, the classifier is overfitting.\n",
    "    . Otherwise it is working very well. \n",
    "\n",
    "\n",
    "#### OBSERVATION :  When the tree depth = 10, then training and cross-validation AUC is high, beyond which the training AuC continues to increase while the cross-validation AuC decreases. At tree depth = 10, the model neither Overfits nor Underfits.\n",
    "#### The optimal hyper-parameter, Depth choosen is shown below :\n",
    "    . Depth of tree = 10\n",
    "    . Training AUC Score = 0.8173\n",
    "    . CrossValidation AUC Score = 0.7831\n"
   ]
  },
  {
   "cell_type": "code",
   "execution_count": null,
   "metadata": {},
   "outputs": [],
   "source": []
  },
  {
   "cell_type": "markdown",
   "metadata": {},
   "source": [
    "#### [5.2.1.5] Hyper-Parameter Tuning : Using the cross-validation dataset to calculate the optimal 'min_sample_split' in TFIDF case."
   ]
  },
  {
   "cell_type": "code",
   "execution_count": 54,
   "metadata": {},
   "outputs": [
    {
     "name": "stdout",
     "output_type": "stream",
     "text": [
      "Min_SampleSplit :\n",
      "[5, 10, 100, 500]\n",
      "\n",
      "Log of Min_SampleSplit :\n",
      "[1.6094379124341003, 2.302585092994046, 4.605170185988092, 6.214608098422191]\n",
      "\n",
      "TrainingSet AuC :\n",
      "[0.8302429227135781, 0.8297182598629835, 0.8230247822121718, 0.8173589532708914]\n",
      "\n",
      "CVset AuC :\n",
      "[0.7770529390860269, 0.775347571170307, 0.7805363383300827, 0.7831088780960312]\n",
      "\n",
      "Plot of AuC vs Log of Min_SampleSplit:\n"
     ]
    },
    {
     "data": {
      "image/png": "[encoded data removed]",
      "text/plain": [
       "<Figure size 720x360 with 1 Axes>"
      ]
     },
     "metadata": {},
     "output_type": "display_data"
    },
    {
     "name": "stdout",
     "output_type": "stream",
     "text": [
      "Starttime is : 2019-02-01 21:45:23.942756\n",
      "Endtime   is : 2019-02-01 21:45:53.690309\n"
     ]
    }
   ],
   "source": [
    "import matplotlib.pyplot as plt\n",
    "# plot inline\n",
    "%matplotlib inline  \n",
    "\n",
    "# Import the DecisionTreeClassifier .\n",
    "from sklearn import tree\n",
    "# Import the metrics module.\n",
    "from sklearn.metrics import roc_auc_score\n",
    "\n",
    "# Set the start time of the current cell run.\n",
    "starttime_dt_tfidf = datetime.datetime.now()\n",
    "\n",
    "# Set the range for the hyper-parameters.\n",
    "# Experiment with min_sample_split ranges in [5, 10,100,500].\n",
    "# Here min_samples_split is the other hyper-parameter of the DecisionTreeClassifier\n",
    "\n",
    "hp_min_samples_split = [5, 10, 100, 500]\n",
    "\n",
    "# Use the cross-validation dataset to determine the best hyper-parameter min_sample_split.\n",
    "plot_X_train = []\n",
    "plot_lgX_train = []\n",
    "plot_Y_train = []\n",
    "plot_Y_cv = []\n",
    "\n",
    "# Loop through various values of min_samples_split.\n",
    "for i in hp_min_samples_split:\n",
    "    dt_optimal = tree.DecisionTreeClassifier(# metric to measure quality of the split.\n",
    "                                             criterion='gini',\n",
    "                                             # strategy used to split at each node.\n",
    "                                             splitter = 'best', \n",
    "                                             # Hyper-parameter, \"Depth\" of the current iteration.\n",
    "                                             max_depth=(10), \n",
    "                                             # Hyper-parameter, \"minimum sample split\" of the \n",
    "                                             # current iteration.\n",
    "                                             min_samples_split = (i),\n",
    "                                             # uses the values of y to automatically \n",
    "                                             # adjust weights in the input data.\n",
    "                                             class_weight='balanced')   \n",
    "\n",
    "    # fit the model on the training set.\n",
    "    dt_optimal.fit(X_train_stdzd, Y_train) \n",
    "    # predict class probabilities in training set.    \n",
    "    Y_pred_train = dt_optimal.predict_proba(X_train_stdzd)[:, 1]\n",
    "    # predict class probabilities in CV set.\n",
    "    Y_pred_cv = dt_optimal.predict_proba(X_cv_stdzd)[:, 1]              \n",
    "\n",
    "    # Compute AuC metric.\n",
    "    plot_X_train.append(i)           # plot (min_sample_split) on the x-axis.\n",
    "    plot_lgX_train.append(np.log(i)) # plot log(min_sample_split) on the x-axis.\n",
    "    # TrainingSet\n",
    "    plot_Y_train.append(roc_auc_score(Y_train,Y_pred_train)) # plot trainingset auc score on the y-axis.\n",
    "    # CV set\n",
    "    plot_Y_cv.append(roc_auc_score(Y_cv,Y_pred_cv)) # plot cvset auc score on the y-axis.\n",
    "\n",
    "\n",
    "\n",
    "# print X,Y\n",
    "print(\"Min_SampleSplit :\\n{}\".format(plot_X_train))\n",
    "print(\"\\nLog of Min_SampleSplit :\\n{}\".format(plot_lgX_train))\n",
    "print(\"\\nTrainingSet AuC :\\n{}\".format(plot_Y_train))\n",
    "print(\"\\nCVset AuC :\\n{}\".format(plot_Y_cv))\n",
    "\n",
    "print(\"\\nPlot of AuC vs Log of Min_SampleSplit:\")\n",
    "# Plot X-axis = log(Min_SampleSplit),Y-axis = TrainingSet and CVSet AuC to determine the best hyper-parameter.\n",
    "\n",
    "# set the figure size.\n",
    "plt.figure(figsize=(10,5))   \n",
    "# plotting Min_SampleSplit,trainingAuC separately. \n",
    "plt.plot(plot_lgX_train,plot_Y_train, 'b--',label=\"TrainingSet AUC\")  \n",
    "# plotting Min_SampleSplit,CrossValidationAuC separately. \n",
    "plt.plot(plot_lgX_train,plot_Y_cv, 'r--',label=\"CrossValidationSet AUC\")   \n",
    "\n",
    "plt.title(\"Plot of AUC vs log(Min_SampleSplit) .\")  # Set the title of the plot.\n",
    "plt.xlabel(\"log(Min_SampleSplit)\")                  # Set the x label of the plot.\n",
    "plt.ylabel(\"AUC\")                                   # Set the y label of the plot.\n",
    "\n",
    "# Display the plot.\n",
    "plt.legend()                              # set the legend\n",
    "plt.show()                                # display the plot.\n",
    "\n",
    "# Set the end time of the current cell run.\n",
    "endtime_dt_tfidf = datetime.datetime.now()\n",
    "\n",
    "# Print the cell run duration.\n",
    "print(\"Starttime is : {}\".format(starttime_dt_tfidf))\n",
    "print(\"Endtime   is : {}\".format(endtime_dt_tfidf))\n"
   ]
  },
  {
   "cell_type": "code",
   "execution_count": null,
   "metadata": {},
   "outputs": [],
   "source": []
  },
  {
   "cell_type": "markdown",
   "metadata": {},
   "source": [
    "#### NOTE :\n",
    "    . If the training score and the validation score are both low, the classifier is underfitting. \n",
    "    . If the training score is high and the validation score is low, the classifier is overfitting.\n",
    "    . Otherwise it is working very well. \n",
    "\n",
    "#### OBSERVATION :  When the min_sample_split = 500, then training AUC is low and cross-validation AUC is high. At this point the model neither Overfits nor Underfits.\n",
    "#### The optimal hyper-parameter Min_Sample_Split choosen is shown below :\n",
    "    . Min_Sample_Split = 500\n",
    "    . Training AUC Score = 0.8173\n",
    "    . CV AUC Score = 0.7831\n"
   ]
  },
  {
   "cell_type": "code",
   "execution_count": null,
   "metadata": {},
   "outputs": [],
   "source": []
  },
  {
   "cell_type": "markdown",
   "metadata": {},
   "source": [
    "#### [5.2.1.5] : Train and Fit the DecisionTree classifier in the training set. Compute the performance metrics by predicting the model on the test set."
   ]
  },
  {
   "cell_type": "code",
   "execution_count": 55,
   "metadata": {},
   "outputs": [
    {
     "name": "stdout",
     "output_type": "stream",
     "text": [
      "Starttime is : 2019-02-01 21:46:55.110596\n",
      "Endtime   is : 2019-02-01 21:47:01.463463\n"
     ]
    }
   ],
   "source": [
    "# Import the DecisionTreeClassifier.\n",
    "from sklearn import tree\n",
    "\n",
    "# Set the start time of the current cell run.\n",
    "starttime_dt_tfidf = datetime.datetime.now()\n",
    "\n",
    "# The best value of the hyper-parameter depth-tree.\n",
    "optimal_depthtree = 10\n",
    "\n",
    "# The best value of the hyper-parameter minimum_samplesplit.\n",
    "optimal_minsamplesplit = 500\n",
    "\n",
    "# Instantiate the DecisionTree model with optimal hyper-paramters.\n",
    "dt_optimal = tree.DecisionTreeClassifier(# metric to measure quality of the split.\n",
    "                                         criterion='gini',\n",
    "                                         # strategy used to split at each node.\n",
    "                                         splitter = 'best',  \n",
    "                                         # Hyper-parameter, \"Depth\" of the current iteration.\n",
    "                                         max_depth=(optimal_depthtree),\n",
    "                                         # Hyper-parameter, \"minimum sample split\" \n",
    "                                         # of the current iteration.\n",
    "                                         min_samples_split = (optimal_minsamplesplit), \n",
    "                                         # uses the values of y to automatically \n",
    "                                         # adjust weights in the input data.                                              \n",
    "                                         class_weight='balanced') \n",
    "\n",
    "# fit the model on the training set.\n",
    "dt_optimal.fit(X_train_stdzd, Y_train)  \n",
    "# predict,response from the DecisionTree model.\n",
    "Y_pred_test = dt_optimal.predict(X_test_stdzd)\n",
    "# predict class probabilities on the trainset.\n",
    "Y_pred_train_pb = dt_optimal.predict_proba(X_train_stdzd)[:, 1] \n",
    "# predict class probabilities on the cvset.\n",
    "Y_pred_cv_pb = dt_optimal.predict_proba(X_cv_stdzd)[:, 1] \n",
    "# predict class probabilities on the testset.\n",
    "Y_pred_test_pb = dt_optimal.predict_proba(X_test_stdzd)[:, 1]    \n",
    "\n",
    "# Set the end time of the current cell run.\n",
    "endtime_dt_tfidf = datetime.datetime.now()\n",
    "\n",
    "# Print the cell run duration.\n",
    "print(\"Starttime is : {}\".format(starttime_dt_tfidf))\n",
    "print(\"Endtime   is : {}\".format(endtime_dt_tfidf))"
   ]
  },
  {
   "cell_type": "markdown",
   "metadata": {},
   "source": [
    "#### [5.2.1.6] : Plot the ROC Curve."
   ]
  },
  {
   "cell_type": "code",
   "execution_count": 56,
   "metadata": {},
   "outputs": [
    {
     "data": {
      "image/png": "[encoded data removed]",
      "text/plain": [
       "<Figure size 720x360 with 1 Axes>"
      ]
     },
     "metadata": {},
     "output_type": "display_data"
    }
   ],
   "source": [
    "# Import the modules\n",
    "from sklearn.metrics import roc_curve\n",
    "import matplotlib.pyplot as plt\n",
    "\n",
    "# Calculate the RoC curve\n",
    "# compute the test roc curve.\n",
    "fprTest, tprTest, thresholdsTest = roc_curve(Y_test,Y_pred_test_pb,pos_label=1)\n",
    "# compute the cv roc curve.\n",
    "fprCV, tprCV, thresholdsCV = roc_curve(Y_cv,Y_pred_cv_pb,pos_label=1)  \n",
    "# compute the train roc curve.\n",
    "fprTrain, tprTrain, thresholdsTrain = roc_curve(Y_train,Y_pred_train_pb,pos_label=1) \n",
    "\n",
    "plt.figure(figsize=(10,5))  # set the figure size.\n",
    "plt.plot([0, 1], [0, 1], linestyle='--',label=\"50% probability line\") # plot the 50% probability line.\n",
    "plt.plot(fprTrain, tprTrain, marker='.',label=\"Train AUC\")  # plot the train roc curve for the model.\n",
    "plt.plot(fprCV, tprCV, marker='.',label=\"CV AUC\")           # plot the cv roc curve for the model.\n",
    "plt.plot(fprTest, tprTest, marker='.',label=\"Test AUC\")     # plot the test roc curve for the model.\n",
    "plt.title(\"ROC Curve.\")                                     # set the title of the plot.\n",
    "plt.xlabel(\"False Positive Rate\")                           # set the x label of the plot.\n",
    "plt.ylabel(\"True Positive Rate\")                            # set the y label of the plot.\n",
    "plt.legend()                                                # set the legend\n",
    "plt.show()                                                  # show the plot."
   ]
  },
  {
   "cell_type": "markdown",
   "metadata": {},
   "source": [
    "#### [5.2.1.7] Plot the classifier performance metrics."
   ]
  },
  {
   "cell_type": "code",
   "execution_count": 57,
   "metadata": {},
   "outputs": [
    {
     "data": {
      "image/png": "[encoded data removed]",
      "text/plain": [
       "<Figure size 360x360 with 2 Axes>"
      ]
     },
     "metadata": {},
     "output_type": "display_data"
    },
    {
     "name": "stdout",
     "output_type": "stream",
     "text": [
      "\n",
      "The class composition in the testset is :\n",
      "1    16442\n",
      "0     3558\n",
      "Name: Comment, dtype: int64\n"
     ]
    }
   ],
   "source": [
    "# evaluate the model and report the metrics.\n",
    "from sklearn.metrics import confusion_matrix\n",
    "conf_mat = confusion_matrix(Y_test, Y_pred_test)\n",
    "fig, ax = plt.subplots(figsize=(5,5))\n",
    "sns.heatmap(conf_mat, annot=True, fmt='d'\n",
    "            ,xticklabels=['negative','positive'], yticklabels=['negative','positive'])\n",
    "plt.title('Confusion Matrix : (Vectorizer = TFIDF)')\n",
    "plt.ylabel('Actual')\n",
    "plt.xlabel('Predicted')\n",
    "plt.show()\n",
    "\n",
    "#Class composition in the testset.\n",
    "dfYTest = pd.DataFrame(list(Y_test),columns=['Comment'])\n",
    "print(\"\\nThe class composition in the testset is :\")\n",
    "print(dfYTest[\"Comment\"].value_counts())"
   ]
  },
  {
   "cell_type": "code",
   "execution_count": null,
   "metadata": {},
   "outputs": [],
   "source": []
  },
  {
   "cell_type": "markdown",
   "metadata": {
    "colab_type": "text",
    "id": "PIKUCldjiWO0"
   },
   "source": [
    "### [5.2.2] Top 20 important features from<font color='red'> SET 2</font>"
   ]
  },
  {
   "cell_type": "code",
   "execution_count": null,
   "metadata": {},
   "outputs": [],
   "source": []
  },
  {
   "cell_type": "code",
   "execution_count": 58,
   "metadata": {
    "colab": {},
    "colab_type": "code",
    "id": "p2P0iHQciWO1"
   },
   "outputs": [
    {
     "data": {
      "text/html": [
       "<div>\n",
       "<style scoped>\n",
       "    .dataframe tbody tr th:only-of-type {\n",
       "        vertical-align: middle;\n",
       "    }\n",
       "\n",
       "    .dataframe tbody tr th {\n",
       "        vertical-align: top;\n",
       "    }\n",
       "\n",
       "    .dataframe thead th {\n",
       "        text-align: right;\n",
       "    }\n",
       "</style>\n",
       "<table border=\"1\" class=\"dataframe\">\n",
       "  <thead>\n",
       "    <tr style=\"text-align: right;\">\n",
       "      <th></th>\n",
       "      <th>ColumnIndex</th>\n",
       "      <th>Word</th>\n",
       "      <th>FeatureImportanceSore</th>\n",
       "    </tr>\n",
       "  </thead>\n",
       "  <tbody>\n",
       "    <tr>\n",
       "      <th>4999</th>\n",
       "      <td>2843</td>\n",
       "      <td>not</td>\n",
       "      <td>0.268601</td>\n",
       "    </tr>\n",
       "    <tr>\n",
       "      <th>4998</th>\n",
       "      <td>1846</td>\n",
       "      <td>great</td>\n",
       "      <td>0.152321</td>\n",
       "    </tr>\n",
       "    <tr>\n",
       "      <th>4997</th>\n",
       "      <td>2482</td>\n",
       "      <td>love</td>\n",
       "      <td>0.073445</td>\n",
       "    </tr>\n",
       "    <tr>\n",
       "      <th>4996</th>\n",
       "      <td>1050</td>\n",
       "      <td>delicious</td>\n",
       "      <td>0.067353</td>\n",
       "    </tr>\n",
       "    <tr>\n",
       "      <th>4995</th>\n",
       "      <td>319</td>\n",
       "      <td>best</td>\n",
       "      <td>0.061932</td>\n",
       "    </tr>\n",
       "    <tr>\n",
       "      <th>4994</th>\n",
       "      <td>1121</td>\n",
       "      <td>disappointed</td>\n",
       "      <td>0.047470</td>\n",
       "    </tr>\n",
       "    <tr>\n",
       "      <th>4993</th>\n",
       "      <td>1769</td>\n",
       "      <td>good</td>\n",
       "      <td>0.042738</td>\n",
       "    </tr>\n",
       "    <tr>\n",
       "      <th>4992</th>\n",
       "      <td>3225</td>\n",
       "      <td>perfect</td>\n",
       "      <td>0.039068</td>\n",
       "    </tr>\n",
       "    <tr>\n",
       "      <th>4991</th>\n",
       "      <td>2503</td>\n",
       "      <td>loves</td>\n",
       "      <td>0.035953</td>\n",
       "    </tr>\n",
       "    <tr>\n",
       "      <th>4990</th>\n",
       "      <td>2805</td>\n",
       "      <td>nice</td>\n",
       "      <td>0.016338</td>\n",
       "    </tr>\n",
       "    <tr>\n",
       "      <th>4989</th>\n",
       "      <td>4426</td>\n",
       "      <td>terrible</td>\n",
       "      <td>0.014424</td>\n",
       "    </tr>\n",
       "    <tr>\n",
       "      <th>4988</th>\n",
       "      <td>2897</td>\n",
       "      <td>not good</td>\n",
       "      <td>0.012898</td>\n",
       "    </tr>\n",
       "    <tr>\n",
       "      <th>4987</th>\n",
       "      <td>1351</td>\n",
       "      <td>excellent</td>\n",
       "      <td>0.012283</td>\n",
       "    </tr>\n",
       "    <tr>\n",
       "      <th>4986</th>\n",
       "      <td>1431</td>\n",
       "      <td>favorite</td>\n",
       "      <td>0.011001</td>\n",
       "    </tr>\n",
       "    <tr>\n",
       "      <th>4985</th>\n",
       "      <td>3691</td>\n",
       "      <td>reviews</td>\n",
       "      <td>0.009402</td>\n",
       "    </tr>\n",
       "    <tr>\n",
       "      <th>4984</th>\n",
       "      <td>2899</td>\n",
       "      <td>not great</td>\n",
       "      <td>0.009245</td>\n",
       "    </tr>\n",
       "    <tr>\n",
       "      <th>4983</th>\n",
       "      <td>4928</td>\n",
       "      <td>would great</td>\n",
       "      <td>0.008105</td>\n",
       "    </tr>\n",
       "    <tr>\n",
       "      <th>4982</th>\n",
       "      <td>234</td>\n",
       "      <td>bad</td>\n",
       "      <td>0.007170</td>\n",
       "    </tr>\n",
       "    <tr>\n",
       "      <th>4981</th>\n",
       "      <td>4648</td>\n",
       "      <td>unfortunately</td>\n",
       "      <td>0.006398</td>\n",
       "    </tr>\n",
       "    <tr>\n",
       "      <th>4980</th>\n",
       "      <td>2054</td>\n",
       "      <td>horrible</td>\n",
       "      <td>0.005785</td>\n",
       "    </tr>\n",
       "  </tbody>\n",
       "</table>\n",
       "</div>"
      ],
      "text/plain": [
       "      ColumnIndex           Word  FeatureImportanceSore\n",
       "4999         2843            not               0.268601\n",
       "4998         1846          great               0.152321\n",
       "4997         2482           love               0.073445\n",
       "4996         1050      delicious               0.067353\n",
       "4995          319           best               0.061932\n",
       "4994         1121   disappointed               0.047470\n",
       "4993         1769           good               0.042738\n",
       "4992         3225        perfect               0.039068\n",
       "4991         2503          loves               0.035953\n",
       "4990         2805           nice               0.016338\n",
       "4989         4426       terrible               0.014424\n",
       "4988         2897       not good               0.012898\n",
       "4987         1351      excellent               0.012283\n",
       "4986         1431       favorite               0.011001\n",
       "4985         3691        reviews               0.009402\n",
       "4984         2899      not great               0.009245\n",
       "4983         4928    would great               0.008105\n",
       "4982          234            bad               0.007170\n",
       "4981         4648  unfortunately               0.006398\n",
       "4980         2054       horrible               0.005785"
      ]
     },
     "execution_count": 58,
     "metadata": {},
     "output_type": "execute_result"
    }
   ],
   "source": [
    "#featImp = dt_optimal.feature_importances_\n",
    "\n",
    "# get the featureImportance FI for the dataset X_test_stdzd.\n",
    "featImp = dt_optimal.feature_importances_\n",
    "\n",
    "# get the indices of the features sorted by importance.\n",
    "indices = np.argsort(featImp) #[::-1]\n",
    "\n",
    "# get the feature names from the indices obtained above.\n",
    "wordVector = np.take(tf_idf_vect.get_feature_names(), indices)\n",
    "\n",
    "#print the feature importance score of the sorted features.\n",
    "featImpScore = featImp[indices]\n",
    "\n",
    "# Prepare the data from the columnIndex,weightvector and wordvector.\n",
    "lstData = list(zip(indices,featImpScore,wordVector))\n",
    "\n",
    "# create a dataframe to store the columnindex,weights,words of the text corpus.\n",
    "dfTopWords = pd.DataFrame(data=lstData,columns=['ColumnIndex','FeatureImportanceSore','Word'])\n",
    "\n",
    "# Get the top 20 features with their featureImportance score.\n",
    "dfTopWords[['ColumnIndex','Word','FeatureImportanceSore'\n",
    "          ]].sort_values(['FeatureImportanceSore'],ascending=False).head(20)"
   ]
  },
  {
   "cell_type": "markdown",
   "metadata": {
    "colab_type": "text",
    "id": "RTZB9ipUiWO3"
   },
   "source": [
    "### [5.2.3] Graphviz visualization of Decision Tree on TFIDF,<font color='red'> SET 2</font>"
   ]
  },
  {
   "cell_type": "code",
   "execution_count": 59,
   "metadata": {
    "colab": {},
    "colab_type": "code",
    "id": "DMbZoPoTiWO4"
   },
   "outputs": [
    {
     "data": {
      "image/svg+xml": [
       "<?xml version=\"1.0\" encoding=\"UTF-8\" standalone=\"no\"?>\r\n",
       "<!DOCTYPE svg PUBLIC \"-//W3C//DTD SVG 1.1//EN\"\r\n",
       " \"http://www.w3.org/Graphics/SVG/1.1/DTD/svg11.dtd\">\r\n",
       "<!-- Generated by graphviz version 2.38.0 (20140413.2041)\r\n",
       " -->\r\n",
       "<!-- Title: Tree Pages: 1 -->\r\n",
       "<svg width=\"1476pt\" height=\"373pt\"\r\n",
       " viewBox=\"0.00 0.00 1476.00 373.00\" xmlns=\"http://www.w3.org/2000/svg\" xmlns:xlink=\"http://www.w3.org/1999/xlink\">\r\n",
       "<g id=\"graph0\" class=\"graph\" transform=\"scale(1 1) rotate(0) translate(4 369)\">\r\n",
       "<title>Tree</title>\r\n",
       "<polygon fill=\"white\" stroke=\"none\" points=\"-4,4 -4,-369 1472,-369 1472,4 -4,4\"/>\r\n",
       "<!-- 0 -->\r\n",
       "<g id=\"node1\" class=\"node\"><title>0</title>\r\n",
       "<polygon fill=\"none\" stroke=\"black\" points=\"813.5,-365 647.5,-365 647.5,-297 813.5,-297 813.5,-365\"/>\r\n",
       "<text text-anchor=\"middle\" x=\"730.5\" y=\"-349.8\" font-family=\"Times New Roman,serif\" font-size=\"14.00\">not &lt;= 0.028</text>\r\n",
       "<text text-anchor=\"middle\" x=\"730.5\" y=\"-334.8\" font-family=\"Times New Roman,serif\" font-size=\"14.00\">gini = 0.5</text>\r\n",
       "<text text-anchor=\"middle\" x=\"730.5\" y=\"-319.8\" font-family=\"Times New Roman,serif\" font-size=\"14.00\">samples = 60000</text>\r\n",
       "<text text-anchor=\"middle\" x=\"730.5\" y=\"-304.8\" font-family=\"Times New Roman,serif\" font-size=\"14.00\">value = [30000.0, 30000.0]</text>\r\n",
       "</g>\r\n",
       "<!-- 1 -->\r\n",
       "<g id=\"node2\" class=\"node\"><title>1</title>\r\n",
       "<polygon fill=\"none\" stroke=\"black\" points=\"685,-261 506,-261 506,-193 685,-193 685,-261\"/>\r\n",
       "<text text-anchor=\"middle\" x=\"595.5\" y=\"-245.8\" font-family=\"Times New Roman,serif\" font-size=\"14.00\">great &lt;= 0.027</text>\r\n",
       "<text text-anchor=\"middle\" x=\"595.5\" y=\"-230.8\" font-family=\"Times New Roman,serif\" font-size=\"14.00\">gini = 0.439</text>\r\n",
       "<text text-anchor=\"middle\" x=\"595.5\" y=\"-215.8\" font-family=\"Times New Roman,serif\" font-size=\"14.00\">samples = 28395</text>\r\n",
       "<text text-anchor=\"middle\" x=\"595.5\" y=\"-200.8\" font-family=\"Times New Roman,serif\" font-size=\"14.00\">value = [7502.91, 15586.211]</text>\r\n",
       "</g>\r\n",
       "<!-- 0&#45;&gt;1 -->\r\n",
       "<g id=\"edge1\" class=\"edge\"><title>0&#45;&gt;1</title>\r\n",
       "<path fill=\"none\" stroke=\"black\" d=\"M686.669,-296.884C674.291,-287.531 660.696,-277.259 647.87,-267.568\"/>\r\n",
       "<polygon fill=\"black\" stroke=\"black\" points=\"649.661,-264.535 639.573,-261.299 645.441,-270.12 649.661,-264.535\"/>\r\n",
       "<text text-anchor=\"middle\" x=\"643.02\" y=\"-282.36\" font-family=\"Times New Roman,serif\" font-size=\"14.00\">True</text>\r\n",
       "</g>\r\n",
       "<!-- 8 -->\r\n",
       "<g id=\"node9\" class=\"node\"><title>8</title>\r\n",
       "<polygon fill=\"none\" stroke=\"black\" points=\"959.5,-261 773.5,-261 773.5,-193 959.5,-193 959.5,-261\"/>\r\n",
       "<text text-anchor=\"middle\" x=\"866.5\" y=\"-245.8\" font-family=\"Times New Roman,serif\" font-size=\"14.00\">great &lt;= 0.033</text>\r\n",
       "<text text-anchor=\"middle\" x=\"866.5\" y=\"-230.8\" font-family=\"Times New Roman,serif\" font-size=\"14.00\">gini = 0.476</text>\r\n",
       "<text text-anchor=\"middle\" x=\"866.5\" y=\"-215.8\" font-family=\"Times New Roman,serif\" font-size=\"14.00\">samples = 31605</text>\r\n",
       "<text text-anchor=\"middle\" x=\"866.5\" y=\"-200.8\" font-family=\"Times New Roman,serif\" font-size=\"14.00\">value = [22497.09, 14413.789]</text>\r\n",
       "</g>\r\n",
       "<!-- 0&#45;&gt;8 -->\r\n",
       "<g id=\"edge8\" class=\"edge\"><title>0&#45;&gt;8</title>\r\n",
       "<path fill=\"none\" stroke=\"black\" d=\"M774.655,-296.884C787.126,-287.531 800.821,-277.259 813.742,-267.568\"/>\r\n",
       "<polygon fill=\"black\" stroke=\"black\" points=\"816.201,-270.099 822.101,-261.299 812.001,-264.499 816.201,-270.099\"/>\r\n",
       "<text text-anchor=\"middle\" x=\"818.565\" y=\"-282.348\" font-family=\"Times New Roman,serif\" font-size=\"14.00\">False</text>\r\n",
       "</g>\r\n",
       "<!-- 2 -->\r\n",
       "<g id=\"node3\" class=\"node\"><title>2</title>\r\n",
       "<polygon fill=\"none\" stroke=\"black\" points=\"373.5,-157 187.5,-157 187.5,-89 373.5,-89 373.5,-157\"/>\r\n",
       "<text text-anchor=\"middle\" x=\"280.5\" y=\"-141.8\" font-family=\"Times New Roman,serif\" font-size=\"14.00\">love &lt;= 0.045</text>\r\n",
       "<text text-anchor=\"middle\" x=\"280.5\" y=\"-126.8\" font-family=\"Times New Roman,serif\" font-size=\"14.00\">gini = 0.472</text>\r\n",
       "<text text-anchor=\"middle\" x=\"280.5\" y=\"-111.8\" font-family=\"Times New Roman,serif\" font-size=\"14.00\">samples = 20890</text>\r\n",
       "<text text-anchor=\"middle\" x=\"280.5\" y=\"-96.8\" font-family=\"Times New Roman,serif\" font-size=\"14.00\">value = [6920.838, 11176.044]</text>\r\n",
       "</g>\r\n",
       "<!-- 1&#45;&gt;2 -->\r\n",
       "<g id=\"edge2\" class=\"edge\"><title>1&#45;&gt;2</title>\r\n",
       "<path fill=\"none\" stroke=\"black\" d=\"M505.655,-196.907C467.601,-184.585 423.041,-170.156 383.65,-157.401\"/>\r\n",
       "<polygon fill=\"black\" stroke=\"black\" points=\"384.346,-153.948 373.754,-154.197 382.19,-160.607 384.346,-153.948\"/>\r\n",
       "</g>\r\n",
       "<!-- 5 -->\r\n",
       "<g id=\"node6\" class=\"node\"><title>5</title>\r\n",
       "<polygon fill=\"none\" stroke=\"black\" points=\"682,-157 509,-157 509,-89 682,-89 682,-157\"/>\r\n",
       "<text text-anchor=\"middle\" x=\"595.5\" y=\"-141.8\" font-family=\"Times New Roman,serif\" font-size=\"14.00\">disappointed &lt;= 0.068</text>\r\n",
       "<text text-anchor=\"middle\" x=\"595.5\" y=\"-126.8\" font-family=\"Times New Roman,serif\" font-size=\"14.00\">gini = 0.206</text>\r\n",
       "<text text-anchor=\"middle\" x=\"595.5\" y=\"-111.8\" font-family=\"Times New Roman,serif\" font-size=\"14.00\">samples = 7505</text>\r\n",
       "<text text-anchor=\"middle\" x=\"595.5\" y=\"-96.8\" font-family=\"Times New Roman,serif\" font-size=\"14.00\">value = [582.072, 4410.167]</text>\r\n",
       "</g>\r\n",
       "<!-- 1&#45;&gt;5 -->\r\n",
       "<g id=\"edge5\" class=\"edge\"><title>1&#45;&gt;5</title>\r\n",
       "<path fill=\"none\" stroke=\"black\" d=\"M595.5,-192.884C595.5,-184.778 595.5,-175.982 595.5,-167.472\"/>\r\n",
       "<polygon fill=\"black\" stroke=\"black\" points=\"599,-167.299 595.5,-157.299 592,-167.299 599,-167.299\"/>\r\n",
       "</g>\r\n",
       "<!-- 3 -->\r\n",
       "<g id=\"node4\" class=\"node\"><title>3</title>\r\n",
       "<polygon fill=\"none\" stroke=\"black\" points=\"179,-53 0,-53 0,-0 179,-0 179,-53\"/>\r\n",
       "<text text-anchor=\"middle\" x=\"89.5\" y=\"-37.8\" font-family=\"Times New Roman,serif\" font-size=\"14.00\">gini = 0.487</text>\r\n",
       "<text text-anchor=\"middle\" x=\"89.5\" y=\"-22.8\" font-family=\"Times New Roman,serif\" font-size=\"14.00\">samples = 17158</text>\r\n",
       "<text text-anchor=\"middle\" x=\"89.5\" y=\"-7.8\" font-family=\"Times New Roman,serif\" font-size=\"14.00\">value = [6498.836, 9010.505]</text>\r\n",
       "</g>\r\n",
       "<!-- 2&#45;&gt;3 -->\r\n",
       "<g id=\"edge3\" class=\"edge\"><title>2&#45;&gt;3</title>\r\n",
       "<path fill=\"none\" stroke=\"black\" d=\"M213.697,-88.9485C193.081,-78.748 170.497,-67.5744 150.307,-57.5852\"/>\r\n",
       "<polygon fill=\"black\" stroke=\"black\" points=\"151.73,-54.3843 141.215,-53.0867 148.626,-60.6583 151.73,-54.3843\"/>\r\n",
       "</g>\r\n",
       "<!-- 4 -->\r\n",
       "<g id=\"node5\" class=\"node\"><title>4</title>\r\n",
       "<polygon fill=\"none\" stroke=\"black\" points=\"363.5,-53 197.5,-53 197.5,-0 363.5,-0 363.5,-53\"/>\r\n",
       "<text text-anchor=\"middle\" x=\"280.5\" y=\"-37.8\" font-family=\"Times New Roman,serif\" font-size=\"14.00\">gini = 0.273</text>\r\n",
       "<text text-anchor=\"middle\" x=\"280.5\" y=\"-22.8\" font-family=\"Times New Roman,serif\" font-size=\"14.00\">samples = 3732</text>\r\n",
       "<text text-anchor=\"middle\" x=\"280.5\" y=\"-7.8\" font-family=\"Times New Roman,serif\" font-size=\"14.00\">value = [422.002, 2165.54]</text>\r\n",
       "</g>\r\n",
       "<!-- 2&#45;&gt;4 -->\r\n",
       "<g id=\"edge4\" class=\"edge\"><title>2&#45;&gt;4</title>\r\n",
       "<path fill=\"none\" stroke=\"black\" d=\"M280.5,-88.9485C280.5,-80.7153 280.5,-71.848 280.5,-63.4814\"/>\r\n",
       "<polygon fill=\"black\" stroke=\"black\" points=\"284,-63.2367 280.5,-53.2367 277,-63.2367 284,-63.2367\"/>\r\n",
       "</g>\r\n",
       "<!-- 6 -->\r\n",
       "<g id=\"node7\" class=\"node\"><title>6</title>\r\n",
       "<polygon fill=\"none\" stroke=\"black\" points=\"555,-53 382,-53 382,-0 555,-0 555,-53\"/>\r\n",
       "<text text-anchor=\"middle\" x=\"468.5\" y=\"-37.8\" font-family=\"Times New Roman,serif\" font-size=\"14.00\">gini = 0.19</text>\r\n",
       "<text text-anchor=\"middle\" x=\"468.5\" y=\"-22.8\" font-family=\"Times New Roman,serif\" font-size=\"14.00\">samples = 7458</text>\r\n",
       "<text text-anchor=\"middle\" x=\"468.5\" y=\"-7.8\" font-family=\"Times New Roman,serif\" font-size=\"14.00\">value = [523.865, 4393.866]</text>\r\n",
       "</g>\r\n",
       "<!-- 5&#45;&gt;6 -->\r\n",
       "<g id=\"edge6\" class=\"edge\"><title>5&#45;&gt;6</title>\r\n",
       "<path fill=\"none\" stroke=\"black\" d=\"M551.082,-88.9485C538.173,-79.3431 524.104,-68.8747 511.297,-59.345\"/>\r\n",
       "<polygon fill=\"black\" stroke=\"black\" points=\"513.2,-56.3984 503.088,-53.2367 509.021,-62.0143 513.2,-56.3984\"/>\r\n",
       "</g>\r\n",
       "<!-- 7 -->\r\n",
       "<g id=\"node8\" class=\"node\"><title>7</title>\r\n",
       "<polygon fill=\"none\" stroke=\"black\" points=\"712,-53 573,-53 573,-0 712,-0 712,-53\"/>\r\n",
       "<text text-anchor=\"middle\" x=\"642.5\" y=\"-37.8\" font-family=\"Times New Roman,serif\" font-size=\"14.00\">gini = 0.342</text>\r\n",
       "<text text-anchor=\"middle\" x=\"642.5\" y=\"-22.8\" font-family=\"Times New Roman,serif\" font-size=\"14.00\">samples = 47</text>\r\n",
       "<text text-anchor=\"middle\" x=\"642.5\" y=\"-7.8\" font-family=\"Times New Roman,serif\" font-size=\"14.00\">value = [58.207, 16.3]</text>\r\n",
       "</g>\r\n",
       "<!-- 5&#45;&gt;7 -->\r\n",
       "<g id=\"edge7\" class=\"edge\"><title>5&#45;&gt;7</title>\r\n",
       "<path fill=\"none\" stroke=\"black\" d=\"M611.938,-88.9485C616.215,-80.3494 620.836,-71.0586 625.158,-62.3689\"/>\r\n",
       "<polygon fill=\"black\" stroke=\"black\" points=\"628.38,-63.7491 629.7,-53.2367 622.113,-60.6318 628.38,-63.7491\"/>\r\n",
       "</g>\r\n",
       "<!-- 9 -->\r\n",
       "<g id=\"node10\" class=\"node\"><title>9</title>\r\n",
       "<polygon fill=\"none\" stroke=\"black\" points=\"963,-157 770,-157 770,-89 963,-89 963,-157\"/>\r\n",
       "<text text-anchor=\"middle\" x=\"866.5\" y=\"-141.8\" font-family=\"Times New Roman,serif\" font-size=\"14.00\">delicious &lt;= 0.017</text>\r\n",
       "<text text-anchor=\"middle\" x=\"866.5\" y=\"-126.8\" font-family=\"Times New Roman,serif\" font-size=\"14.00\">gini = 0.45</text>\r\n",
       "<text text-anchor=\"middle\" x=\"866.5\" y=\"-111.8\" font-family=\"Times New Roman,serif\" font-size=\"14.00\">samples = 24707</text>\r\n",
       "<text text-anchor=\"middle\" x=\"866.5\" y=\"-96.8\" font-family=\"Times New Roman,serif\" font-size=\"14.00\">value = [20474.389, 10668.921]</text>\r\n",
       "</g>\r\n",
       "<!-- 8&#45;&gt;9 -->\r\n",
       "<g id=\"edge9\" class=\"edge\"><title>8&#45;&gt;9</title>\r\n",
       "<path fill=\"none\" stroke=\"black\" d=\"M866.5,-192.884C866.5,-184.778 866.5,-175.982 866.5,-167.472\"/>\r\n",
       "<polygon fill=\"black\" stroke=\"black\" points=\"870,-167.299 866.5,-157.299 863,-167.299 870,-167.299\"/>\r\n",
       "</g>\r\n",
       "<!-- 12 -->\r\n",
       "<g id=\"node13\" class=\"node\"><title>12</title>\r\n",
       "<polygon fill=\"none\" stroke=\"black\" points=\"1291,-157 1112,-157 1112,-89 1291,-89 1291,-157\"/>\r\n",
       "<text text-anchor=\"middle\" x=\"1201.5\" y=\"-141.8\" font-family=\"Times New Roman,serif\" font-size=\"14.00\">not &lt;= 0.121</text>\r\n",
       "<text text-anchor=\"middle\" x=\"1201.5\" y=\"-126.8\" font-family=\"Times New Roman,serif\" font-size=\"14.00\">gini = 0.455</text>\r\n",
       "<text text-anchor=\"middle\" x=\"1201.5\" y=\"-111.8\" font-family=\"Times New Roman,serif\" font-size=\"14.00\">samples = 6898</text>\r\n",
       "<text text-anchor=\"middle\" x=\"1201.5\" y=\"-96.8\" font-family=\"Times New Roman,serif\" font-size=\"14.00\">value = [2022.701, 3744.868]</text>\r\n",
       "</g>\r\n",
       "<!-- 8&#45;&gt;12 -->\r\n",
       "<g id=\"edge12\" class=\"edge\"><title>8&#45;&gt;12</title>\r\n",
       "<path fill=\"none\" stroke=\"black\" d=\"M959.816,-197.587C1004.1,-184.105 1057.04,-167.984 1102.08,-154.271\"/>\r\n",
       "<polygon fill=\"black\" stroke=\"black\" points=\"1103.31,-157.555 1111.86,-151.294 1101.27,-150.858 1103.31,-157.555\"/>\r\n",
       "</g>\r\n",
       "<!-- 10 -->\r\n",
       "<g id=\"node11\" class=\"node\"><title>10</title>\r\n",
       "<polygon fill=\"none\" stroke=\"black\" points=\"909,-53 730,-53 730,-0 909,-0 909,-53\"/>\r\n",
       "<text text-anchor=\"middle\" x=\"819.5\" y=\"-37.8\" font-family=\"Times New Roman,serif\" font-size=\"14.00\">gini = 0.439</text>\r\n",
       "<text text-anchor=\"middle\" x=\"819.5\" y=\"-22.8\" font-family=\"Times New Roman,serif\" font-size=\"14.00\">samples = 22962</text>\r\n",
       "<text text-anchor=\"middle\" x=\"819.5\" y=\"-7.8\" font-family=\"Times New Roman,serif\" font-size=\"14.00\">value = [20130.966, 9686.67]</text>\r\n",
       "</g>\r\n",
       "<!-- 9&#45;&gt;10 -->\r\n",
       "<g id=\"edge10\" class=\"edge\"><title>9&#45;&gt;10</title>\r\n",
       "<path fill=\"none\" stroke=\"black\" d=\"M850.062,-88.9485C845.785,-80.3494 841.164,-71.0586 836.842,-62.3689\"/>\r\n",
       "<polygon fill=\"black\" stroke=\"black\" points=\"839.887,-60.6318 832.3,-53.2367 833.62,-63.7491 839.887,-60.6318\"/>\r\n",
       "</g>\r\n",
       "<!-- 11 -->\r\n",
       "<g id=\"node12\" class=\"node\"><title>11</title>\r\n",
       "<polygon fill=\"none\" stroke=\"black\" points=\"1093.5,-53 927.5,-53 927.5,-0 1093.5,-0 1093.5,-53\"/>\r\n",
       "<text text-anchor=\"middle\" x=\"1010.5\" y=\"-37.8\" font-family=\"Times New Roman,serif\" font-size=\"14.00\">gini = 0.384</text>\r\n",
       "<text text-anchor=\"middle\" x=\"1010.5\" y=\"-22.8\" font-family=\"Times New Roman,serif\" font-size=\"14.00\">samples = 1745</text>\r\n",
       "<text text-anchor=\"middle\" x=\"1010.5\" y=\"-7.8\" font-family=\"Times New Roman,serif\" font-size=\"14.00\">value = [343.423, 982.251]</text>\r\n",
       "</g>\r\n",
       "<!-- 9&#45;&gt;11 -->\r\n",
       "<g id=\"edge11\" class=\"edge\"><title>9&#45;&gt;11</title>\r\n",
       "<path fill=\"none\" stroke=\"black\" d=\"M916.864,-88.9485C931.78,-79.1601 948.061,-68.4756 962.803,-58.8015\"/>\r\n",
       "<polygon fill=\"black\" stroke=\"black\" points=\"964.842,-61.6495 971.282,-53.2367 961.001,-55.7971 964.842,-61.6495\"/>\r\n",
       "</g>\r\n",
       "<!-- 13 -->\r\n",
       "<g id=\"node14\" class=\"node\"><title>13</title>\r\n",
       "<polygon fill=\"none\" stroke=\"black\" points=\"1291,-53 1112,-53 1112,-0 1291,-0 1291,-53\"/>\r\n",
       "<text text-anchor=\"middle\" x=\"1201.5\" y=\"-37.8\" font-family=\"Times New Roman,serif\" font-size=\"14.00\">gini = 0.423</text>\r\n",
       "<text text-anchor=\"middle\" x=\"1201.5\" y=\"-22.8\" font-family=\"Times New Roman,serif\" font-size=\"14.00\">samples = 6037</text>\r\n",
       "<text text-anchor=\"middle\" x=\"1201.5\" y=\"-7.8\" font-family=\"Times New Roman,serif\" font-size=\"14.00\">value = [1458.091, 3342.188]</text>\r\n",
       "</g>\r\n",
       "<!-- 12&#45;&gt;13 -->\r\n",
       "<g id=\"edge13\" class=\"edge\"><title>12&#45;&gt;13</title>\r\n",
       "<path fill=\"none\" stroke=\"black\" d=\"M1201.5,-88.9485C1201.5,-80.7153 1201.5,-71.848 1201.5,-63.4814\"/>\r\n",
       "<polygon fill=\"black\" stroke=\"black\" points=\"1205,-63.2367 1201.5,-53.2367 1198,-63.2367 1205,-63.2367\"/>\r\n",
       "</g>\r\n",
       "<!-- 14 -->\r\n",
       "<g id=\"node15\" class=\"node\"><title>14</title>\r\n",
       "<polygon fill=\"none\" stroke=\"black\" points=\"1468,-53 1309,-53 1309,-0 1468,-0 1468,-53\"/>\r\n",
       "<text text-anchor=\"middle\" x=\"1388.5\" y=\"-37.8\" font-family=\"Times New Roman,serif\" font-size=\"14.00\">gini = 0.486</text>\r\n",
       "<text text-anchor=\"middle\" x=\"1388.5\" y=\"-22.8\" font-family=\"Times New Roman,serif\" font-size=\"14.00\">samples = 861</text>\r\n",
       "<text text-anchor=\"middle\" x=\"1388.5\" y=\"-7.8\" font-family=\"Times New Roman,serif\" font-size=\"14.00\">value = [564.61, 402.681]</text>\r\n",
       "</g>\r\n",
       "<!-- 12&#45;&gt;14 -->\r\n",
       "<g id=\"edge14\" class=\"edge\"><title>12&#45;&gt;14</title>\r\n",
       "<path fill=\"none\" stroke=\"black\" d=\"M1266.9,-88.9485C1287,-78.794 1309,-67.675 1328.7,-57.7203\"/>\r\n",
       "<polygon fill=\"black\" stroke=\"black\" points=\"1330.52,-60.7208 1337.87,-53.0867 1327.36,-54.4732 1330.52,-60.7208\"/>\r\n",
       "</g>\r\n",
       "</g>\r\n",
       "</svg>\r\n"
      ],
      "text/plain": [
       "<graphviz.files.Source at 0x1f5c77ab710>"
      ]
     },
     "execution_count": 59,
     "metadata": {},
     "output_type": "execute_result"
    }
   ],
   "source": [
    "# Import the DecisionTreeClassifier .\n",
    "from sklearn import tree\n",
    "import graphviz\n",
    "\n",
    "# Set the start time of the current cell run.\n",
    "starttime_dt_bow = datetime.datetime.now()\n",
    "\n",
    "# The best value of the hyper-parameter depth-tree.\n",
    "optimal_depthtree_gvz = 3\n",
    "\n",
    "# The best value of the hyper-parameter minimum_samplesplit.\n",
    "optimal_minsamplesplit = 500\n",
    "\n",
    "# Instantiate the DecisionTree model with optimal hyper-paramters.\n",
    "dt_optimal = tree.DecisionTreeClassifier(criterion='gini', # metric to measure quality of the split.\n",
    "                                         splitter = 'best',# strategy used to split at each node.\n",
    "                                         max_depth=(optimal_depthtree_gvz), # Hyper-parameter, \"Depth\"\n",
    "                                                                            # of the current iteration.\n",
    "                                         min_samples_split = (optimal_minsamplesplit), # Hyper-parameter,\n",
    "                                                #\"minimum sample split\" of the current iteration.\n",
    "                                         class_weight='balanced') # uses the values of y to automatically \n",
    "                                                                  # adjust weights in the input data.\n",
    "\n",
    "dt_optimal.fit(X_train_stdzd, Y_train)  # fit the model on the training set.\n",
    "\n",
    "\n",
    "terms = tf_idf_vect.get_feature_names()\n",
    "dot_data = tree.export_graphviz(dt_optimal, out_file = None, feature_names = terms)\n",
    "graph = graphviz.Source(dot_data)\n",
    "graph"
   ]
  },
  {
   "cell_type": "code",
   "execution_count": null,
   "metadata": {},
   "outputs": [],
   "source": []
  },
  {
   "cell_type": "markdown",
   "metadata": {},
   "source": [
    "### [5.2.4] : Load metrics into the summary table for TF-IDF."
   ]
  },
  {
   "cell_type": "code",
   "execution_count": 60,
   "metadata": {},
   "outputs": [],
   "source": [
    "# Import the metrics module.\n",
    "from sklearn.metrics import accuracy_score\n",
    "from sklearn.metrics import precision_score\n",
    "from sklearn.metrics import recall_score\n",
    "from sklearn.metrics import f1_score\n",
    "from sklearn.metrics import roc_auc_score\n",
    "\n",
    "# Add the classification metrics to the summary table.\n",
    "summaryTable.add_row(['TF-IDF',optimal_depthtree,optimal_minsamplesplit,'Accuracy',accuracy_score(Y_test,Y_pred_test)])\n",
    "summaryTable.add_row(['',optimal_depthtree,optimal_minsamplesplit,'Precision',precision_score(Y_test,Y_pred_test)])\n",
    "summaryTable.add_row(['',optimal_depthtree,optimal_minsamplesplit,'Recall',recall_score(Y_test,Y_pred_test)])\n",
    "summaryTable.add_row(['',optimal_depthtree,optimal_minsamplesplit,'F1 Score',f1_score(Y_test,Y_pred_test)])\n",
    "summaryTable.add_row(['',optimal_depthtree,optimal_minsamplesplit,'AUC Score',roc_auc_score(Y_test,Y_pred_test_pb)])\n",
    "summaryTable.add_row(['',optimal_depthtree,optimal_minsamplesplit,'ConfusionMatrix',confusion_matrix(Y_test, Y_pred_test)])\n",
    "summaryTable.add_row(['----------','----------','-----------','----------','----------'])\n"
   ]
  },
  {
   "cell_type": "code",
   "execution_count": null,
   "metadata": {},
   "outputs": [],
   "source": []
  },
  {
   "cell_type": "markdown",
   "metadata": {
    "colab_type": "text",
    "id": "NVhl_V6MiWO5"
   },
   "source": [
    "## [5.3] Applying Decision Trees on AVG W2V,<font color='red'> SET 3</font>"
   ]
  },
  {
   "cell_type": "markdown",
   "metadata": {
    "colab": {},
    "colab_type": "code",
    "id": "uYDXnzMmiWO5"
   },
   "source": [
    "#### [5.3.1] Convert review text into numeric vectors using Avg W2V"
   ]
  },
  {
   "cell_type": "code",
   "execution_count": 62,
   "metadata": {},
   "outputs": [
    {
     "name": "stderr",
     "output_type": "stream",
     "text": [
      "100%|████████████████████████████████████████████████████████████████████████████████████████████████████████████████████████████████████████████████████████████████████| 60000/60000 [00:02<00:00, 29161.02it/s]\n"
     ]
    }
   ],
   "source": [
    "# Train your own Word2Vec model using your own text training corpus.\n",
    "# Train Word2Vec on training set alone.\n",
    "i=0\n",
    "list_of_sent=[]  # List to store the sentence from the review comments.\n",
    "\n",
    "# Loop through all the Amazon Food Review comments, one comment at a time.\n",
    "for sent in tqdm(X_train.values.astype('U')):\n",
    "    list_of_sent.append(sent.split())         # From the Review, split it into individual sentence and add to the list."
   ]
  },
  {
   "cell_type": "markdown",
   "metadata": {},
   "source": [
    "#### [5.3.2] Train the Word2Vec model on the training set alone."
   ]
  },
  {
   "cell_type": "code",
   "execution_count": 63,
   "metadata": {},
   "outputs": [
    {
     "name": "stdout",
     "output_type": "stream",
     "text": [
      "number of words that occured minimum 5 times  15844\n",
      "sample words  ['big', 'lover', 'fig', 'jam', 'unique', 'flavor', 'kind', 'mix', 'light', 'figs', 'dark', 'mission', 'must', 'great', 'product', 'good', 'price', 'definitely', 'ordering', 'used', 'bottles', 'ordered', 'expected', 'box', 'full', 'fortune', 'cookies', 'like', 'one', 'nonetheless', 'got', 'small', 'tasted', 'weird', 'okay', 'not', 'best', 'reviewing', 'review', 'amazon', 'checked', 'label', 'container', 'sure', 'enough', 'contains', 'propylene', 'glycol', 'top', 'ingredients']\n"
     ]
    }
   ],
   "source": [
    "# Instantiate the Word2Vec vectorizer.\n",
    "\n",
    "# Word2Vec(list,word_repeat_count,dimension_of_each_word_vector,Number_of_Processor_cores)\n",
    "# min_count = 5 considers only words that occured atleast 5 times\n",
    "w2v_model=Word2Vec(list_of_sent,min_count=5,size=50, workers=4)\n",
    "\n",
    "# Store the word vocabulary.\n",
    "w2v_words = list(w2v_model.wv.vocab)\n",
    "\n",
    "# Print the Word vector.\n",
    "print(\"number of words that occured minimum 5 times \",len(w2v_words))\n",
    "print(\"sample words \", w2v_words[0:50])"
   ]
  },
  {
   "cell_type": "markdown",
   "metadata": {},
   "source": [
    "#### [5.3.3] Compute the average Word2Vec for each review in the training set."
   ]
  },
  {
   "cell_type": "code",
   "execution_count": 64,
   "metadata": {},
   "outputs": [
    {
     "name": "stderr",
     "output_type": "stream",
     "text": [
      "100%|██████████████████████████████████████████████████████████████████████████████████████████████████████████████████████████████████████████████████████████████████████| 60000/60000 [03:31<00:00, 283.06it/s]\n"
     ]
    },
    {
     "name": "stdout",
     "output_type": "stream",
     "text": [
      "The total number of words is 60000\n",
      "The dimension of each word vector is 50\n"
     ]
    }
   ],
   "source": [
    "# average Word2Vec\n",
    "# Avg. Word2Vec = (W2V(w1)+W2V(w2)+W2V(w3)+...... +W2V(w364171)) / 364171\n",
    "# compute average word2vec for each review.\n",
    "sent_vectors = [];                     # the avg-w2v for each sentence/review is stored in this list\n",
    "for sent in tqdm(list_of_sent):        # for each review/sentence in the training set\n",
    "    sent_vec = np.zeros(50)            # as word vectors are of zero length\n",
    "    cnt_words =0;                      # num of words with a valid vector in the sentence/review\n",
    "    for word in sent:                  # for each word in a review/sentence\n",
    "        if word in w2v_words:          # if the word exists in the vocabulary\n",
    "            vec = w2v_model.wv[word]   # convert the word to vector\n",
    "            sent_vec += vec            # sum the vectors\n",
    "            cnt_words += 1             # compute the word count\n",
    "    if cnt_words != 0:\n",
    "        sent_vec /= cnt_words          # compute the average word count\n",
    "    sent_vectors.append(sent_vec)      # update the average word count to the list.\n",
    "print('The total number of words is {}'.format(len(sent_vectors)))\n",
    "print('The dimension of each word vector is {}'.format(len(sent_vectors[0])))"
   ]
  },
  {
   "cell_type": "markdown",
   "metadata": {},
   "source": [
    "#### [5.3.4] Build the text corpus of the cross-validation and test set."
   ]
  },
  {
   "cell_type": "code",
   "execution_count": 65,
   "metadata": {},
   "outputs": [
    {
     "name": "stderr",
     "output_type": "stream",
     "text": [
      "100%|████████████████████████████████████████████████████████████████████████████████████████████████████████████████████████████████████████████████████████████████████| 20000/20000 [00:00<00:00, 37308.40it/s]\n",
      "100%|███████████████████████████████████████████████████████████████████████████████████████████████████████████████████████████████████████████████████████████████████| 20000/20000 [00:00<00:00, 133477.30it/s]\n"
     ]
    }
   ],
   "source": [
    "# Build the cross-validation text corpus.\n",
    "i=0\n",
    "list_of_sent_cv=[]   # List to store the sentence from the review comments.\n",
    "\n",
    "# Loop through all the Amazon Food Review comments, one comment at a time.\n",
    "for sent in tqdm(X_cv.values):\n",
    "    list_of_sent_cv.append(sent.split()) # From the Review, split it into individual sentence\n",
    "                                         # and add to the list.\n",
    "    \n",
    "# Build the test text corpus.\n",
    "i=0\n",
    "list_of_sent_test=[]  # List to store the sentence from the review comments.\n",
    "\n",
    "# Loop through all the Amazon Food Review comments, one comment at a time.\n",
    "for sent in tqdm(X_test.values):\n",
    "    list_of_sent_test.append(sent.split()) # From the Review, split it into individual sentence\n",
    "                                           # and add to the list."
   ]
  },
  {
   "cell_type": "markdown",
   "metadata": {},
   "source": [
    "#### [5.3.5] Use the trained word2vec model to compute the average Word2Vec for each review in the cross-validation and test set."
   ]
  },
  {
   "cell_type": "code",
   "execution_count": 66,
   "metadata": {},
   "outputs": [
    {
     "name": "stderr",
     "output_type": "stream",
     "text": [
      "100%|██████████████████████████████████████████████████████████████████████████████████████████████████████████████████████████████████████████████████████████████████████| 20000/20000 [01:25<00:00, 234.16it/s]\n"
     ]
    },
    {
     "name": "stdout",
     "output_type": "stream",
     "text": [
      "The total number of words is 20000\n",
      "The dimension of each word vector is 50\n"
     ]
    }
   ],
   "source": [
    "# CROSS-VALIDATION :\n",
    "\n",
    "# average Word2Vec\n",
    "# Avg. Word2Vec = (W2V(w1)+W2V(w2)+W2V(w3)+...... +W2V(w364171)) / 364171\n",
    "# compute average word2vec for each review.\n",
    "sent_vectors_cv = [];                # the avg-w2v for each sentence/review is stored in this list\n",
    "for sent in tqdm(list_of_sent_cv):   # for each review/sentence in the test set\n",
    "    sent_vec = np.zeros(50)            # as word vectors are of zero length\n",
    "    cnt_words =0;                      # num of words with a valid vector in the sentence/review\n",
    "    for word in sent:                  # for each word in a review/sentence\n",
    "        if word in w2v_words:          # if the word exists in the vocabulary\n",
    "            vec = w2v_model.wv[word]   # convert the word to vector using the trained model.\n",
    "            sent_vec += vec            # sum the vectors\n",
    "            cnt_words += 1             # compute the word count\n",
    "    if cnt_words != 0:\n",
    "        sent_vec /= cnt_words          # compute the average word count\n",
    "    sent_vectors_cv.append(sent_vec)   # update the average word count to the list. \n",
    "\n",
    "print('The total number of words is {}'.format(len(sent_vectors_cv)))\n",
    "print('The dimension of each word vector is {}'.format(len(sent_vectors_cv[0])))"
   ]
  },
  {
   "cell_type": "code",
   "execution_count": 67,
   "metadata": {},
   "outputs": [
    {
     "name": "stderr",
     "output_type": "stream",
     "text": [
      "100%|██████████████████████████████████████████████████████████████████████████████████████████████████████████████████████████████████████████████████████████████████████| 20000/20000 [01:21<00:00, 246.26it/s]\n"
     ]
    },
    {
     "name": "stdout",
     "output_type": "stream",
     "text": [
      "The total number of words is 20000\n",
      "The dimension of each word vector is 50\n"
     ]
    }
   ],
   "source": [
    "# TEST :\n",
    "\n",
    "# average Word2Vec\n",
    "# Avg. Word2Vec = (W2V(w1)+W2V(w2)+W2V(w3)+...... +W2V(w364171)) / 364171\n",
    "# compute average word2vec for each review.\n",
    "sent_vectors_test = [];                # the avg-w2v for each sentence/review is stored in this list\n",
    "for sent in tqdm(list_of_sent_test):   # for each review/sentence in the test set\n",
    "    sent_vec = np.zeros(50)            # as word vectors are of zero length\n",
    "    cnt_words =0;                      # num of words with a valid vector in the sentence/review\n",
    "    for word in sent:                  # for each word in a review/sentence\n",
    "        if word in w2v_words:          # if the word exists in the vocabulary\n",
    "            vec = w2v_model.wv[word]   # convert the word to vector using the trained model.\n",
    "            sent_vec += vec            # sum the vectors\n",
    "            cnt_words += 1             # compute the word count\n",
    "    if cnt_words != 0:\n",
    "        sent_vec /= cnt_words          # compute the average word count\n",
    "    sent_vectors_test.append(sent_vec) # update the average word count to the list.\n",
    "\n",
    "print('The total number of words is {}'.format(len(sent_vectors_test)))\n",
    "print('The dimension of each word vector is {}'.format(len(sent_vectors_test[0])))"
   ]
  },
  {
   "cell_type": "markdown",
   "metadata": {},
   "source": [
    "#### [5.3.6] Standardize / Normalize the data"
   ]
  },
  {
   "cell_type": "code",
   "execution_count": 68,
   "metadata": {},
   "outputs": [],
   "source": [
    "# Data-preprocessing: Normalizing the data\n",
    "from sklearn.preprocessing import Normalizer\n",
    "\n",
    "normalizer = Normalizer()\n",
    "\n",
    "#Standardize on the train data.\n",
    "X_train_stdzd = normalizer.fit_transform(sent_vectors)\n",
    "\n",
    "#Standardize the cv and test data.\n",
    "X_cv_stdzd  = normalizer.transform(sent_vectors_cv)      #use the same Normalizer on the cv set.\n",
    "X_test_stdzd  = normalizer.transform(sent_vectors_test)  #use the same Normalizer on the test set."
   ]
  },
  {
   "cell_type": "markdown",
   "metadata": {},
   "source": [
    "#### [5.3.7] Hyper-Parameter Tuning : Using the cross-validation dataset to calculate the optimal 'depth of tree' in AvgWord2Vec case."
   ]
  },
  {
   "cell_type": "code",
   "execution_count": 69,
   "metadata": {},
   "outputs": [
    {
     "name": "stdout",
     "output_type": "stream",
     "text": [
      "Depth :\n",
      "[1, 5, 10, 50, 100, 500]\n",
      "\n",
      "Log of Depth :\n",
      "[0.0, 1.6094379124341003, 2.302585092994046, 3.912023005428146, 4.605170185988092, 6.214608098422191]\n",
      "\n",
      "TrainingSet AuC :\n",
      "[0.6392074480312111, 0.8204923000889203, 0.8732625862390322, 0.880648025246461, 0.880648025246461, 0.880648025246461]\n",
      "\n",
      "CVset AuC :\n",
      "[0.6274012368043251, 0.8003773002048581, 0.8166375734513317, 0.8146008789792241, 0.8146008789792241, 0.8146008789792241]\n",
      "\n",
      "Plot of AuC vs Log of Depth:\n"
     ]
    },
    {
     "data": {
      "image/png": "[encoded data removed]",
      "text/plain": [
       "<Figure size 720x360 with 1 Axes>"
      ]
     },
     "metadata": {},
     "output_type": "display_data"
    },
    {
     "name": "stdout",
     "output_type": "stream",
     "text": [
      "Starttime is : 2019-02-01 22:05:48.201587\n",
      "Endtime   is : 2019-02-01 22:06:26.761377\n"
     ]
    }
   ],
   "source": [
    "import matplotlib.pyplot as plt\n",
    "# plot inline\n",
    "%matplotlib inline  \n",
    "\n",
    "# Import the DecisionTreeClassifier .\n",
    "from sklearn import tree\n",
    "# Import the metrics module.\n",
    "from sklearn.metrics import roc_auc_score\n",
    "\n",
    "# Set the start time of the current cell run.\n",
    "starttime_dt_avgw2v = datetime.datetime.now()\n",
    "\n",
    "# Set the range for the hyper-parameters.\n",
    "# Experiment with depth ranges in [1, 5, 10, 50, 100, 500, 100].\n",
    "# Here depth (tree-depth) is the hyper-parameter of the DecisionTreeClassifier\n",
    "\n",
    "hp_depth = [1, 5, 10, 50, 100, 500]\n",
    "\n",
    "# Use the cross-validation dataset to determine the best hyper-parameter depth (tree-depth).\n",
    "plot_X_train = []\n",
    "plot_lgX_train = []\n",
    "plot_Y_train = []\n",
    "plot_Y_cv = []\n",
    "\n",
    "# Loop through various values of depth.\n",
    "for i in hp_depth:\n",
    "    dt_optimal = _\n",
    "    tree.DecisionTreeClassifier(criterion='gini',   # metric to measure quality of the split.\n",
    "                                splitter = 'best',  # strategy used to split at each node.\n",
    "                                max_depth=(i),      # Hyper-parameter, \"Depth\" of the current iteration.\n",
    "                                min_samples_split = (500), # Hyper-parameter, \n",
    "                                                           #\"minimum sample split\" of the \n",
    "                                                           # current iteration.\n",
    "                                class_weight='balanced')   # uses the values of y to automatically \n",
    "                                                           # adjust weights in the input data.\n",
    "\n",
    "    dt_optimal.fit(X_train_stdzd, Y_train)  # fit the model on the training set.\n",
    "    Y_pred_train = dt_optimal.predict_proba(X_train_stdzd)[:, 1] # predict class probabilities in training set.    \n",
    "    Y_pred_cv = dt_optimal.predict_proba(X_cv_stdzd)[:, 1]      # predict class probabilities in CV set.\n",
    "\n",
    "    # Compute AuC metric.\n",
    "    plot_X_train.append(i)           # plot (depth,min_sample_split) on the x-axis.\n",
    "    plot_lgX_train.append(np.log(i)) # plot log(depth,min_sample_split) on the x-axis.\n",
    "    # TrainingSet\n",
    "    plot_Y_train.append(roc_auc_score(Y_train,Y_pred_train)) # plot trainingset auc score on the y-axis.\n",
    "    # CV set\n",
    "    plot_Y_cv.append(roc_auc_score(Y_cv,Y_pred_cv)) # plot cvset auc score on the y-axis.\n",
    "\n",
    "\n",
    "\n",
    "# print X,Y\n",
    "print(\"Depth :\\n{}\".format(plot_X_train))\n",
    "print(\"\\nLog of Depth :\\n{}\".format(plot_lgX_train))\n",
    "print(\"\\nTrainingSet AuC :\\n{}\".format(plot_Y_train))\n",
    "print(\"\\nCVset AuC :\\n{}\".format(plot_Y_cv))\n",
    "\n",
    "print(\"\\nPlot of AuC vs Log of Depth:\")\n",
    "# Plot X-axis = log(Depth),Y-axis = TrainingSet and CVSet AuC to determine the best hyper-parameter combo.\n",
    "plt.figure(figsize=(10,5))                                                 # set the figure size.\n",
    "plt.plot(plot_lgX_train,plot_Y_train, 'b--',label=\"TrainingSet AUC\")       # plotting depth,trainingAuC separately. \n",
    "plt.plot(plot_lgX_train,plot_Y_cv, 'r--',label=\"CrossvalidationSet AUC\")   # plotting depth,CrossValidationAuC\n",
    "                                                                           # separately. \n",
    "\n",
    "plt.title(\"Plot of AUC vs log(Depth) .\")  # Set the title of the plot.\n",
    "plt.xlabel(\"log(Depth)\")                  # Set the x label of the plot.\n",
    "plt.ylabel(\"AuC\")                         # Set the y label of the plot.\n",
    "\n",
    "# Display the plot.\n",
    "plt.legend()                              # set the legend\n",
    "plt.show()                                # display the plot.\n",
    "\n",
    "# Set the end time of the current cell run.\n",
    "endtime_dt_avgw2v = datetime.datetime.now()\n",
    "\n",
    "# Print the cell run duration.\n",
    "print(\"Starttime is : {}\".format(starttime_dt_avgw2v))\n",
    "print(\"Endtime   is : {}\".format(endtime_dt_avgw2v))\n"
   ]
  },
  {
   "cell_type": "code",
   "execution_count": null,
   "metadata": {},
   "outputs": [],
   "source": []
  },
  {
   "cell_type": "markdown",
   "metadata": {},
   "source": [
    "#### NOTE :\n",
    "    . If the training score and the validation score are both low, the classifier is underfitting. \n",
    "    . If the training score is high and the validation score is low, the classifier is overfitting.\n",
    "    . Otherwise it is working very well. \n",
    "\n",
    "\n",
    "#### OBSERVATION :  When the tree depth = 10, then training and cross-validation AUC is high, beyond which the training AuC continues to increase while the cross-validation AuC decreases. At tree depth = 10, the model neither Overfits nor Underfits.\n",
    "#### The optimal hyper-parameter, Depth choosen is shown below :\n",
    "    . Depth of tree = 10\n",
    "    . Training AUC Score = 0.8732\n",
    "    . CrossValidation AUC Score = 0.8166\n"
   ]
  },
  {
   "cell_type": "code",
   "execution_count": null,
   "metadata": {},
   "outputs": [],
   "source": []
  },
  {
   "cell_type": "markdown",
   "metadata": {},
   "source": [
    "#### [5.3.8] Hyper-Parameter Tuning : Using the cross-validation dataset to calculate the optimal 'min_sample_split' in AvgWord2Vec case."
   ]
  },
  {
   "cell_type": "code",
   "execution_count": 70,
   "metadata": {},
   "outputs": [
    {
     "name": "stdout",
     "output_type": "stream",
     "text": [
      "Min_SampleSplit :\n",
      "[5, 10, 100, 500]\n",
      "\n",
      "Log of Min_SampleSplit :\n",
      "[1.6094379124341003, 2.302585092994046, 4.605170185988092, 6.214608098422191]\n",
      "\n",
      "TrainingSet AuC :\n",
      "[0.9226715789285281, 0.9218033786612144, 0.9062048030770595, 0.8732625862390322]\n",
      "\n",
      "CVset AuC :\n",
      "[0.776201030342384, 0.7759580695932542, 0.8043425639927707, 0.8166375734513317]\n",
      "\n",
      "Plot of AuC vs Log of Min_SampleSplit:\n"
     ]
    },
    {
     "data": {
      "image/png": "[encoded data removed]",
      "text/plain": [
       "<Figure size 720x360 with 1 Axes>"
      ]
     },
     "metadata": {},
     "output_type": "display_data"
    },
    {
     "name": "stdout",
     "output_type": "stream",
     "text": [
      "Starttime is : 2019-02-01 22:12:15.282161\n",
      "Endtime   is : 2019-02-01 22:12:45.676679\n"
     ]
    }
   ],
   "source": [
    "import matplotlib.pyplot as plt\n",
    "# plot inline\n",
    "%matplotlib inline  \n",
    "\n",
    "# Import the DecisionTreeClassifier .\n",
    "from sklearn import tree\n",
    "# Import the metrics module.\n",
    "from sklearn.metrics import roc_auc_score\n",
    "\n",
    "# Set the start time of the current cell run.\n",
    "starttime_dt_avgw2v = datetime.datetime.now()\n",
    "\n",
    "# Set the range for the hyper-parameters.\n",
    "# Experiment with min_sample_split ranges in [5, 10,100,500].\n",
    "# Here min_samples_split is the other hyper-parameter of the DecisionTreeClassifier\n",
    "\n",
    "hp_min_samples_split = [5, 10, 100, 500]\n",
    "\n",
    "# Use the cross-validation dataset to determine the best hyper-parameter min_sample_split.\n",
    "plot_X_train = []\n",
    "plot_lgX_train = []\n",
    "plot_Y_train = []\n",
    "plot_Y_cv = []\n",
    "\n",
    "# Loop through various values of min_samples_split.\n",
    "for i in hp_min_samples_split:\n",
    "    dt_optimal = _\n",
    "    tree.DecisionTreeClassifier(criterion='gini',          # metric to measure quality of the split.\n",
    "                                splitter = 'best',         # strategy used to split at each node.\n",
    "                                max_depth=(10),  # Hyper-parameter, \"Depth\" of the current iteration.\n",
    "                                min_samples_split = (i), # Hyper-parameter, \n",
    "                                                         # \"minimum sample split\" of the \n",
    "                                                         # current iteration.\n",
    "                                class_weight='balanced') # uses the values of y to automatically \n",
    "                                                         # adjust weights in the input data.\n",
    "\n",
    "    dt_optimal.fit(X_train_stdzd, Y_train)  # fit the model on the training set.\n",
    "    Y_pred_train = dt_optimal.predict_proba(X_train_stdzd)[:, 1] # predict class probabilities in training set.    \n",
    "    Y_pred_cv = dt_optimal.predict_proba(X_cv_stdzd)[:, 1]       # predict class probabilities in CV set.\n",
    "\n",
    "    # Compute AuC metric.\n",
    "    plot_X_train.append(i)           # plot (min_sample_split) on the x-axis.\n",
    "    plot_lgX_train.append(np.log(i)) # plot log(min_sample_split) on the x-axis.\n",
    "    # TrainingSet\n",
    "    plot_Y_train.append(roc_auc_score(Y_train,Y_pred_train)) # plot trainingset auc score on the y-axis.\n",
    "    # CV set\n",
    "    plot_Y_cv.append(roc_auc_score(Y_cv,Y_pred_cv))          # plot cvset auc score on the y-axis.\n",
    "\n",
    "\n",
    "\n",
    "# print X,Y\n",
    "print(\"Min_SampleSplit :\\n{}\".format(plot_X_train))\n",
    "print(\"\\nLog of Min_SampleSplit :\\n{}\".format(plot_lgX_train))\n",
    "print(\"\\nTrainingSet AuC :\\n{}\".format(plot_Y_train))\n",
    "print(\"\\nCVset AuC :\\n{}\".format(plot_Y_cv))\n",
    "\n",
    "print(\"\\nPlot of AuC vs Log of Min_SampleSplit:\")\n",
    "# Plot X-axis = log(Min_SampleSplit),Y-axis = TrainingSet and CVSet AuC to determine\n",
    "# the best hyper-parameter.\n",
    "plt.figure(figsize=(10,5))  # set the figure size.\n",
    "plt.plot(plot_lgX_train,plot_Y_train, 'b--',label=\"TrainingSet AUC\") # plotting Min_SampleSplit,trainingAuC\n",
    "                                                                     # separately. \n",
    "plt.plot(plot_lgX_train,plot_Y_cv, 'r--',label=\"CrossValidationSet AUC\") # plotting Min_SampleSplit,\n",
    "                                                                         # CrossValidationAuC separately. \n",
    "\n",
    "plt.title(\"Plot of AUC vs log(Min_SampleSplit) .\")  # Set the title of the plot.\n",
    "plt.xlabel(\"log(Min_SampleSplit)\")                  # Set the x label of the plot.\n",
    "plt.ylabel(\"AUC\")                                   # Set the y label of the plot.\n",
    "\n",
    "# Display the plot.\n",
    "plt.legend()                              # set the legend\n",
    "plt.show()                                # display the plot.\n",
    "\n",
    "# Set the end time of the current cell run.\n",
    "endtime_dt_avgw2v = datetime.datetime.now()\n",
    "\n",
    "# Print the cell run duration.\n",
    "print(\"Starttime is : {}\".format(starttime_dt_avgw2v))\n",
    "print(\"Endtime   is : {}\".format(endtime_dt_avgw2v))\n"
   ]
  },
  {
   "cell_type": "code",
   "execution_count": null,
   "metadata": {},
   "outputs": [],
   "source": []
  },
  {
   "cell_type": "markdown",
   "metadata": {},
   "source": [
    "#### NOTE :\n",
    "    . If the training score and the validation score are both low, the classifier is underfitting. \n",
    "    . If the training score is high and the validation score is low, the classifier is overfitting.\n",
    "    . Otherwise it is working very well. \n",
    "\n",
    "#### OBSERVATION :  When the min_sample_split = 500, then training AUC is low and cross-validation AUC is high. At this point the model neither Overfits nor Underfits.\n",
    "#### The optimal hyper-parameter Min_Sample_Split choosen is shown below :\n",
    "    . Min_Sample_Split = 500\n",
    "    . Training AUC Score = 0.8732\n",
    "    . CV AUC Score = 0.8166\n"
   ]
  },
  {
   "cell_type": "code",
   "execution_count": null,
   "metadata": {},
   "outputs": [],
   "source": []
  },
  {
   "cell_type": "markdown",
   "metadata": {},
   "source": [
    "#### [5.3.9] : Train and Fit the DecisionTree classifier in the training set. Compute the performance metrics by predicting the model on the test set."
   ]
  },
  {
   "cell_type": "code",
   "execution_count": 71,
   "metadata": {},
   "outputs": [
    {
     "name": "stdout",
     "output_type": "stream",
     "text": [
      "Starttime is : 2019-02-01 22:14:21.019484\n",
      "Endtime   is : 2019-02-01 22:14:27.925795\n"
     ]
    }
   ],
   "source": [
    "# Import the DecisionTreeClassifier.\n",
    "from sklearn import tree\n",
    "\n",
    "# Set the start time of the current cell run.\n",
    "starttime_dt_avgw2v = datetime.datetime.now()\n",
    "\n",
    "# The best value of the hyper-parameter depth-tree.\n",
    "optimal_depthtree = 10\n",
    "\n",
    "# The best value of the hyper-parameter minimum_samplesplit.\n",
    "optimal_minsamplesplit = 500\n",
    "\n",
    "# Instantiate the DecisionTree model with optimal hyper-paramters.\n",
    "dt_optimal = _\n",
    "tree.DecisionTreeClassifier(criterion='gini',        # metric to measure quality of the split.\n",
    "                            splitter = 'best',       # strategy used to split at each node.\n",
    "                            max_depth=(optimal_depthtree), # Hyper-parameter, \"Depth\" of the\n",
    "                                                           # current iteration.\n",
    "                            min_samples_split = (optimal_minsamplesplit), # Hyper-parameter, \n",
    "                                                                          # \"minimum sample split\" \n",
    "                                                                          # of the current iteration.\n",
    "                            class_weight='balanced') # uses the values of y to automatically \n",
    "                                                     # adjust weights in the input data.\n",
    "\n",
    "dt_optimal.fit(X_train_stdzd, Y_train)  # fit the model on the training set.\n",
    "Y_pred_test = dt_optimal.predict(X_test_stdzd)  # predict,response from the DecisionTree model.\n",
    "Y_pred_train_pb = dt_optimal.predict_proba(X_train_stdzd)[:, 1] # predict class probabilities on the trainset.\n",
    "Y_pred_cv_pb = dt_optimal.predict_proba(X_cv_stdzd)[:, 1]  # predict class probabilities on the cvset.\n",
    "Y_pred_test_pb = dt_optimal.predict_proba(X_test_stdzd)[:, 1] # predict class probabilities on the testset.\n",
    "\n",
    "# Set the end time of the current cell run.\n",
    "endtime_dt_avgw2v = datetime.datetime.now()\n",
    "\n",
    "# Print the cell run duration.\n",
    "print(\"Starttime is : {}\".format(starttime_dt_avgw2v))\n",
    "print(\"Endtime   is : {}\".format(endtime_dt_avgw2v))"
   ]
  },
  {
   "cell_type": "markdown",
   "metadata": {},
   "source": [
    "#### [5.3.10] : Plot the ROC Curve."
   ]
  },
  {
   "cell_type": "code",
   "execution_count": 72,
   "metadata": {},
   "outputs": [
    {
     "data": {
      "image/png": "[encoded data removed]",
      "text/plain": [
       "<Figure size 720x360 with 1 Axes>"
      ]
     },
     "metadata": {},
     "output_type": "display_data"
    }
   ],
   "source": [
    "# Import the modules\n",
    "from sklearn.metrics import roc_curve\n",
    "import matplotlib.pyplot as plt\n",
    "\n",
    "# Calculate the RoC curve\n",
    "fprTest, tprTest, thresholdsTest = roc_curve(Y_test,Y_pred_test_pb,pos_label=1) # compute the test roc curve.\n",
    "fprCV, tprCV, thresholdsCV = roc_curve(Y_cv,Y_pred_cv_pb,pos_label=1)           # compute the cv roc curve.\n",
    "fprTrain, tprTrain, thresholdsTrain = roc_curve(Y_train,Y_pred_train_pb,pos_label=1) # compute the train roc curve.\n",
    "\n",
    "plt.figure(figsize=(10,5))                                            # set the figure size.\n",
    "plt.plot([0, 1], [0, 1], linestyle='--',label=\"50% probability line\") # plot the 50% probability line.\n",
    "plt.plot(fprTrain, tprTrain, marker='.',label=\"Train AUC\")            # plot the train roc curve for the model.\n",
    "plt.plot(fprCV, tprCV, marker='.',label=\"CV AUC\")                     # plot the cv roc curve for the model.\n",
    "plt.plot(fprTest, tprTest, marker='.',label=\"Test AUC\")               # plot the test roc curve for the model.\n",
    "plt.title(\"ROC Curve.\")                                               # set the title of the plot.\n",
    "plt.xlabel(\"False Positive Rate\")                                     # set the x label of the plot.\n",
    "plt.ylabel(\"True Positive Rate\")                                      # set the y label of the plot.\n",
    "plt.legend()                                                          # set the legend\n",
    "plt.show()                                                            # show the plot."
   ]
  },
  {
   "cell_type": "markdown",
   "metadata": {},
   "source": [
    "#### [5.3.11] Plot the classifier performance metrics."
   ]
  },
  {
   "cell_type": "code",
   "execution_count": 73,
   "metadata": {},
   "outputs": [
    {
     "data": {
      "image/png": "[encoded data removed]",
      "text/plain": [
       "<Figure size 360x360 with 2 Axes>"
      ]
     },
     "metadata": {},
     "output_type": "display_data"
    },
    {
     "name": "stdout",
     "output_type": "stream",
     "text": [
      "\n",
      "The class composition in the testset is :\n",
      "1    16442\n",
      "0     3558\n",
      "Name: Comment, dtype: int64\n"
     ]
    }
   ],
   "source": [
    "# evaluate the model and report the metrics.\n",
    "from sklearn.metrics import confusion_matrix\n",
    "conf_mat = confusion_matrix(Y_test, Y_pred_test)\n",
    "fig, ax = plt.subplots(figsize=(5,5))\n",
    "sns.heatmap(conf_mat, annot=True, fmt='d'\n",
    "            ,xticklabels=['negative','positive'], yticklabels=['negative','positive'])\n",
    "plt.title('Confusion Matrix : (Vectorizer = AvgWord2Vec)')\n",
    "plt.ylabel('Actual')\n",
    "plt.xlabel('Predicted')\n",
    "plt.show()\n",
    "\n",
    "#Class composition in the testset.\n",
    "dfYTest = pd.DataFrame(list(Y_test),columns=['Comment'])\n",
    "print(\"\\nThe class composition in the testset is :\")\n",
    "print(dfYTest[\"Comment\"].value_counts())"
   ]
  },
  {
   "cell_type": "code",
   "execution_count": null,
   "metadata": {},
   "outputs": [],
   "source": []
  },
  {
   "cell_type": "markdown",
   "metadata": {},
   "source": [
    "#### [5.3.12] : Load metrics into the summary table for AvgWord2Vec."
   ]
  },
  {
   "cell_type": "code",
   "execution_count": 74,
   "metadata": {},
   "outputs": [],
   "source": [
    "# Import the metrics module.\n",
    "from sklearn.metrics import accuracy_score\n",
    "from sklearn.metrics import precision_score\n",
    "from sklearn.metrics import recall_score\n",
    "from sklearn.metrics import f1_score\n",
    "from sklearn.metrics import roc_auc_score\n",
    "\n",
    "# Add the classification metrics to the summary table.\n",
    "summaryTable.add_row(['AvgWord2Vec',optimal_depthtree,optimal_minsamplesplit,'Accuracy',accuracy_score(Y_test,Y_pred_test)])\n",
    "summaryTable.add_row(['',optimal_depthtree,optimal_minsamplesplit,'Precision',precision_score(Y_test,Y_pred_test)])\n",
    "summaryTable.add_row(['',optimal_depthtree,optimal_minsamplesplit,'Recall',recall_score(Y_test,Y_pred_test)])\n",
    "summaryTable.add_row(['',optimal_depthtree,optimal_minsamplesplit,'F1 Score',f1_score(Y_test,Y_pred_test)])\n",
    "summaryTable.add_row(['',optimal_depthtree,optimal_minsamplesplit,'AUC Score',roc_auc_score(Y_test,Y_pred_test_pb)])\n",
    "summaryTable.add_row(['',optimal_depthtree,optimal_minsamplesplit,'ConfusionMatrix',confusion_matrix(Y_test, Y_pred_test)])\n",
    "summaryTable.add_row(['----------','----------','-----------','----------','----------'])\n"
   ]
  },
  {
   "cell_type": "code",
   "execution_count": null,
   "metadata": {},
   "outputs": [],
   "source": []
  },
  {
   "cell_type": "markdown",
   "metadata": {
    "colab_type": "text",
    "id": "PnwVzXytiWO7"
   },
   "source": [
    "## [5.4] Applying Decision Trees on TFIDF W2V,<font color='red'> SET 4</font>"
   ]
  },
  {
   "cell_type": "markdown",
   "metadata": {
    "colab": {},
    "colab_type": "code",
    "id": "YqODkVCgiWO7"
   },
   "source": [
    "#### [5.4.1] Convert review text into numeric vectors using TF-IDF_WW2F"
   ]
  },
  {
   "cell_type": "code",
   "execution_count": 76,
   "metadata": {},
   "outputs": [
    {
     "name": "stdout",
     "output_type": "stream",
     "text": [
      "the type of count vectorizer  <class 'scipy.sparse.csr.csr_matrix'>\n",
      "the shape of out text TFIDF vectorizer  (60000, 1192587)\n",
      "the number of unique words including both unigrams and bigrams  1192587\n"
     ]
    }
   ],
   "source": [
    "#TF-IDF\n",
    "# Apply TF-IDF vectorization only on the trainingset.\n",
    "tf_idf_vect = TfidfVectorizer(dtype='float64',ngram_range=(1,2))\n",
    "\n",
    "#Train you tf-idf vectorizer on the train data.\n",
    "final_tf_idf = tf_idf_vect.fit_transform(X_train.values.astype('U'))\n",
    "\n",
    "#Print the details.\n",
    "print(\"the type of count vectorizer \",type(final_tf_idf))\n",
    "print(\"the shape of out text TFIDF vectorizer \",final_tf_idf.get_shape())\n",
    "print(\"the number of unique words including both unigrams and bigrams \", final_tf_idf.get_shape()[1])"
   ]
  },
  {
   "cell_type": "markdown",
   "metadata": {},
   "source": [
    "#### [5.4.2] Use the TF-IDF vectorizer trained in the preceding step to convert cross-validation and test set to vectors."
   ]
  },
  {
   "cell_type": "code",
   "execution_count": 77,
   "metadata": {},
   "outputs": [
    {
     "name": "stdout",
     "output_type": "stream",
     "text": [
      "the type of count vectorizer  <class 'scipy.sparse.csr.csr_matrix'>\n",
      "the shape of out text TF-IDF vectorizer  (20000, 1192587)\n",
      "the number of unique words  1192587\n",
      "the type of count vectorizer  <class 'scipy.sparse.csr.csr_matrix'>\n",
      "the shape of out text TF-IDF vectorizer  (20000, 1192587)\n",
      "the number of unique words  1192587\n"
     ]
    }
   ],
   "source": [
    "#use the same countvectorizer on the cross-validation set.\n",
    "final_tf_idf_cvset = tf_idf_vect.transform(X_cv.values)\n",
    "\n",
    "#Print the details.\n",
    "print(\"the type of count vectorizer \",type(final_tf_idf_cvset))\n",
    "print(\"the shape of out text TF-IDF vectorizer \",final_tf_idf_cvset.get_shape())\n",
    "print(\"the number of unique words \", final_tf_idf_cvset.get_shape()[1])\n",
    "\n",
    "#use the same countvectorizer on the test set.\n",
    "final_tf_idf_testset = tf_idf_vect.transform(X_test.values)\n",
    "\n",
    "#Print the details.\n",
    "print(\"the type of count vectorizer \",type(final_tf_idf_testset))\n",
    "print(\"the shape of out text TF-IDF vectorizer \",final_tf_idf_testset.get_shape())\n",
    "print(\"the number of unique words \", final_tf_idf_testset.get_shape()[1])\n",
    "\n",
    "# we are converting a dictionary with word as a key, and the idf as a value\n",
    "dictionary = dict(zip(tf_idf_vect.get_feature_names(), list(tf_idf_vect.idf_)))\n"
   ]
  },
  {
   "cell_type": "markdown",
   "metadata": {},
   "source": [
    "#### [5.4.3] Build the list of sentences for the training,crossvalidation and test set respectively."
   ]
  },
  {
   "cell_type": "code",
   "execution_count": 78,
   "metadata": {},
   "outputs": [],
   "source": [
    "# Build the list of sentences from the training set.\n",
    "list_of_sent=[]                           # List to store the sentences from the Review comments.\n",
    "for sent in X_train.values.astype('U'):   # Loop through the Review comments, one at a time.\n",
    "    list_of_sent.append(sent.split())     # Split the Review comments into sentences and store \n",
    "                                          # them in the List.\n",
    "\n",
    "# Build the list of sentences from the cross-validation set.\n",
    "list_of_sent_cv=[]                          # List to store the sentences from the Review comments.\n",
    "for sent in X_cv.values:                    # Loop through the Review comments, one at a time.\n",
    "    list_of_sent_cv.append(sent.split())    # Split the Review comments into sentences and store them\n",
    "                                            # in the List.\n",
    "\n",
    "# Build the list of sentences from the test set.\n",
    "list_of_sent_test=[]                        # List to store the sentences from the Review comments.\n",
    "for sent in X_test.values:                  # Loop through the Review comments, one at a time.\n",
    "    list_of_sent_test.append(sent.split())  # Split the Review comments into sentences and store \n",
    "                                            # them in the List."
   ]
  },
  {
   "cell_type": "markdown",
   "metadata": {},
   "source": [
    "#### [5.4.4] Train the Word2Vec model on the training set alone."
   ]
  },
  {
   "cell_type": "code",
   "execution_count": 79,
   "metadata": {},
   "outputs": [
    {
     "name": "stdout",
     "output_type": "stream",
     "text": [
      "number of words that occured minimum 5 times  15844\n",
      "sample words  ['big', 'lover', 'fig', 'jam', 'unique', 'flavor', 'kind', 'mix', 'light', 'figs', 'dark', 'mission', 'must', 'great', 'product', 'good', 'price', 'definitely', 'ordering', 'used', 'bottles', 'ordered', 'expected', 'box', 'full', 'fortune', 'cookies', 'like', 'one', 'nonetheless', 'got', 'small', 'tasted', 'weird', 'okay', 'not', 'best', 'reviewing', 'review', 'amazon', 'checked', 'label', 'container', 'sure', 'enough', 'contains', 'propylene', 'glycol', 'top', 'ingredients']\n"
     ]
    }
   ],
   "source": [
    "# min_count = 5 considers only words that occured atleast 5 times\n",
    "# Word2Vec Syntax : Word2Vec(list,word_repeat_count,dimension_of_each_word_vector,Number_of_Processor_cores)\n",
    "\n",
    "# Instantiate the Word2Vec vectorizer.\n",
    "w2v_model=Word2Vec(list_of_sent,min_count=5,size=50, workers=4)\n",
    "# Get the vocabulary. \n",
    "w2v_words = list(w2v_model.wv.vocab)\n",
    "# Print the details.\n",
    "print(\"number of words that occured minimum 5 times \",len(w2v_words))\n",
    "print(\"sample words \", w2v_words[0:50])"
   ]
  },
  {
   "cell_type": "markdown",
   "metadata": {},
   "source": [
    "#### [5.4.5] Train the TF-IDF Weighted Word2Vec on the training set."
   ]
  },
  {
   "cell_type": "code",
   "execution_count": 80,
   "metadata": {},
   "outputs": [
    {
     "name": "stderr",
     "output_type": "stream",
     "text": [
      "100%|██████████████████████████████████████████████████████████████████████████████████████████████████████████████████████████████████████████████████████████████████████| 60000/60000 [04:23<00:00, 241.45it/s]\n"
     ]
    }
   ],
   "source": [
    "# TF-IDF weighted Word2Vec\n",
    "tfidf_feat = tf_idf_vect.get_feature_names() # tfidf words/col-names\n",
    "# final_tf_idf is the sparse matrix with row= sentence, col=word and cell_val = tfidf\n",
    "\n",
    "tfidf_sent_vectors = [];              # the tfidf-w2v for each sentence/review is stored in this list\n",
    "row=0;\n",
    "for sent in tqdm(list_of_sent):       # for each review/sentence\n",
    "    sent_vec = np.zeros(50)           # as word vectors are of zero length\n",
    "    weight_sum =0;                    # num of words with a valid vector in the sentence/review\n",
    "    for word in sent:                 # for each word in a review/sentence\n",
    "        #print(word)\n",
    "        if word in w2v_words:\n",
    "            vec = w2v_model.wv[word]  # Vector representation of the word.\n",
    "            \n",
    "            # dictionary[word] = idf value of word in whole corpus\n",
    "            # sent.count(word) = tf values of word in this review\n",
    "            tfidf_avgw2v = dictionary[word]*(sent.count(word)/len(sent))   # Compute the weights for\n",
    "                                                                           # Weighted Average.\n",
    "            \n",
    "            # Avg. Word2Vec = ((W2V(v1)*w1)+(W2V(v2)*w2)+(W2V(v3)*w3)+...... +(W2V(v364171)*w364171) / \n",
    "            #                  Sum(w1,w2,..w364171)            \n",
    "            sent_vec += (vec * tfidf_avgw2v)  # Compute the numerator part of the above formula.\n",
    "            weight_sum += tfidf_avgw2v        # Compute the denominator part of the above formula.\n",
    "            \n",
    "    if weight_sum != 0:\n",
    "        sent_vec /= weight_sum                # Numerator/Denominator to get the Weighted Average.\n",
    "    tfidf_sent_vectors.append(sent_vec)       # Add this to the List.\n",
    "    row += 1\n"
   ]
  },
  {
   "cell_type": "markdown",
   "metadata": {},
   "source": [
    "#### [5.4.6] Use the TF-IDF Weigthed Word2Vec model trained on training set to Cross-Validation set."
   ]
  },
  {
   "cell_type": "code",
   "execution_count": 81,
   "metadata": {},
   "outputs": [
    {
     "name": "stderr",
     "output_type": "stream",
     "text": [
      "100%|██████████████████████████████████████████████████████████████████████████████████████████████████████████████████████████████████████████████████████████████████████| 20000/20000 [01:31<00:00, 219.63it/s]\n"
     ]
    }
   ],
   "source": [
    "# TF-IDF weighted Word2Vec\n",
    "tfidf_feat = tf_idf_vect.get_feature_names() # tfidf words/col-names\n",
    "# final_tf_idf is the sparse matrix with row= sentence, col=word and cell_val = tfidf\n",
    "\n",
    "tfidf_sent_vectors_cv = [];              # the tfidf-w2v for each sentence/review is stored in this list\n",
    "row=0;\n",
    "for sent in tqdm(list_of_sent_cv):    # for each review/sentence \n",
    "    sent_vec = np.zeros(50)           # as word vectors are of zero length\n",
    "    weight_sum =0;                    # num of words with a valid vector in the sentence/review\n",
    "    for word in sent:                 # for each word in a review/sentence\n",
    "        if word in w2v_words:\n",
    "            vec = w2v_model.wv[word]  # Vector representation of the word.\n",
    "            \n",
    "            # dictionary[word] = idf value of word in whole courpus\n",
    "            # sent.count(word) = tf values of word in this review\n",
    "            tfidf_avgw2v = dictionary[word]*(sent.count(word)/len(sent))   # Compute the weights for\n",
    "                                                                           # Weighted Average.\n",
    "            \n",
    "            # Avg. Word2Vec = ((W2V(v1)*w1)+(W2V(v2)*w2)+(W2V(v3)*w3)+...... +(W2V(v364171)*w364171) /\n",
    "            #                  Sum(w1,w2,..w364171)            \n",
    "            sent_vec += (vec * tfidf_avgw2v)  # Compute the numerator part of the above formula.\n",
    "            weight_sum += tfidf_avgw2v        # Compute the denominator part of the above formula.\n",
    "            \n",
    "    if weight_sum != 0:\n",
    "        sent_vec /= weight_sum                # Numerator/Denominator to get the Weighted Average.\n",
    "    tfidf_sent_vectors_cv.append(sent_vec)    # Add this to the List.\n",
    "    row += 1"
   ]
  },
  {
   "cell_type": "markdown",
   "metadata": {},
   "source": [
    "#### [5.4.7] Use the TF-IDF Weigthed Word2Vec model trained on training set to Test set."
   ]
  },
  {
   "cell_type": "code",
   "execution_count": 82,
   "metadata": {},
   "outputs": [
    {
     "name": "stderr",
     "output_type": "stream",
     "text": [
      "100%|██████████████████████████████████████████████████████████████████████████████████████████████████████████████████████████████████████████████████████████████████████| 20000/20000 [01:31<00:00, 218.38it/s]\n"
     ]
    }
   ],
   "source": [
    "# TF-IDF weighted Word2Vec\n",
    "tfidf_feat = tf_idf_vect.get_feature_names() # tfidf words/col-names\n",
    "# final_tf_idf is the sparse matrix with row= sentence, col=word and cell_val = tfidf\n",
    "\n",
    "tfidf_sent_vectors_test = [];              # the tfidf-w2v for each sentence/review is stored in this list\n",
    "row=0;\n",
    "for sent in tqdm(list_of_sent_test):  # for each review/sentence \n",
    "    sent_vec = np.zeros(50)           # as word vectors are of zero length\n",
    "    weight_sum =0;                    # num of words with a valid vector in the sentence/review\n",
    "    for word in sent:                 # for each word in a review/sentence\n",
    "        if word in w2v_words:\n",
    "            vec = w2v_model.wv[word]  # Vector representation of the word.\n",
    "            \n",
    "            # dictionary[word] = idf value of word in whole courpus\n",
    "            # sent.count(word) = tf values of word in this review\n",
    "            tfidf_avgw2v = dictionary[word]*(sent.count(word)/len(sent))   # Compute the weights for\n",
    "                                                                           # Weighted Average.\n",
    "            \n",
    "            # Avg. Word2Vec = ((W2V(v1)*w1)+(W2V(v2)*w2)+(W2V(v3)*w3)+...... +(W2V(v364171)*w364171) / \n",
    "            #                   Sum(w1,w2,..w364171)            \n",
    "            sent_vec += (vec * tfidf_avgw2v)  # Compute the numerator part of the above formula.\n",
    "            weight_sum += tfidf_avgw2v        # Compute the denominator part of the above formula.\n",
    "            \n",
    "    if weight_sum != 0:\n",
    "        sent_vec /= weight_sum                # Numerator/Denominator to get the Weighted Average.\n",
    "    tfidf_sent_vectors_test.append(sent_vec)  # Add this to the List.\n",
    "    row += 1"
   ]
  },
  {
   "cell_type": "markdown",
   "metadata": {},
   "source": [
    "#### [5.4.8] Standardize / Normalize the data"
   ]
  },
  {
   "cell_type": "code",
   "execution_count": 83,
   "metadata": {},
   "outputs": [],
   "source": [
    "# Data-preprocessing: Normalizing the data\n",
    "from sklearn.preprocessing import Normalizer\n",
    "\n",
    "# Initialize the normalizer.\n",
    "normalizer = Normalizer()\n",
    "\n",
    "#Standardize on the train data.\n",
    "X_train_stdzd = normalizer.fit_transform(tfidf_sent_vectors)\n",
    "\n",
    "#Standardize the cv and test data.\n",
    "X_cv_stdzd    = normalizer.transform(tfidf_sent_vectors_cv)    #use the same Normalizer on the cv set.\n",
    "X_test_stdzd  = normalizer.transform(tfidf_sent_vectors_test)  #use the same Normalizer on the test set."
   ]
  },
  {
   "cell_type": "code",
   "execution_count": null,
   "metadata": {},
   "outputs": [],
   "source": []
  },
  {
   "cell_type": "markdown",
   "metadata": {},
   "source": [
    "#### [5.4.9] Hyper-Parameter Tuning : Using the cross-validation dataset to calculate the optimal 'depth of tree' in TFIDF_AvgWord2Vec case."
   ]
  },
  {
   "cell_type": "code",
   "execution_count": 84,
   "metadata": {},
   "outputs": [
    {
     "name": "stdout",
     "output_type": "stream",
     "text": [
      "Depth :\n",
      "[1, 5, 10, 50, 100, 500]\n",
      "\n",
      "Log of Depth :\n",
      "[0.0, 1.6094379124341003, 2.302585092994046, 3.912023005428146, 4.605170185988092, 6.214608098422191]\n",
      "\n",
      "TrainingSet AuC :\n",
      "[0.6141442344211706, 0.791568879587354, 0.8488437533452087, 0.857069483017327, 0.8570075229576395, 0.8570075229576395]\n",
      "\n",
      "CVset AuC :\n",
      "[0.6038093148052082, 0.7619463654779124, 0.7829862392068864, 0.7794979130458061, 0.7797686092369255, 0.7795151141879345]\n",
      "\n",
      "Plot of AuC vs Log of Depth:\n"
     ]
    },
    {
     "data": {
      "image/png": "[encoded data removed]",
      "text/plain": [
       "<Figure size 720x360 with 1 Axes>"
      ]
     },
     "metadata": {},
     "output_type": "display_data"
    },
    {
     "name": "stdout",
     "output_type": "stream",
     "text": [
      "Starttime is : 2019-02-01 22:25:44.386172\n",
      "Endtime   is : 2019-02-01 22:26:25.518635\n"
     ]
    }
   ],
   "source": [
    "import matplotlib.pyplot as plt\n",
    "# plot inline\n",
    "%matplotlib inline  \n",
    "\n",
    "# Import the DecisionTreeClassifier .\n",
    "from sklearn import tree\n",
    "# Import the metrics module.\n",
    "from sklearn.metrics import roc_auc_score\n",
    "\n",
    "# Set the start time of the current cell run.\n",
    "starttime_dt_tfidf_avgw2v = datetime.datetime.now()\n",
    "\n",
    "# Set the range for the hyper-parameters.\n",
    "# Experiment with depth ranges in [1, 5, 10, 50, 100, 500, 100].\n",
    "# Here depth (tree-depth) is the hyper-parameter of the DecisionTreeClassifier\n",
    "\n",
    "hp_depth = [1, 5, 10, 50, 100, 500]\n",
    "\n",
    "# Use the cross-validation dataset to determine the best hyper-parameter depth (tree-depth).\n",
    "plot_X_train = []\n",
    "plot_lgX_train = []\n",
    "plot_Y_train = []\n",
    "plot_Y_cv = []\n",
    "\n",
    "# Loop through various values of depth.\n",
    "for i in hp_depth:\n",
    "    dt_optimal = _\n",
    "    tree.DecisionTreeClassifier(criterion='gini',          # metric to measure quality of the split.\n",
    "                                splitter = 'best',         # strategy used to split at each node.\n",
    "                                max_depth=(i),             # Hyper-parameter, \"Depth\" of the current iteration.\n",
    "                                min_samples_split = (500), # Hyper-parameter, \"minimum sample split\" of the \n",
    "                                                           # current iteration.\n",
    "                                class_weight='balanced')   # uses the values of y to automatically \n",
    "                                                           # adjust weights in the input data.\n",
    "\n",
    "    dt_optimal.fit(X_train_stdzd, Y_train)                       # fit the model on the training set.\n",
    "    Y_pred_train = dt_optimal.predict_proba(X_train_stdzd)[:, 1] # predict class probabilities in training set.    \n",
    "    Y_pred_cv = dt_optimal.predict_proba(X_cv_stdzd)[:, 1]       # predict class probabilities in CV set.\n",
    "\n",
    "    # Compute AuC metric.\n",
    "    plot_X_train.append(i)                                  # plot (depth,min_sample_split) on the x-axis.\n",
    "    plot_lgX_train.append(np.log(i))                        # plot log(depth,min_sample_split) on the x-axis.\n",
    "    # TrainingSet\n",
    "    plot_Y_train.append(roc_auc_score(Y_train,Y_pred_train)) # plot trainingset auc score on the y-axis.\n",
    "    # CV set\n",
    "    plot_Y_cv.append(roc_auc_score(Y_cv,Y_pred_cv))          # plot cvset auc score on the y-axis.\n",
    "\n",
    "\n",
    "\n",
    "# print X,Y\n",
    "print(\"Depth :\\n{}\".format(plot_X_train))\n",
    "print(\"\\nLog of Depth :\\n{}\".format(plot_lgX_train))\n",
    "print(\"\\nTrainingSet AuC :\\n{}\".format(plot_Y_train))\n",
    "print(\"\\nCVset AuC :\\n{}\".format(plot_Y_cv))\n",
    "\n",
    "print(\"\\nPlot of AuC vs Log of Depth:\")\n",
    "# Plot X-axis = log(Depth),Y-axis = TrainingSet and CVSet AuC to determine the best hyper-parameter combo.\n",
    "plt.figure(figsize=(10,5))                                                 # set the figure size.\n",
    "plt.plot(plot_lgX_train,plot_Y_train, 'b--',label=\"TrainingSet AUC\")       # plotting depth,trainingAuC \n",
    "                                                                           # separately. \n",
    "plt.plot(plot_lgX_train,plot_Y_cv, 'r--',label=\"CrossvalidationSet AUC\")   # plotting depth,CrossValidationAuC\n",
    "                                                                           # separately. \n",
    "\n",
    "plt.title(\"Plot of AUC vs log(Depth) .\")  # Set the title of the plot.\n",
    "plt.xlabel(\"log(Depth)\")                  # Set the x label of the plot.\n",
    "plt.ylabel(\"AuC\")                         # Set the y label of the plot.\n",
    "\n",
    "# Display the plot.\n",
    "plt.legend()                              # set the legend\n",
    "plt.show()                                # display the plot.\n",
    "\n",
    "# Set the end time of the current cell run.\n",
    "endtime_dt_tfidf_avgw2v = datetime.datetime.now()\n",
    "\n",
    "# Print the cell run duration.\n",
    "print(\"Starttime is : {}\".format(starttime_dt_tfidf_avgw2v))\n",
    "print(\"Endtime   is : {}\".format(endtime_dt_tfidf_avgw2v))\n"
   ]
  },
  {
   "cell_type": "code",
   "execution_count": null,
   "metadata": {},
   "outputs": [],
   "source": []
  },
  {
   "cell_type": "markdown",
   "metadata": {},
   "source": [
    "#### NOTE :\n",
    "    . If the training score and the validation score are both low, the classifier is underfitting. \n",
    "    . If the training score is high and the validation score is low, the classifier is overfitting.\n",
    "    . Otherwise it is working very well. \n",
    "\n",
    "\n",
    "#### OBSERVATION :  When the tree depth = 10, then training and cross-validation AUC is high, beyond which the training AuC continues to increase while the cross-validation AuC decreases. At tree depth = 10, the model neither Overfits nor Underfits.\n",
    "#### The optimal hyper-parameter, Depth choosen is shown below :\n",
    "    . Depth of tree = 10\n",
    "    . Training AUC Score = 0.8488\n",
    "    . CrossValidation AUC Score = 0.7829\n"
   ]
  },
  {
   "cell_type": "code",
   "execution_count": null,
   "metadata": {},
   "outputs": [],
   "source": []
  },
  {
   "cell_type": "markdown",
   "metadata": {},
   "source": [
    "#### [5.4.10] Hyper-Parameter Tuning : Using the cross-validation dataset to calculate the optimal 'min_sample_split' in AvgWord2Vec case."
   ]
  },
  {
   "cell_type": "code",
   "execution_count": 85,
   "metadata": {},
   "outputs": [
    {
     "name": "stdout",
     "output_type": "stream",
     "text": [
      "Min_SampleSplit :\n",
      "[5, 10, 100, 500]\n",
      "\n",
      "Log of Min_SampleSplit :\n",
      "[1.6094379124341003, 2.302585092994046, 4.605170185988092, 6.214608098422191]\n",
      "\n",
      "TrainingSet AuC :\n",
      "[0.9021620729288069, 0.900902355365864, 0.8843504333610055, 0.8488437533452087]\n",
      "\n",
      "CVset AuC :\n",
      "[0.7531762895184613, 0.7523385499680086, 0.7743008166399422, 0.7829862392068864]\n",
      "\n",
      "Plot of AuC vs Log of Min_SampleSplit:\n"
     ]
    },
    {
     "data": {
      "image/png": "[encoded data removed]",
      "text/plain": [
       "<Figure size 720x360 with 1 Axes>"
      ]
     },
     "metadata": {},
     "output_type": "display_data"
    },
    {
     "name": "stdout",
     "output_type": "stream",
     "text": [
      "Starttime is : 2019-02-01 22:31:59.099437\n",
      "Endtime   is : 2019-02-01 22:32:29.679421\n"
     ]
    }
   ],
   "source": [
    "import matplotlib.pyplot as plt\n",
    "# plot inline\n",
    "%matplotlib inline  \n",
    "\n",
    "# Import the DecisionTreeClassifier .\n",
    "from sklearn import tree\n",
    "# Import the metrics module.\n",
    "from sklearn.metrics import roc_auc_score\n",
    "\n",
    "# Set the start time of the current cell run.\n",
    "starttime_dt_tfidf_avgw2v = datetime.datetime.now()\n",
    "\n",
    "# Set the range for the hyper-parameters.\n",
    "# Experiment with min_sample_split ranges in [5, 10,100,500].\n",
    "# Here min_samples_split is the other hyper-parameter of the DecisionTreeClassifier\n",
    "\n",
    "hp_min_samples_split = [5, 10, 100, 500]\n",
    "\n",
    "# Use the cross-validation dataset to determine the best hyper-parameter min_sample_split.\n",
    "plot_X_train = []\n",
    "plot_lgX_train = []\n",
    "plot_Y_train = []\n",
    "plot_Y_cv = []\n",
    "\n",
    "# Loop through various values of min_samples_split.\n",
    "for i in hp_min_samples_split:\n",
    "    dt_optimal = _\n",
    "    tree.DecisionTreeClassifier(criterion='gini',          # metric to measure quality of the split.\n",
    "                                splitter = 'best',         # strategy used to split at each node.\n",
    "                                max_depth=(10),            # Hyper-parameter, \"Depth\" of the current iteration.\n",
    "                                min_samples_split = (i),   # Hyper-parameter, \"minimum sample split\" of the \n",
    "                                                           # current iteration.\n",
    "                                class_weight='balanced')   # uses the values of y to automatically \n",
    "                                                           # adjust weights in the input data.\n",
    "\n",
    "    dt_optimal.fit(X_train_stdzd, Y_train)                       # fit the model on the training set.\n",
    "    Y_pred_train = dt_optimal.predict_proba(X_train_stdzd)[:, 1] # predict class probabilities in training set.    \n",
    "    Y_pred_cv = dt_optimal.predict_proba(X_cv_stdzd)[:, 1]       # predict class probabilities in CV set.\n",
    "\n",
    "    # Compute AuC metric.\n",
    "    plot_X_train.append(i)                # plot (min_sample_split) on the x-axis.\n",
    "    plot_lgX_train.append(np.log(i))      # plot log(min_sample_split) on the x-axis.\n",
    "    # TrainingSet\n",
    "    plot_Y_train.append(roc_auc_score(Y_train,Y_pred_train)) # plot trainingset auc score on the y-axis.\n",
    "    # CV set\n",
    "    plot_Y_cv.append(roc_auc_score(Y_cv,Y_pred_cv))          # plot cvset auc score on the y-axis.\n",
    "\n",
    "\n",
    "\n",
    "# print X,Y\n",
    "print(\"Min_SampleSplit :\\n{}\".format(plot_X_train))\n",
    "print(\"\\nLog of Min_SampleSplit :\\n{}\".format(plot_lgX_train))\n",
    "print(\"\\nTrainingSet AuC :\\n{}\".format(plot_Y_train))\n",
    "print(\"\\nCVset AuC :\\n{}\".format(plot_Y_cv))\n",
    "\n",
    "print(\"\\nPlot of AuC vs Log of Min_SampleSplit:\")\n",
    "# Plot X-axis = log(Min_SampleSplit),Y-axis = TrainingSet and CVSet AuC to determine the best hyper-parameter.\n",
    "plt.figure(figsize=(10,5))                                                 # set the figure size.\n",
    "plt.plot(plot_lgX_train,plot_Y_train, 'b--',label=\"TrainingSet AUC\")       # plotting Min_SampleSplit,trainingAuC\n",
    "                                                                           # separately. \n",
    "plt.plot(plot_lgX_train,plot_Y_cv, 'r--',label=\"CrossValidationSet AUC\")   # plotting Min_SampleSplit,CrossValidationAuC\n",
    "                                                                           # separately. \n",
    "\n",
    "plt.title(\"Plot of AUC vs log(Min_SampleSplit) .\")  # Set the title of the plot.\n",
    "plt.xlabel(\"log(Min_SampleSplit)\")                  # Set the x label of the plot.\n",
    "plt.ylabel(\"AUC\")                                   # Set the y label of the plot.\n",
    "\n",
    "# Display the plot.\n",
    "plt.legend()                              # set the legend\n",
    "plt.show()                                # display the plot.\n",
    "\n",
    "# Set the end time of the current cell run.\n",
    "endtime_dt_tfidf_avgw2v = datetime.datetime.now()\n",
    "\n",
    "# Print the cell run duration.\n",
    "print(\"Starttime is : {}\".format(starttime_dt_tfidf_avgw2v))\n",
    "print(\"Endtime   is : {}\".format(endtime_dt_tfidf_avgw2v))\n"
   ]
  },
  {
   "cell_type": "code",
   "execution_count": null,
   "metadata": {},
   "outputs": [],
   "source": []
  },
  {
   "cell_type": "markdown",
   "metadata": {},
   "source": [
    "#### NOTE :\n",
    "    . If the training score and the validation score are both low, the classifier is underfitting. \n",
    "    . If the training score is high and the validation score is low, the classifier is overfitting.\n",
    "    . Otherwise it is working very well. \n",
    "\n",
    "#### OBSERVATION :  When the min_sample_split = 500, then training AUC is low and cross-validation AUC is high. At this point the model neither Overfits nor Underfits.\n",
    "#### The optimal hyper-parameter Min_Sample_Split choosen is shown below :\n",
    "    . Min_Sample_Split = 500\n",
    "    . Training AUC Score = 0.8488\n",
    "    . CV AUC Score = 0.7829\n"
   ]
  },
  {
   "cell_type": "code",
   "execution_count": null,
   "metadata": {},
   "outputs": [],
   "source": []
  },
  {
   "cell_type": "markdown",
   "metadata": {},
   "source": [
    "#### [5.4.11] : Train and Fit the DecisionTree classifier in the training set. Compute the performance metrics by predicting the model on the test set."
   ]
  },
  {
   "cell_type": "code",
   "execution_count": 86,
   "metadata": {},
   "outputs": [
    {
     "name": "stdout",
     "output_type": "stream",
     "text": [
      "Starttime is : 2019-02-01 22:33:46.353362\n",
      "Endtime   is : 2019-02-01 22:33:53.336171\n"
     ]
    }
   ],
   "source": [
    "# Import the DecisionTreeClassifier.\n",
    "from sklearn import tree\n",
    "\n",
    "# Set the start time of the current cell run.\n",
    "starttime_dt_tfidf_avgw2v = datetime.datetime.now()\n",
    "\n",
    "# The best value of the hyper-parameter depth-tree.\n",
    "optimal_depthtree = 10\n",
    "\n",
    "# The best value of the hyper-parameter minimum_samplesplit.\n",
    "optimal_minsamplesplit = 500\n",
    "\n",
    "# Instantiate the DecisionTree model with optimal hyper-paramters.\n",
    "dt_optimal = _\n",
    "tree.DecisionTreeClassifier(criterion='gini',        # metric to measure quality of the split.\n",
    "                            splitter = 'best',       # strategy used to split at each node.\n",
    "                            max_depth=(optimal_depthtree), # Hyper-parameter, \"Depth\" of the current\n",
    "                                                           # iteration.\n",
    "                            min_samples_split = (optimal_minsamplesplit), # Hyper-parameter, \n",
    "                                                                          # \"minimum sample split\" \n",
    "                                                                         # of the current iteration.\n",
    "                            class_weight='balanced') # uses the values of y to automatically \n",
    "                                                     # adjust weights in the input data.\n",
    "\n",
    "dt_optimal.fit(X_train_stdzd, Y_train)  # fit the model on the training set.\n",
    "Y_pred_test = dt_optimal.predict(X_test_stdzd)  # predict,response from the DecisionTree model.\n",
    "Y_pred_train_pb = dt_optimal.predict_proba(X_train_stdzd)[:, 1]# predict class probabilities on the trainset.\n",
    "Y_pred_cv_pb = dt_optimal.predict_proba(X_cv_stdzd)[:, 1]  # predict class probabilities on the cvset.\n",
    "Y_pred_test_pb = dt_optimal.predict_proba(X_test_stdzd)[:, 1] # predict class probabilities on the testset.\n",
    "\n",
    "# Set the end time of the current cell run.\n",
    "endtime_dt_tfidf_avgw2v = datetime.datetime.now()\n",
    "\n",
    "# Print the cell run duration.\n",
    "print(\"Starttime is : {}\".format(starttime_dt_tfidf_avgw2v))\n",
    "print(\"Endtime   is : {}\".format(endtime_dt_tfidf_avgw2v))"
   ]
  },
  {
   "cell_type": "markdown",
   "metadata": {},
   "source": [
    "#### [5.4.12] : Plot the ROC Curve."
   ]
  },
  {
   "cell_type": "code",
   "execution_count": 87,
   "metadata": {},
   "outputs": [
    {
     "data": {
      "image/png": "[encoded data removed]",
      "text/plain": [
       "<Figure size 720x360 with 1 Axes>"
      ]
     },
     "metadata": {},
     "output_type": "display_data"
    }
   ],
   "source": [
    "# Import the modules\n",
    "from sklearn.metrics import roc_curve\n",
    "import matplotlib.pyplot as plt\n",
    "\n",
    "# Calculate the RoC curve\n",
    "fprTest, tprTest, thresholdsTest = roc_curve(Y_test,Y_pred_test_pb,pos_label=1) # compute the test roc curve.\n",
    "fprCV, tprCV, thresholdsCV = roc_curve(Y_cv,Y_pred_cv_pb,pos_label=1)           # compute the cv roc curve.\n",
    "fprTrain, tprTrain, thresholdsTrain = roc_curve(Y_train,Y_pred_train_pb,pos_label=1) # compute the train roc\n",
    "                                                                                     # curve.\n",
    "\n",
    "plt.figure(figsize=(10,5))                                               # set the figure size.\n",
    "plt.plot([0, 1], [0, 1], linestyle='--',label=\"50% probability line\")    # plot the 50% probability line.\n",
    "plt.plot(fprTrain, tprTrain, marker='.',label=\"Train AUC\")      # plot the train roc curve for the model.\n",
    "plt.plot(fprCV, tprCV, marker='.',label=\"CV AUC\")               # plot the cv roc curve for the model.\n",
    "plt.plot(fprTest, tprTest, marker='.',label=\"Test AUC\")         # plot the test roc curve for the model.\n",
    "plt.title(\"ROC Curve.\")                                                  # set the title of the plot.\n",
    "plt.xlabel(\"False Positive Rate\")                                        # set the x label of the plot.\n",
    "plt.ylabel(\"True Positive Rate\")                                         # set the y label of the plot.\n",
    "plt.legend()                                                             # set the legend\n",
    "plt.show()                                                               # show the plot."
   ]
  },
  {
   "cell_type": "markdown",
   "metadata": {},
   "source": [
    "#### [5.4.12] Plot the classifier performance metrics."
   ]
  },
  {
   "cell_type": "code",
   "execution_count": 88,
   "metadata": {},
   "outputs": [
    {
     "data": {
      "image/png": "[encoded data removed]",
      "text/plain": [
       "<Figure size 360x360 with 2 Axes>"
      ]
     },
     "metadata": {},
     "output_type": "display_data"
    },
    {
     "name": "stdout",
     "output_type": "stream",
     "text": [
      "\n",
      "The class composition in the testset is :\n",
      "1    16442\n",
      "0     3558\n",
      "Name: Comment, dtype: int64\n"
     ]
    }
   ],
   "source": [
    "# evaluate the model and report the metrics.\n",
    "from sklearn.metrics import confusion_matrix\n",
    "conf_mat = confusion_matrix(Y_test, Y_pred_test)\n",
    "fig, ax = plt.subplots(figsize=(5,5))\n",
    "sns.heatmap(conf_mat, annot=True, fmt='d'\n",
    "            ,xticklabels=['negative','positive'], yticklabels=['negative','positive'])\n",
    "plt.title('Confusion Matrix : (Vectorizer = TFIDF-AvgWord2Vec)')\n",
    "plt.ylabel('Actual')\n",
    "plt.xlabel('Predicted')\n",
    "plt.show()\n",
    "\n",
    "#Class composition in the testset.\n",
    "dfYTest = pd.DataFrame(list(Y_test),columns=['Comment'])\n",
    "print(\"\\nThe class composition in the testset is :\")\n",
    "print(dfYTest[\"Comment\"].value_counts())"
   ]
  },
  {
   "cell_type": "code",
   "execution_count": null,
   "metadata": {},
   "outputs": [],
   "source": []
  },
  {
   "cell_type": "markdown",
   "metadata": {},
   "source": [
    "#### [5.4.14] : Load metrics into the summary table for TFIDF-AvgWord2Vec."
   ]
  },
  {
   "cell_type": "code",
   "execution_count": 99,
   "metadata": {},
   "outputs": [],
   "source": [
    "# Import the metrics module.\n",
    "from sklearn.metrics import accuracy_score\n",
    "from sklearn.metrics import precision_score\n",
    "from sklearn.metrics import recall_score\n",
    "from sklearn.metrics import f1_score\n",
    "from sklearn.metrics import roc_auc_score\n",
    "\n",
    "# Add the classification metrics to the summary table.\n",
    "summaryTable.add_row(['TFIDF-AvgWord2Vec',optimal_depthtree,optimal_minsamplesplit,'Accuracy',accuracy_score(Y_test,Y_pred_test)])\n",
    "summaryTable.add_row(['',optimal_depthtree,optimal_minsamplesplit,'Precision',precision_score(Y_test,Y_pred_test)])\n",
    "summaryTable.add_row(['',optimal_depthtree,optimal_minsamplesplit,'Recall',recall_score(Y_test,Y_pred_test)])\n",
    "summaryTable.add_row(['',optimal_depthtree,optimal_minsamplesplit,'F1 Score',f1_score(Y_test,Y_pred_test)])\n",
    "summaryTable.add_row(['',optimal_depthtree,optimal_minsamplesplit,'AUC Score',roc_auc_score(Y_test,Y_pred_test_pb)])\n",
    "summaryTable.add_row(['',optimal_depthtree,optimal_minsamplesplit,'ConfusionMatrix',confusion_matrix(Y_test, Y_pred_test)])\n",
    "summaryTable.add_row(['----------','----------','-----------','----------','----------'])\n"
   ]
  },
  {
   "cell_type": "code",
   "execution_count": null,
   "metadata": {},
   "outputs": [],
   "source": []
  },
  {
   "cell_type": "markdown",
   "metadata": {
    "colab_type": "text",
    "id": "Em-rF6u2iWO8"
   },
   "source": [
    "# [6] Conclusions"
   ]
  },
  {
   "cell_type": "code",
   "execution_count": 1,
   "metadata": {},
   "outputs": [],
   "source": [
    "from IPython.display import Image "
   ]
  },
  {
   "cell_type": "code",
   "execution_count": 2,
   "metadata": {},
   "outputs": [
    {
     "data": {
      "image/png": "[encoded data removed]",
      "text/plain": [
       "<IPython.core.display.Image object>"
      ]
     },
     "execution_count": 2,
     "metadata": {},
     "output_type": "execute_result"
    }
   ],
   "source": [
    "Image(filename='D:\\Plot\\SummaryTable_DecisionTree.PNG')"
   ]
  },
  {
   "cell_type": "code",
   "execution_count": null,
   "metadata": {
    "colab": {},
    "colab_type": "code",
    "id": "3Hnu2QziiWO9"
   },
   "outputs": [],
   "source": []
  },
  {
   "cell_type": "markdown",
   "metadata": {},
   "source": [
    "#### Based on the above table, the vectorizer that is found to be optimal is AverageWord2Vec, since its AUC is maximum relative to the other vectorizers and its FalsePositives and FalseNegatives in the confusion matrix is better when compared to the other vectorizers."
   ]
  },
  {
   "cell_type": "code",
   "execution_count": null,
   "metadata": {},
   "outputs": [],
   "source": []
  }
 ],
 "metadata": {
  "colab": {
   "collapsed_sections": [
    "NTwQITJKiWN5",
    "T_LFck8iiWOX",
    "mjfrB76yiWOa",
    "0tcbbZxSiWOd",
    "u566lt93iWOf",
    "mUNnof40iWOl",
    "heHLB_FCiWOm",
    "ylTn3LgiiWOo",
    "NVhl_V6MiWO5",
    "PnwVzXytiWO7"
   ],
   "name": "08 Amazon Fine Food Reviews Analysis_Decision Trees.ipynb",
   "provenance": [],
   "version": "0.3.2"
  },
  "kernelspec": {
   "display_name": "Python 3",
   "language": "python",
   "name": "python3"
  },
  "language_info": {
   "codemirror_mode": {
    "name": "ipython",
    "version": 3
   },
   "file_extension": ".py",
   "mimetype": "text/x-python",
   "name": "python",
   "nbconvert_exporter": "python",
   "pygments_lexer": "ipython3",
   "version": "3.6.4"
  }
 },
 "nbformat": 4,
 "nbformat_minor": 1
}
